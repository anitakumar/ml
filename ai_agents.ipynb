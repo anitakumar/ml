{
  "nbformat": 4,
  "nbformat_minor": 0,
  "metadata": {
    "colab": {
      "provenance": [],
      "authorship_tag": "ABX9TyMGL/11qIChgT969wLU6/aP",
      "include_colab_link": true
    },
    "kernelspec": {
      "name": "python3",
      "display_name": "Python 3"
    },
    "language_info": {
      "name": "python"
    }
  },
  "cells": [
    {
      "cell_type": "markdown",
      "metadata": {
        "id": "view-in-github",
        "colab_type": "text"
      },
      "source": [
        "<a href=\"https://colab.research.google.com/github/anitakumar/ml/blob/main/ai_agents.ipynb\" target=\"_parent\"><img src=\"https://colab.research.google.com/assets/colab-badge.svg\" alt=\"Open In Colab\"/></a>"
      ]
    },
    {
      "cell_type": "code",
      "execution_count": 1,
      "metadata": {
        "colab": {
          "base_uri": "https://localhost:8080/"
        },
        "id": "qy9ynZNXJ8hE",
        "outputId": "d9ba4bd7-2ae9-4723-af6a-9340858f31d9"
      },
      "outputs": [
        {
          "output_type": "stream",
          "name": "stdout",
          "text": [
            "Requirement already satisfied: langchain in /usr/local/lib/python3.10/dist-packages (0.2.15)\n",
            "Requirement already satisfied: openai in /usr/local/lib/python3.10/dist-packages (1.25.0)\n",
            "Requirement already satisfied: python-dotenv in /usr/local/lib/python3.10/dist-packages (1.0.1)\n",
            "Requirement already satisfied: PyYAML>=5.3 in /usr/local/lib/python3.10/dist-packages (from langchain) (6.0.2)\n",
            "Requirement already satisfied: SQLAlchemy<3,>=1.4 in /usr/local/lib/python3.10/dist-packages (from langchain) (2.0.32)\n",
            "Requirement already satisfied: aiohttp<4.0.0,>=3.8.3 in /usr/local/lib/python3.10/dist-packages (from langchain) (3.9.4)\n",
            "Requirement already satisfied: async-timeout<5.0.0,>=4.0.0 in /usr/local/lib/python3.10/dist-packages (from langchain) (4.0.3)\n",
            "Requirement already satisfied: langchain-core<0.3.0,>=0.2.35 in /usr/local/lib/python3.10/dist-packages (from langchain) (0.2.37)\n",
            "Requirement already satisfied: langchain-text-splitters<0.3.0,>=0.2.0 in /usr/local/lib/python3.10/dist-packages (from langchain) (0.2.2)\n",
            "Requirement already satisfied: langsmith<0.2.0,>=0.1.17 in /usr/local/lib/python3.10/dist-packages (from langchain) (0.1.108)\n",
            "Requirement already satisfied: numpy<2,>=1 in /usr/local/lib/python3.10/dist-packages (from langchain) (1.26.4)\n",
            "Requirement already satisfied: pydantic<3,>=1 in /usr/local/lib/python3.10/dist-packages (from langchain) (2.7.1)\n",
            "Requirement already satisfied: requests<3,>=2 in /usr/local/lib/python3.10/dist-packages (from langchain) (2.31.0)\n",
            "Requirement already satisfied: tenacity!=8.4.0,<9.0.0,>=8.1.0 in /usr/local/lib/python3.10/dist-packages (from langchain) (8.5.0)\n",
            "Requirement already satisfied: anyio<5,>=3.5.0 in /usr/local/lib/python3.10/dist-packages (from openai) (3.7.1)\n",
            "Requirement already satisfied: distro<2,>=1.7.0 in /usr/lib/python3/dist-packages (from openai) (1.7.0)\n",
            "Requirement already satisfied: httpx<1,>=0.23.0 in /usr/local/lib/python3.10/dist-packages (from openai) (0.27.2)\n",
            "Requirement already satisfied: sniffio in /usr/local/lib/python3.10/dist-packages (from openai) (1.3.1)\n",
            "Requirement already satisfied: tqdm>4 in /usr/local/lib/python3.10/dist-packages (from openai) (4.66.5)\n",
            "Requirement already satisfied: typing-extensions<5,>=4.7 in /usr/local/lib/python3.10/dist-packages (from openai) (4.12.2)\n",
            "Requirement already satisfied: aiosignal>=1.1.2 in /usr/local/lib/python3.10/dist-packages (from aiohttp<4.0.0,>=3.8.3->langchain) (1.3.1)\n",
            "Requirement already satisfied: attrs>=17.3.0 in /usr/local/lib/python3.10/dist-packages (from aiohttp<4.0.0,>=3.8.3->langchain) (24.2.0)\n",
            "Requirement already satisfied: frozenlist>=1.1.1 in /usr/local/lib/python3.10/dist-packages (from aiohttp<4.0.0,>=3.8.3->langchain) (1.4.1)\n",
            "Requirement already satisfied: multidict<7.0,>=4.5 in /usr/local/lib/python3.10/dist-packages (from aiohttp<4.0.0,>=3.8.3->langchain) (6.0.5)\n",
            "Requirement already satisfied: yarl<2.0,>=1.0 in /usr/local/lib/python3.10/dist-packages (from aiohttp<4.0.0,>=3.8.3->langchain) (1.9.4)\n",
            "Requirement already satisfied: idna>=2.8 in /usr/local/lib/python3.10/dist-packages (from anyio<5,>=3.5.0->openai) (3.8)\n",
            "Requirement already satisfied: exceptiongroup in /usr/local/lib/python3.10/dist-packages (from anyio<5,>=3.5.0->openai) (1.2.2)\n",
            "Requirement already satisfied: certifi in /usr/local/lib/python3.10/dist-packages (from httpx<1,>=0.23.0->openai) (2024.7.4)\n",
            "Requirement already satisfied: httpcore==1.* in /usr/local/lib/python3.10/dist-packages (from httpx<1,>=0.23.0->openai) (1.0.5)\n",
            "Requirement already satisfied: h11<0.15,>=0.13 in /usr/local/lib/python3.10/dist-packages (from httpcore==1.*->httpx<1,>=0.23.0->openai) (0.14.0)\n",
            "Requirement already satisfied: jsonpatch<2.0,>=1.33 in /usr/local/lib/python3.10/dist-packages (from langchain-core<0.3.0,>=0.2.35->langchain) (1.33)\n",
            "Requirement already satisfied: packaging<25,>=23.2 in /usr/local/lib/python3.10/dist-packages (from langchain-core<0.3.0,>=0.2.35->langchain) (24.1)\n",
            "Requirement already satisfied: orjson<4.0.0,>=3.9.14 in /usr/local/lib/python3.10/dist-packages (from langsmith<0.2.0,>=0.1.17->langchain) (3.10.7)\n",
            "Requirement already satisfied: annotated-types>=0.4.0 in /usr/local/lib/python3.10/dist-packages (from pydantic<3,>=1->langchain) (0.7.0)\n",
            "Requirement already satisfied: pydantic-core==2.18.2 in /usr/local/lib/python3.10/dist-packages (from pydantic<3,>=1->langchain) (2.18.2)\n",
            "Requirement already satisfied: charset-normalizer<4,>=2 in /usr/local/lib/python3.10/dist-packages (from requests<3,>=2->langchain) (3.3.2)\n",
            "Requirement already satisfied: urllib3<3,>=1.21.1 in /usr/local/lib/python3.10/dist-packages (from requests<3,>=2->langchain) (2.0.7)\n",
            "Requirement already satisfied: greenlet!=0.4.17 in /usr/local/lib/python3.10/dist-packages (from SQLAlchemy<3,>=1.4->langchain) (3.0.3)\n",
            "Requirement already satisfied: jsonpointer>=1.9 in /usr/local/lib/python3.10/dist-packages (from jsonpatch<2.0,>=1.33->langchain-core<0.3.0,>=0.2.35->langchain) (3.0.0)\n"
          ]
        }
      ],
      "source": [
        "!pip install langchain openai python-dotenv"
      ]
    },
    {
      "cell_type": "code",
      "source": [
        "# prompt: get api key- locally\n",
        "\n",
        "import os\n",
        "from dotenv import load_dotenv\n",
        "from openai import OpenAI\n",
        "\n",
        "load_dotenv()\n",
        "\n",
        "openai_api_key = os.getenv('OPENAI_API_KEY')\n",
        "\n",
        "llm_name = 'gpt-3.5-turbo'\n"
      ],
      "metadata": {
        "id": "LSf2jGmmJ-4-"
      },
      "execution_count": 2,
      "outputs": []
    },
    {
      "cell_type": "code",
      "source": [
        "from google.colab import userdata\n",
        "api_key = userdata.get('OPENAI_API_KEY')\n",
        "OPENAI_API_KEY = userdata.get('OPENAI_API_KEY')\n"
      ],
      "metadata": {
        "id": "QZVpkHWJLgAo"
      },
      "execution_count": 3,
      "outputs": []
    },
    {
      "cell_type": "code",
      "source": [
        "#create openai client\n",
        "\n",
        "openai_client = OpenAI(\n",
        "    api_key=OPENAI_API_KEY,\n",
        ")"
      ],
      "metadata": {
        "id": "pYsfKPaHLH5S"
      },
      "execution_count": 4,
      "outputs": []
    },
    {
      "cell_type": "code",
      "source": [
        "def generate_text_basic(prompt:str, model=\"gpt-3.5-turbo\",system_prompt:str=\"You are helpfull assistant\"):\n",
        "    response = openai_client.chat.completions.create(\n",
        "        model=model,\n",
        "        messages=[\n",
        "            {\n",
        "                \"role\": \"system\",\n",
        "                \"content\": system_prompt,\n",
        "\n",
        "            },\n",
        "            {\n",
        "                \"role\": \"user\",\n",
        "                \"content\": prompt\n",
        "            }\n",
        "        ],\n",
        "        temperature=0.0,\n",
        "        max_tokens=100,\n",
        "    )\n",
        "    return response.choices[0].message.content"
      ],
      "metadata": {
        "id": "n--5UmjgL0Vu"
      },
      "execution_count": 5,
      "outputs": []
    },
    {
      "cell_type": "code",
      "source": [
        "def test_prompt(prompt:str,model=\"gpt-3.5-turbo\",react_prompt:str=None):\n",
        "    response = generate_text_basic(prompt)\n",
        "    return response"
      ],
      "metadata": {
        "id": "VQqhbjZfONqW"
      },
      "execution_count": 6,
      "outputs": []
    },
    {
      "cell_type": "code",
      "source": [
        "prompt= \"generate a list of 5 colors\"\n",
        "print(test_prompt(prompt))"
      ],
      "metadata": {
        "colab": {
          "base_uri": "https://localhost:8080/"
        },
        "id": "G-jN8lGXMW1k",
        "outputId": "f580b78e-55b3-4ae9-bf4e-cc1f040b5a6d"
      },
      "execution_count": 7,
      "outputs": [
        {
          "output_type": "stream",
          "name": "stdout",
          "text": [
            "1. Blue\n",
            "2. Green\n",
            "3. Red\n",
            "4. Yellow\n",
            "5. Purple\n"
          ]
        }
      ]
    },
    {
      "cell_type": "code",
      "source": [
        "# try another prompt can t answer is because it has no ai agent with gpt4\n",
        "print(test_prompt(prompt,model=\"gpt-4\"))\n",
        "prompt= \"Should I take my umbrella out in California\"\n",
        "print(test_prompt(prompt))"
      ],
      "metadata": {
        "colab": {
          "base_uri": "https://localhost:8080/"
        },
        "id": "vxZ_KRuqOyHJ",
        "outputId": "b93b6cb6-0a69-4e55-c6c0-243b72b3c9f3"
      },
      "execution_count": 8,
      "outputs": [
        {
          "output_type": "stream",
          "name": "stdout",
          "text": [
            "1. Blue\n",
            "2. Green\n",
            "3. Red\n",
            "4. Yellow\n",
            "5. Purple\n",
            "It depends on the specific location in California and the current weather conditions. California is a large state with diverse climates, so it's always a good idea to check the weather forecast for your specific area before deciding whether to take your umbrella with you. If there is a chance of rain or showers in the forecast, it's a good idea to bring your umbrella just in case.\n"
          ]
        }
      ]
    },
    {
      "cell_type": "code",
      "source": [
        "def get_weather(location:str=\"California\"):\n",
        "  if location ==\"California\":\n",
        "    return \"Sunny\"\n",
        "  elif location == \"New York\":\n",
        "    return \"Rainy\"\n",
        "  elif location == \"Paris\":\n",
        "    return \"Cloudy\"\n",
        "  elif  location == \"London\":\n",
        "    return \"Rainy\"\n",
        "  elif location == \"Tokyo\":\n",
        "    return \"Sunny\"\n",
        "  else:\n",
        "    return \"Unknown\""
      ],
      "metadata": {
        "id": "6eU-BQqAV8Mb"
      },
      "execution_count": 9,
      "outputs": []
    },
    {
      "cell_type": "code",
      "source": [
        "# Not getting answer you want build an ai agent\n",
        "#hardcoded agent\n",
        "current_weather = get_weather(\"California\")\n",
        "\n",
        "prompt = f\"\"\" Should I take my umbrella out when going to California based on the following weather conditions:  {current_weather}\"\"\"\n",
        "print(test_prompt(prompt))\n",
        "\n",
        "\n"
      ],
      "metadata": {
        "colab": {
          "base_uri": "https://localhost:8080/"
        },
        "id": "Z8-mdjamPsPZ",
        "outputId": "f0ebaff0-accd-4798-cf27-8d44be2f4dc9"
      },
      "execution_count": 10,
      "outputs": [
        {
          "output_type": "stream",
          "name": "stdout",
          "text": [
            "Based on the weather condition of \"sunny,\" you may not need to take your umbrella out when going to California. However, it's always a good idea to check the weather forecast before heading out, as weather conditions can change quickly. If the forecast predicts rain or showers, then it would be wise to bring your umbrella just in case.\n"
          ]
        }
      ]
    },
    {
      "cell_type": "code",
      "source": [
        "#optimize the solution\n",
        "# make agent call the function automatically\n",
        "# and responds\n",
        "\n",
        "react_system_prompt =\"\"\"\n",
        "You run in a loop of Thought, Action, PAUSE, Action_Response.\n",
        "At the end of the loop you output an Answer.\n",
        "Use Thought to understand your the question you have been asked.\n",
        "Use Action to run one of the actions available to you - then return PAUSE.\n",
        "Action_Response will be the result of running those actions.\n",
        "Your available actions are:\n",
        "e.g get_weather: California\n",
        "returns the current weather in California\n",
        "\n",
        "Example session:\n",
        "\n",
        "Question: What is the weather in California?\n",
        "Thought: I should look up the weather in California.\n",
        "Action: get_weather: California\n",
        "PAUSE\n",
        "\n",
        "You will be called again with this:\n",
        "\n",
        "Observation: Sunny\n",
        "\n",
        "You then output:\n",
        "\n",
        "Action_Response: No, The weather in California is Sunny so you dont need to take an umbrella.\"\"\".strip()\n"
      ],
      "metadata": {
        "id": "A9KUcvmzXeyJ"
      },
      "execution_count": 11,
      "outputs": []
    },
    {
      "cell_type": "code",
      "source": [
        "# no hardcoded\n",
        "def test_react_prompt(prompt:str,model=\"gpt-3.5-turbo\",react_prompt:str=react_system_prompt):\n",
        "    response = generate_text_basic(prompt,system_prompt=react_system_prompt)\n",
        "    return response"
      ],
      "metadata": {
        "id": "Ft5INfGeXNBK"
      },
      "execution_count": 12,
      "outputs": []
    },
    {
      "cell_type": "code",
      "source": [
        "prompt = \"\"\" Should I take my umbrella out when going to California\"\"\"\n",
        "print(test_react_prompt(prompt,react_prompt=react_system_prompt))\n"
      ],
      "metadata": {
        "colab": {
          "base_uri": "https://localhost:8080/"
        },
        "id": "05M-M16GcBNE",
        "outputId": "5ea16147-63e6-4c29-93b9-19f5c8f5a9a9"
      },
      "execution_count": 13,
      "outputs": [
        {
          "output_type": "stream",
          "name": "stdout",
          "text": [
            "Thought: I need to check the weather in California to determine if you should take an umbrella.\n",
            "\n",
            "Action: get_weather: California\n",
            "PAUSE\n"
          ]
        }
      ]
    },
    {
      "cell_type": "code",
      "source": [
        "# now we need to define get_weather\n",
        "#Available actions\n",
        "available_actions ={\n",
        "    \"get_weather\" : get_weather\n",
        "}\n"
      ],
      "metadata": {
        "id": "PrEE8uoqc-jG"
      },
      "execution_count": 14,
      "outputs": []
    },
    {
      "cell_type": "code",
      "source": [
        "\n",
        "# Change the prompt so that it returns a json\n",
        "react_system_prompt =\"\"\"\n",
        "ANSWER ONLY QUESTION RELATED TO WEATHER\n",
        "You run in a loop of Thought, Action, PAUSE, Action_Response.\n",
        "At the end of the loop you output an Answer.\n",
        "Use Thought to understand your the question you have been asked.\n",
        "Use Action to run one of the actions available to you - then return PAUSE.\n",
        "Action_Response will be the result of running those actions.\n",
        "Your available actions are:\n",
        "e.g get_weather: California\n",
        "returns the current weather in California\n",
        "\n",
        "Example session:\n",
        "\n",
        "Question: What is the weather in California?\n",
        "Thought: I should look up the weather in California.\n",
        "{\n",
        "  \"function_name\" : \"get_weather\",\n",
        "  \"function_params\": {\n",
        "    \"city\": \"California\"\n",
        "  }\n",
        "}\n",
        "PAUSE\n",
        "\n",
        "You will be called again with this:\n",
        "\n",
        "Action_Response: Sunny\n",
        "\n",
        "You then output:\n",
        "\n",
        "Action_Response: No, The weather in California is Sunny so you dont need to take an umbrella.\"\"\".strip()"
      ],
      "metadata": {
        "id": "z9dDjw7XdgNz"
      },
      "execution_count": 15,
      "outputs": []
    },
    {
      "cell_type": "code",
      "source": [
        "def test_react_prompt(prompt:str,model=\"gpt-3.5-turbo\",react_prompt:str=react_system_prompt,available_actions={}):\n",
        "\n",
        "    response = generate_text_basic(prompt,system_prompt=react_system_prompt)\n",
        "    return response"
      ],
      "metadata": {
        "id": "hwjPWNNRd5NP"
      },
      "execution_count": 16,
      "outputs": []
    },
    {
      "cell_type": "code",
      "source": [
        "prompt = \"\"\" Should I take my umbrella out when going to California\"\"\"\n",
        "print(test_react_prompt(prompt,react_prompt=react_system_prompt))"
      ],
      "metadata": {
        "colab": {
          "base_uri": "https://localhost:8080/"
        },
        "id": "o2LS7J4m5diJ",
        "outputId": "86f8d866-5b17-4aca-ac27-861a501f17c3"
      },
      "execution_count": 17,
      "outputs": [
        {
          "output_type": "stream",
          "name": "stdout",
          "text": [
            "Thought: I need to check the weather in California to see if you should take an umbrella.\n",
            "\n",
            "{\n",
            "  \"function_name\" : \"get_weather\",\n",
            "  \"function_params\": {\n",
            "    \"city\": \"California\"\n",
            "  }\n",
            "}\n",
            "\n",
            "PAUSE\n"
          ]
        }
      ]
    },
    {
      "cell_type": "markdown",
      "source": [
        "# Now I can call function which is json"
      ],
      "metadata": {
        "id": "lq9d9MAE7JE7"
      }
    },
    {
      "cell_type": "code",
      "source": [
        "import regex as re\n",
        "\n",
        "#create helper functions\n",
        "def model_to_json(model_instance):\n",
        "    \"\"\"\n",
        "    Converts a Pydantic model instance to a JSON string.\n",
        "\n",
        "    Args:\n",
        "        model_instance (YourModel): An instance of your Pydantic model.\n",
        "\n",
        "    Returns:\n",
        "        str: A JSON string representation of the model.\n",
        "    \"\"\"\n",
        "    return model_instance.model_dump_json()\n"
      ],
      "metadata": {
        "id": "3D0dtRK97Sfc"
      },
      "execution_count": 18,
      "outputs": []
    },
    {
      "cell_type": "code",
      "source": [
        "def extend_search(text, span):\n",
        "    # Extend the search to try to capture nested structures\n",
        "    start, end = span\n",
        "    nest_count = 0\n",
        "    for i in range(start, len(text)):\n",
        "        if text[i] == '{':\n",
        "            nest_count += 1\n",
        "        elif text[i] == '}':\n",
        "            nest_count -= 1\n",
        "            if nest_count == 0:\n",
        "                return text[start:i+1]\n",
        "    return text[start:end]\n"
      ],
      "metadata": {
        "id": "pboMEylC9hra"
      },
      "execution_count": 19,
      "outputs": []
    },
    {
      "cell_type": "code",
      "source": [
        "import json\n",
        "def extract_json(text_response):\n",
        "    pattern = r'\\{.*?\\}'\n",
        "    matches = re.finditer(pattern, text_response, re.DOTALL)\n",
        "    json_objects = []\n",
        "\n",
        "    for match in matches:\n",
        "        json_str = extend_search(text_response, match.span())\n",
        "        try:\n",
        "            json_obj = json.loads(json_str)\n",
        "            json_objects.append(json_obj)\n",
        "        except json.JSONDecodeError:\n",
        "            continue\n",
        "    return json_objects if json_objects else None"
      ],
      "metadata": {
        "id": "Szi29EpH-Dgi"
      },
      "execution_count": 20,
      "outputs": []
    },
    {
      "cell_type": "code",
      "source": [
        "def test_react_prompt(prompt:str,model=\"gpt-3.5-turbo\",react_prompt:str=react_system_prompt,available_actions={\"get_weather\":get_weather}):\n",
        "    print(available_actions)\n",
        "    response = generate_text_basic(prompt,system_prompt=react_system_prompt)\n",
        "    json_function = extract_json(response)\n",
        "    if json_function:\n",
        "        function_name = json_function[0]['function_name']\n",
        "        function_params = json_function[0]['function_params']\n",
        "        if function_name not in available_actions:\n",
        "            raise Exception(f\"Unknown action: {function_name}: {function_params}\")\n",
        "        print(f\" -- running {function_name} {function_params['city']}\")\n",
        "        action_function = available_actions[function_name]\n",
        "        #call the function\n",
        "        result = action_function(function_params['city'])\n",
        "        function_result_message = f\"Action_Response: {result}\"\n",
        "        print(function_result_message)\n",
        "\n",
        "    print(f\"Extracted json function{json_function}\")\n",
        "\n",
        "    return response"
      ],
      "metadata": {
        "id": "SYEZ2wg0-khS"
      },
      "execution_count": 21,
      "outputs": []
    },
    {
      "cell_type": "code",
      "source": [
        "prompt = \"\"\" Should I take my umbrella out when going to London\"\"\"\n",
        "\n",
        "print(test_react_prompt(prompt,react_prompt=react_system_prompt,available_actions=available_actions))\n"
      ],
      "metadata": {
        "colab": {
          "base_uri": "https://localhost:8080/"
        },
        "id": "BL9fbbDv7HFA",
        "outputId": "0b4a473c-f646-4df1-a13f-9d61d7a6650d"
      },
      "execution_count": 22,
      "outputs": [
        {
          "output_type": "stream",
          "name": "stdout",
          "text": [
            "{'get_weather': <function get_weather at 0x7ec5b35ad000>}\n",
            " -- running get_weather London\n",
            "Action_Response: Rainy\n",
            "Extracted json function[{'function_name': 'get_weather', 'function_params': {'city': 'London'}}]\n",
            "Thought: I should check the weather in London to see if you need an umbrella.\n",
            "\n",
            "{\n",
            "  \"function_name\" : \"get_weather\",\n",
            "  \"function_params\": {\n",
            "    \"city\": \"London\"\n",
            "  }\n",
            "}\n",
            "\n",
            "PAUSE\n"
          ]
        }
      ]
    },
    {
      "cell_type": "code",
      "source": [
        "# now we need to loop through the next action to give the result\n",
        "def generate_text_with_conversation(messages, model=\"gpt-3.5-turbo\"):\n",
        "    response = openai_client.chat.completions.create(\n",
        "        model=model,\n",
        "        messages=messages,\n",
        "        temperature=0.0,\n",
        "        max_tokens=100,\n",
        "    )\n",
        "    return response.choices[0].message.content"
      ],
      "metadata": {
        "id": "VCHDUov6KvCi"
      },
      "execution_count": 23,
      "outputs": []
    },
    {
      "cell_type": "code",
      "source": [
        "#our final agent\n",
        "def test_react_prompt(prompt:str,model=\"gpt-3.5-turbo\",react_prompt:str=react_system_prompt,available_actions={}):\n",
        "    messages=[\n",
        "        {\"role\":\"system\", \"content\":react_prompt},\n",
        "         {\"role\":\"user\",\"content\":prompt},\n",
        "\n",
        "    ]\n",
        "    turn_count = 1\n",
        "    max_turns = 5\n",
        "    while turn_count < max_turns:\n",
        "      print (f\"Loop:{turn_count}\")\n",
        "      print(\"----------------------\")\n",
        "      turn_count +=1\n",
        "\n",
        "      response = generate_text_with_conversation(messages,model=model)\n",
        "      print(response)\n",
        "\n",
        "      json_function = extract_json(response)\n",
        "      if json_function:\n",
        "        function_name = json_function[0]['function_name']\n",
        "        function_params = json_function[0]['function_params']\n",
        "        if function_name not in available_actions:\n",
        "            raise Exception(f\"Unknown action: {function_name}: {function_params}\")\n",
        "        print(f\" -- running {function_name} {function_params['city']}\")\n",
        "        action_function = available_actions[function_name]\n",
        "        #call the function\n",
        "        result = action_function(function_params['city'])\n",
        "        function_result_message = f\"Action_Response: {result}\"\n",
        "        messages.append({\"role\":\"user\", \"content\":function_result_message})\n",
        "        print(function_result_message)\n",
        "\n",
        "      else:\n",
        "        break\n"
      ],
      "metadata": {
        "id": "VcbX88L2Ljzx"
      },
      "execution_count": 24,
      "outputs": []
    },
    {
      "cell_type": "code",
      "source": [
        "prompt=\"\"\" Should I take my umbrella out when going to London\"\"\"\n",
        "test_react_prompt(prompt, model=\"gpt-3.5-turbo\",react_prompt=react_system_prompt,available_actions=available_actions)"
      ],
      "metadata": {
        "colab": {
          "base_uri": "https://localhost:8080/"
        },
        "id": "QqsLlPA97Ns2",
        "outputId": "3828d172-a4c0-464f-9e82-f31180193c0e"
      },
      "execution_count": 25,
      "outputs": [
        {
          "output_type": "stream",
          "name": "stdout",
          "text": [
            "Loop:1\n",
            "----------------------\n",
            "Thought: I need to check the weather in London to see if I should take an umbrella.\n",
            "\n",
            "{\n",
            "  \"function_name\" : \"get_weather\",\n",
            "  \"function_params\": {\n",
            "    \"city\": \"London\"\n",
            "  }\n",
            "}\n",
            "\n",
            "PAUSE\n",
            " -- running get_weather London\n",
            "Action_Response: Rainy\n",
            "Loop:2\n",
            "----------------------\n",
            "No, you should take your umbrella out when going to London as the weather is rainy.\n"
          ]
        }
      ]
    },
    {
      "cell_type": "code",
      "source": [
        "# Use simpllerLLM\n",
        "!pip install simplerLLM\n"
      ],
      "metadata": {
        "colab": {
          "base_uri": "https://localhost:8080/"
        },
        "id": "YmFr8cLoV08D",
        "outputId": "a33697d4-32d2-44fa-d239-f26aee0226bd"
      },
      "execution_count": 26,
      "outputs": [
        {
          "output_type": "stream",
          "name": "stdout",
          "text": [
            "Requirement already satisfied: simplerLLM in /usr/local/lib/python3.10/dist-packages (0.3.1.0)\n",
            "Requirement already satisfied: aiohttp==3.9.4 in /usr/local/lib/python3.10/dist-packages (from simplerLLM) (3.9.4)\n",
            "Requirement already satisfied: duckduckgo-search==5.3.0 in /usr/local/lib/python3.10/dist-packages (from simplerLLM) (5.3.0)\n",
            "Requirement already satisfied: lxml-html-clean==0.1.1 in /usr/local/lib/python3.10/dist-packages (from simplerLLM) (0.1.1)\n",
            "Requirement already satisfied: newspaper3k==0.2.8 in /usr/local/lib/python3.10/dist-packages (from simplerLLM) (0.2.8)\n",
            "Requirement already satisfied: numpy==1.26.4 in /usr/local/lib/python3.10/dist-packages (from simplerLLM) (1.26.4)\n",
            "Requirement already satisfied: openai==1.25.0 in /usr/local/lib/python3.10/dist-packages (from simplerLLM) (1.25.0)\n",
            "Requirement already satisfied: pydantic==2.7.1 in /usr/local/lib/python3.10/dist-packages (from simplerLLM) (2.7.1)\n",
            "Requirement already satisfied: PyPDF2==3.0.1 in /usr/local/lib/python3.10/dist-packages (from simplerLLM) (3.0.1)\n",
            "Requirement already satisfied: python-dotenv==1.0.1 in /usr/local/lib/python3.10/dist-packages (from simplerLLM) (1.0.1)\n",
            "Requirement already satisfied: python-docx==1.1.0 in /usr/local/lib/python3.10/dist-packages (from simplerLLM) (1.1.0)\n",
            "Requirement already satisfied: pytube==15.0.0 in /usr/local/lib/python3.10/dist-packages (from simplerLLM) (15.0.0)\n",
            "Requirement already satisfied: Requests==2.31.0 in /usr/local/lib/python3.10/dist-packages (from simplerLLM) (2.31.0)\n",
            "Requirement already satisfied: youtube-transcript-api==0.6.2 in /usr/local/lib/python3.10/dist-packages (from simplerLLM) (0.6.2)\n",
            "Requirement already satisfied: pandas==2.2.2 in /usr/local/lib/python3.10/dist-packages (from simplerLLM) (2.2.2)\n",
            "Requirement already satisfied: colorama==0.4.6 in /usr/local/lib/python3.10/dist-packages (from simplerLLM) (0.4.6)\n",
            "Requirement already satisfied: scipy==1.14.0 in /usr/local/lib/python3.10/dist-packages (from simplerLLM) (1.14.0)\n",
            "Requirement already satisfied: aiosignal>=1.1.2 in /usr/local/lib/python3.10/dist-packages (from aiohttp==3.9.4->simplerLLM) (1.3.1)\n",
            "Requirement already satisfied: attrs>=17.3.0 in /usr/local/lib/python3.10/dist-packages (from aiohttp==3.9.4->simplerLLM) (24.2.0)\n",
            "Requirement already satisfied: frozenlist>=1.1.1 in /usr/local/lib/python3.10/dist-packages (from aiohttp==3.9.4->simplerLLM) (1.4.1)\n",
            "Requirement already satisfied: multidict<7.0,>=4.5 in /usr/local/lib/python3.10/dist-packages (from aiohttp==3.9.4->simplerLLM) (6.0.5)\n",
            "Requirement already satisfied: yarl<2.0,>=1.0 in /usr/local/lib/python3.10/dist-packages (from aiohttp==3.9.4->simplerLLM) (1.9.4)\n",
            "Requirement already satisfied: async-timeout<5.0,>=4.0 in /usr/local/lib/python3.10/dist-packages (from aiohttp==3.9.4->simplerLLM) (4.0.3)\n",
            "Requirement already satisfied: click>=8.1.7 in /usr/local/lib/python3.10/dist-packages (from duckduckgo-search==5.3.0->simplerLLM) (8.1.7)\n",
            "Requirement already satisfied: curl-cffi>=0.6.2 in /usr/local/lib/python3.10/dist-packages (from duckduckgo-search==5.3.0->simplerLLM) (0.7.1)\n",
            "Requirement already satisfied: orjson>=3.10.0 in /usr/local/lib/python3.10/dist-packages (from duckduckgo-search==5.3.0->simplerLLM) (3.10.7)\n",
            "Requirement already satisfied: lxml in /usr/local/lib/python3.10/dist-packages (from lxml-html-clean==0.1.1->simplerLLM) (4.9.4)\n",
            "Requirement already satisfied: beautifulsoup4>=4.4.1 in /usr/local/lib/python3.10/dist-packages (from newspaper3k==0.2.8->simplerLLM) (4.12.3)\n",
            "Requirement already satisfied: Pillow>=3.3.0 in /usr/local/lib/python3.10/dist-packages (from newspaper3k==0.2.8->simplerLLM) (9.4.0)\n",
            "Requirement already satisfied: PyYAML>=3.11 in /usr/local/lib/python3.10/dist-packages (from newspaper3k==0.2.8->simplerLLM) (6.0.2)\n",
            "Requirement already satisfied: cssselect>=0.9.2 in /usr/local/lib/python3.10/dist-packages (from newspaper3k==0.2.8->simplerLLM) (1.2.0)\n",
            "Requirement already satisfied: nltk>=3.2.1 in /usr/local/lib/python3.10/dist-packages (from newspaper3k==0.2.8->simplerLLM) (3.8.1)\n",
            "Requirement already satisfied: feedparser>=5.2.1 in /usr/local/lib/python3.10/dist-packages (from newspaper3k==0.2.8->simplerLLM) (6.0.11)\n",
            "Requirement already satisfied: tldextract>=2.0.1 in /usr/local/lib/python3.10/dist-packages (from newspaper3k==0.2.8->simplerLLM) (5.1.2)\n",
            "Requirement already satisfied: feedfinder2>=0.0.4 in /usr/local/lib/python3.10/dist-packages (from newspaper3k==0.2.8->simplerLLM) (0.0.4)\n",
            "Requirement already satisfied: jieba3k>=0.35.1 in /usr/local/lib/python3.10/dist-packages (from newspaper3k==0.2.8->simplerLLM) (0.35.1)\n",
            "Requirement already satisfied: python-dateutil>=2.5.3 in /usr/local/lib/python3.10/dist-packages (from newspaper3k==0.2.8->simplerLLM) (2.8.2)\n",
            "Requirement already satisfied: tinysegmenter==0.3 in /usr/local/lib/python3.10/dist-packages (from newspaper3k==0.2.8->simplerLLM) (0.3)\n",
            "Requirement already satisfied: anyio<5,>=3.5.0 in /usr/local/lib/python3.10/dist-packages (from openai==1.25.0->simplerLLM) (3.7.1)\n",
            "Requirement already satisfied: distro<2,>=1.7.0 in /usr/lib/python3/dist-packages (from openai==1.25.0->simplerLLM) (1.7.0)\n",
            "Requirement already satisfied: httpx<1,>=0.23.0 in /usr/local/lib/python3.10/dist-packages (from openai==1.25.0->simplerLLM) (0.27.2)\n",
            "Requirement already satisfied: sniffio in /usr/local/lib/python3.10/dist-packages (from openai==1.25.0->simplerLLM) (1.3.1)\n",
            "Requirement already satisfied: tqdm>4 in /usr/local/lib/python3.10/dist-packages (from openai==1.25.0->simplerLLM) (4.66.5)\n",
            "Requirement already satisfied: typing-extensions<5,>=4.7 in /usr/local/lib/python3.10/dist-packages (from openai==1.25.0->simplerLLM) (4.12.2)\n",
            "Requirement already satisfied: pytz>=2020.1 in /usr/local/lib/python3.10/dist-packages (from pandas==2.2.2->simplerLLM) (2024.1)\n",
            "Requirement already satisfied: tzdata>=2022.7 in /usr/local/lib/python3.10/dist-packages (from pandas==2.2.2->simplerLLM) (2024.1)\n",
            "Requirement already satisfied: annotated-types>=0.4.0 in /usr/local/lib/python3.10/dist-packages (from pydantic==2.7.1->simplerLLM) (0.7.0)\n",
            "Requirement already satisfied: pydantic-core==2.18.2 in /usr/local/lib/python3.10/dist-packages (from pydantic==2.7.1->simplerLLM) (2.18.2)\n",
            "Requirement already satisfied: charset-normalizer<4,>=2 in /usr/local/lib/python3.10/dist-packages (from Requests==2.31.0->simplerLLM) (3.3.2)\n",
            "Requirement already satisfied: idna<4,>=2.5 in /usr/local/lib/python3.10/dist-packages (from Requests==2.31.0->simplerLLM) (3.8)\n",
            "Requirement already satisfied: urllib3<3,>=1.21.1 in /usr/local/lib/python3.10/dist-packages (from Requests==2.31.0->simplerLLM) (2.0.7)\n",
            "Requirement already satisfied: certifi>=2017.4.17 in /usr/local/lib/python3.10/dist-packages (from Requests==2.31.0->simplerLLM) (2024.7.4)\n",
            "Requirement already satisfied: exceptiongroup in /usr/local/lib/python3.10/dist-packages (from anyio<5,>=3.5.0->openai==1.25.0->simplerLLM) (1.2.2)\n",
            "Requirement already satisfied: soupsieve>1.2 in /usr/local/lib/python3.10/dist-packages (from beautifulsoup4>=4.4.1->newspaper3k==0.2.8->simplerLLM) (2.6)\n",
            "Requirement already satisfied: cffi>=1.12.0 in /usr/local/lib/python3.10/dist-packages (from curl-cffi>=0.6.2->duckduckgo-search==5.3.0->simplerLLM) (1.17.0)\n",
            "Requirement already satisfied: six in /usr/local/lib/python3.10/dist-packages (from feedfinder2>=0.0.4->newspaper3k==0.2.8->simplerLLM) (1.16.0)\n",
            "Requirement already satisfied: sgmllib3k in /usr/local/lib/python3.10/dist-packages (from feedparser>=5.2.1->newspaper3k==0.2.8->simplerLLM) (1.0.0)\n",
            "Requirement already satisfied: httpcore==1.* in /usr/local/lib/python3.10/dist-packages (from httpx<1,>=0.23.0->openai==1.25.0->simplerLLM) (1.0.5)\n",
            "Requirement already satisfied: h11<0.15,>=0.13 in /usr/local/lib/python3.10/dist-packages (from httpcore==1.*->httpx<1,>=0.23.0->openai==1.25.0->simplerLLM) (0.14.0)\n",
            "Requirement already satisfied: joblib in /usr/local/lib/python3.10/dist-packages (from nltk>=3.2.1->newspaper3k==0.2.8->simplerLLM) (1.4.2)\n",
            "Requirement already satisfied: regex>=2021.8.3 in /usr/local/lib/python3.10/dist-packages (from nltk>=3.2.1->newspaper3k==0.2.8->simplerLLM) (2024.5.15)\n",
            "Requirement already satisfied: requests-file>=1.4 in /usr/local/lib/python3.10/dist-packages (from tldextract>=2.0.1->newspaper3k==0.2.8->simplerLLM) (2.1.0)\n",
            "Requirement already satisfied: filelock>=3.0.8 in /usr/local/lib/python3.10/dist-packages (from tldextract>=2.0.1->newspaper3k==0.2.8->simplerLLM) (3.15.4)\n",
            "Requirement already satisfied: pycparser in /usr/local/lib/python3.10/dist-packages (from cffi>=1.12.0->curl-cffi>=0.6.2->duckduckgo-search==5.3.0->simplerLLM) (2.22)\n"
          ]
        }
      ]
    },
    {
      "cell_type": "code",
      "source": [
        "from SimplerLLM.language.llm import LLM, LLMProvider\n",
        "from SimplerLLM.tools.json_helpers import extract_json_from_text"
      ],
      "metadata": {
        "id": "5eN8y95_aBSd"
      },
      "execution_count": 27,
      "outputs": []
    },
    {
      "cell_type": "code",
      "source": [
        "llm_instance= LLM.create(provider=LLMProvider.OPENAI,model_name='gpt-3.5-turbo')"
      ],
      "metadata": {
        "id": "7gzPjouaaio9"
      },
      "execution_count": 28,
      "outputs": []
    },
    {
      "cell_type": "code",
      "source": [
        "def test_react_prompt(prompt:str,react_prompt:str=react_system_prompt,available_actions={}):\n",
        "    messages=[\n",
        "        {\"role\":\"system\", \"content\":react_prompt},\n",
        "         {\"role\":\"user\",\"content\":prompt},\n",
        "\n",
        "    ]\n",
        "    turn_count = 1\n",
        "    max_turns = 5\n",
        "    while turn_count < max_turns:\n",
        "      print (f\"Loop:{turn_count}\")\n",
        "      print(\"----------------------\")\n",
        "      turn_count +=1\n",
        "\n",
        "      response = llm_instance.generate_response(messages=messages)\n",
        "      print(response)\n",
        "      response= str(response)\n",
        "\n",
        "      json_function = extract_json_from_text(response)\n",
        "      if json_function:\n",
        "        function_name = json_function[0]['function_name']\n",
        "        function_params = json_function[0]['function_params']\n",
        "        if function_name not in available_actions:\n",
        "            raise Exception(f\"Unknown action: {function_name}: {function_params}\")\n",
        "        print(f\" -- running {function_name} {function_params}\")\n",
        "        action_function = available_actions[function_name]\n",
        "        #call the function\n",
        "        result = action_function(**function_params)\n",
        "        function_result_message = f\"Action_Response: {result}\"\n",
        "        messages.append({\"role\":\"user\", \"content\":function_result_message})\n",
        "        print(function_result_message)\n",
        "\n",
        "      else:\n",
        "        break\n"
      ],
      "metadata": {
        "id": "Xxb574dKbWB8"
      },
      "execution_count": 29,
      "outputs": []
    },
    {
      "cell_type": "code",
      "source": [
        "prompt=\"\"\" Should I take my umbrella out when going to London\"\"\"\n",
        "test_react_prompt(prompt,react_prompt=react_system_prompt,available_actions=available_actions)"
      ],
      "metadata": {
        "colab": {
          "base_uri": "https://localhost:8080/"
        },
        "id": "yHiZQxRLbZnd",
        "outputId": "db0cf87c-5cd1-4bd0-cd9a-8fa8d8f035e5"
      },
      "execution_count": 30,
      "outputs": [
        {
          "output_type": "stream",
          "name": "stdout",
          "text": [
            "Loop:1\n",
            "----------------------\n",
            "Failed after 3 attempts due to: Connection error.\n",
            "None\n"
          ]
        }
      ]
    }
  ]
}