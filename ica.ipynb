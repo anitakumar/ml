{
  "nbformat": 4,
  "nbformat_minor": 0,
  "metadata": {
    "colab": {
      "provenance": [],
      "authorship_tag": "ABX9TyNLJBVvf6mLYZfOu/L++lmM",
      "include_colab_link": true
    },
    "kernelspec": {
      "name": "python3",
      "display_name": "Python 3"
    },
    "language_info": {
      "name": "python"
    }
  },
  "cells": [
    {
      "cell_type": "markdown",
      "metadata": {
        "id": "view-in-github",
        "colab_type": "text"
      },
      "source": [
        "<a href=\"https://colab.research.google.com/github/anitakumar/ml/blob/main/ica.ipynb\" target=\"_parent\"><img src=\"https://colab.research.google.com/assets/colab-badge.svg\" alt=\"Open In Colab\"/></a>"
      ]
    },
    {
      "cell_type": "code",
      "execution_count": 1,
      "metadata": {
        "id": "KywvpWujFj2w"
      },
      "outputs": [],
      "source": [
        "import pandas as pd\n",
        "import numpy as np\n"
      ]
    },
    {
      "cell_type": "code",
      "source": [
        "data= pd.read_csv('SurveyData.csv')"
      ],
      "metadata": {
        "id": "KG4wi0euFr_z"
      },
      "execution_count": 2,
      "outputs": []
    },
    {
      "cell_type": "code",
      "source": [
        "data.info()"
      ],
      "metadata": {
        "colab": {
          "base_uri": "https://localhost:8080/"
        },
        "id": "4FqtjUOlGXsO",
        "outputId": "7b903fe1-4603-42fd-a810-ba12613580ac"
      },
      "execution_count": 3,
      "outputs": [
        {
          "output_type": "stream",
          "name": "stdout",
          "text": [
            "<class 'pandas.core.frame.DataFrame'>\n",
            "RangeIndex: 30 entries, 0 to 29\n",
            "Data columns (total 7 columns):\n",
            " #   Column      Non-Null Count  Dtype\n",
            "---  ------      --------------  -----\n",
            " 0   rating      30 non-null     int64\n",
            " 1   complaints  30 non-null     int64\n",
            " 2   privileges  30 non-null     int64\n",
            " 3   learning    30 non-null     int64\n",
            " 4   raises      30 non-null     int64\n",
            " 5   critical    30 non-null     int64\n",
            " 6   advance     30 non-null     int64\n",
            "dtypes: int64(7)\n",
            "memory usage: 1.8 KB\n"
          ]
        }
      ]
    },
    {
      "cell_type": "code",
      "source": [
        "from sklearn.decomposition import FastICA\n",
        "ICA =FastICA(n_components=2)\n",
        "IndependentComp_calues = ICA.fit_transform(data.values)"
      ],
      "metadata": {
        "id": "W6kHDk64GcDe"
      },
      "execution_count": 6,
      "outputs": []
    },
    {
      "cell_type": "code",
      "source": [
        "print('## final Independent Components#')\n",
        "reducedata = pd.DataFrame(IndependentComp_calues)\n",
        "print(reducedata)"
      ],
      "metadata": {
        "colab": {
          "base_uri": "https://localhost:8080/"
        },
        "id": "HNVNBzcpHULy",
        "outputId": "69ec65ac-3fb8-4464-c06d-76ceb28ede44"
      },
      "execution_count": 8,
      "outputs": [
        {
          "output_type": "stream",
          "name": "stdout",
          "text": [
            "## final Independent Components#\n",
            "           0         1\n",
            "0  -1.767109 -1.215810\n",
            "1  -0.264402 -0.134162\n",
            "2  -0.690976  1.105624\n",
            "3   0.185622 -0.706527\n",
            "4   0.318122  0.981683\n",
            "5   0.445404 -1.496834\n",
            "6   0.457399 -0.481303\n",
            "7   0.886553  0.142664\n",
            "8   0.930318  0.934060\n",
            "9   0.003446 -0.433356\n",
            "10  0.362645 -0.603356\n",
            "11  0.296976 -0.701387\n",
            "12  1.721940 -0.883287\n",
            "13  1.175315  0.414800\n",
            "14  0.188623  1.065771\n",
            "15  2.511471  0.500961\n",
            "16 -0.686779  1.614037\n",
            "17 -1.427988  0.648556\n",
            "18 -0.546327  0.321499\n",
            "19 -1.533884  0.025412\n",
            "20  0.105007 -2.229741\n",
            "21 -0.368472  0.028611\n",
            "22 -0.223356 -0.415264\n",
            "23 -1.470424 -1.432406\n",
            "24  0.149114 -0.774055\n",
            "25 -1.803926  1.568508\n",
            "26 -0.101962  1.238723\n",
            "27 -0.597601 -1.080605\n",
            "28  0.353855  1.701527\n",
            "29  1.391396  0.295659\n"
          ]
        }
      ]
    }
  ]
}