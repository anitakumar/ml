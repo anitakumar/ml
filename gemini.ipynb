{
  "nbformat": 4,
  "nbformat_minor": 0,
  "metadata": {
    "colab": {
      "provenance": [],
      "authorship_tag": "ABX9TyPNYagjsQ6T2fPN2tGXQpvp",
      "include_colab_link": true
    },
    "kernelspec": {
      "name": "python3",
      "display_name": "Python 3"
    },
    "language_info": {
      "name": "python"
    }
  },
  "cells": [
    {
      "cell_type": "markdown",
      "metadata": {
        "id": "view-in-github",
        "colab_type": "text"
      },
      "source": [
        "<a href=\"https://colab.research.google.com/github/anitakumar/ml/blob/main/gemini.ipynb\" target=\"_parent\"><img src=\"https://colab.research.google.com/assets/colab-badge.svg\" alt=\"Open In Colab\"/></a>"
      ]
    },
    {
      "cell_type": "code",
      "execution_count": null,
      "metadata": {
        "id": "1TuMPjvG7P1B"
      },
      "outputs": [],
      "source": [
        "!pip install -q -U google-generativeai"
      ]
    },
    {
      "cell_type": "code",
      "source": [
        "import google.generativeai as genai\n",
        "import os\n",
        "from google.colab import userdata\n",
        "\n",
        "\n",
        "# Get the API key\n",
        "api_key = userdata.get(\"GEMINI_API\")\n",
        "\n",
        "# Check if the API key exists\n",
        "if api_key:\n",
        "    genai.configure(api_key=api_key)\n",
        "else:\n",
        "    print(\"Error: GEMINI_API environment variable not set.\")\n"
      ],
      "metadata": {
        "id": "k9LDH8Cz7xuL"
      },
      "execution_count": null,
      "outputs": []
    },
    {
      "cell_type": "code",
      "source": [
        "model = genai.GenerativeModel(\"gemini-1.5-flash\")\n",
        "response = model.generate_content(\"Write a story about a magic backpack.\")\n",
        "print(response.text)\n"
      ],
      "metadata": {
        "colab": {
          "base_uri": "https://localhost:8080/",
          "height": 384
        },
        "id": "qf1Sw8Uy8h89",
        "outputId": "d9bb5954-06d9-4c15-973d-0acd2ef45588"
      },
      "execution_count": null,
      "outputs": [
        {
          "output_type": "stream",
          "name": "stdout",
          "text": [
            "The old, leather-bound backpack sat in the corner of the dusty antique shop, a forgotten relic. Its straps were worn and frayed, its buckles tarnished with time. But for thirteen-year-old Finn, it held a strange allure. He ran his hand over its worn surface, feeling a prickle of energy. \n",
            "\n",
            "\"That one, please,\" Finn said, pointing to the backpack, ignoring the shopkeeper's dubious look. He wasn't sure why he felt drawn to it, but something about the backpack whispered promises of adventure.\n",
            "\n",
            "He paid for it, a nervous thrill running through him. Outside, he eagerly flung the backpack over his shoulders. It felt strangely light, almost weightless. He started walking, the old leather creaking with each step. \n",
            "\n",
            "That's when it happened. As he passed a bakery, the scent of freshly baked bread filled his nostrils. He realized, with a jolt, that he wasn't just smelling it, he was actually *tasting* it. He could almost feel the warmth of the bread, the crunch of the crust. \n",
            "\n",
            "Confused, Finn reached into the backpack, pulling out a small, golden apple. He took a bite, the tart sweetness exploding on his tongue. It wasn't just an apple, it was an experience, a kaleidoscope of flavors and textures. \n",
            "\n",
            "Suddenly, he was no longer walking down a dusty street. He was in a sun-drenched orchard, the air filled with the sweet scent of blossoms. He could hear the buzz of bees, the rustle of leaves, the distant call of a bird. He was *there*, experiencing the orchard through the apple.\n",
            "\n",
            "Over the next few days, Finn discovered the backpack's magic. A pinch of spices from the backpack transported him to a bustling Indian market, the aroma of saffron and cardamom swirling around him. A single feather, plucked from the backpack, whisked him to a windswept cliff overlooking a churning ocean, the salty spray stinging his face.\n",
            "\n",
            "He began to use the backpack to escape the mundane, to experience the world without leaving his room. He went to the bustling streets of Tokyo, to the silent stillness of the Amazon rainforest, to the snow-capped peaks of the Himalayas. \n",
            "\n",
            "But soon, the backpack’s magic began to feel like a prison. He craved real experiences, the messy, chaotic reality that he'd been avoiding. He wanted to smell the rain on his skin, to feel the sand between his toes, to taste the salty air of the ocean.\n",
            "\n",
            "One day, Finn decided to break free. He packed the backpack with a single, worn-out book, a travelogue about a remote island in the South Pacific. He took a deep breath and stepped outside, ready to face the world, his magic backpack a reminder of the extraordinary experiences that awaited him, both real and imagined. \n",
            "\n"
          ]
        }
      ]
    },
    {
      "cell_type": "code",
      "source": [
        "import PIL.Image\n",
        "import google.generativeai as genai\n",
        "\n",
        "model = genai.GenerativeModel(\"gemini-1.5-flash\")\n",
        "\n",
        "# Assuming \"spendingjpg.jpg\" is in the current directory\n",
        "image_path = \"spendingjpg.jpg\"\n",
        "spending = PIL.Image.open(image_path)\n",
        "\n",
        "# Make sure \"mortgage\" is defined and holds the actual image data\n",
        "response = model.generate_content([\"Tell me about the mortgage, clothes and electricity on the spending plan\", spending])\n",
        "print(response.text)"
      ],
      "metadata": {
        "colab": {
          "base_uri": "https://localhost:8080/",
          "height": 291
        },
        "id": "PLgOMqx8-tpw",
        "outputId": "c4f6798b-5e1c-4ae8-ee04-aabd6e61fc3a"
      },
      "execution_count": null,
      "outputs": [
        {
          "output_type": "stream",
          "name": "stdout",
          "text": [
            "The spending plan shows the following amounts for mortgage, clothes and electricity: \n",
            "\n",
            "**Mortgage:**\n",
            "\n",
            "* **Mortgage:** 1141.2\n",
            "* **Extra mortgage:** 200 \n",
            "\n",
            "**Clothes:**\n",
            "\n",
            "* **Clothes:** 40\n",
            "\n",
            "**Electricity:**\n",
            "\n",
            "* **Electricity + gas:** 200.42 \n",
            "\n"
          ]
        }
      ]
    },
    {
      "cell_type": "code",
      "source": [
        "#text generation - streaming\n",
        "model = genai.GenerativeModel(\"gemini-1.5-flash\")\n",
        "response = model.generate_content(\"Write a story about a magic backpack.\", stream=True)\n",
        "for chunk in response:\n",
        "    print(chunk.text)\n",
        "    print(\"_\" * 80)"
      ],
      "metadata": {
        "id": "49FYTH6dAyWh"
      },
      "execution_count": null,
      "outputs": []
    },
    {
      "cell_type": "code",
      "source": [
        "model = genai.GenerativeModel(\"gemini-1.5-flash\")\n",
        "response = model.generate_content(\n",
        "    \"Tell me a story about a magic backpack.\",\n",
        "    generation_config=genai.types.GenerationConfig(\n",
        "        # Only one candidate for now.\n",
        "        candidate_count=1,\n",
        "        stop_sequences=[\"x\"],\n",
        "        max_output_tokens=20,\n",
        "        temperature=1.0,\n",
        "        top_k=1,\n",
        "        top_p=1,\n",
        "    ),\n",
        ")\n",
        "\n",
        "print(response.text)"
      ],
      "metadata": {
        "colab": {
          "base_uri": "https://localhost:8080/",
          "height": 35
        },
        "id": "o19hVzYlA7Fc",
        "outputId": "725099db-0147-44da-f908-63186f22f747"
      },
      "execution_count": null,
      "outputs": [
        {
          "output_type": "stream",
          "name": "stdout",
          "text": [
            "Elara, a girl with eyes the color of stormy seas and a mop of unruly red hair,\n"
          ]
        }
      ]
    },
    {
      "cell_type": "code",
      "source": [
        "model = genai.GenerativeModel(\"gemini-1.5-flash\")\n",
        "chat = model.start_chat(\n",
        "    history=[\n",
        "        {\"role\": \"user\", \"parts\": \"Hello\"},\n",
        "        {\"role\": \"model\", \"parts\": \"Great to meet you. What would you like to know?\"},\n",
        "    ]\n",
        ")\n",
        "response = chat.send_message(\"I have 2 dogs in my house.\")\n",
        "print(response.text)\n",
        "response = chat.send_message(\"How many paws are in my house?\")\n",
        "print(response.text)"
      ],
      "metadata": {
        "id": "NeOC4tWOCD-f"
      },
      "execution_count": null,
      "outputs": []
    },
    {
      "cell_type": "markdown",
      "source": [
        "**stream text**"
      ],
      "metadata": {
        "id": "53iJMj5RUGUu"
      }
    },
    {
      "cell_type": "code",
      "source": [
        "model = genai.GenerativeModel(\"gemini-1.5-flash\")\n",
        "response = model.generate_content(\"Write a story about a magic backpack.\", stream=True)\n",
        "for chunk in response:\n",
        "    print(chunk.text)\n",
        "    print(\"_\" * 80)"
      ],
      "metadata": {
        "colab": {
          "base_uri": "https://localhost:8080/",
          "height": 858
        },
        "id": "HC3CJ-HtUEhc",
        "outputId": "c65ac29a-0213-4482-998c-3fb48cf66d6a"
      },
      "execution_count": null,
      "outputs": [
        {
          "output_type": "stream",
          "name": "stdout",
          "text": [
            "El\n",
            "________________________________________________________________________________\n",
            "ara wasn't sure what was more strange, the old, leather backpack she\n",
            "________________________________________________________________________________\n",
            "'d found in the dusty attic, or the fact it seemed to have a\n",
            "________________________________________________________________________________\n",
            " life of its own. The worn leather was soft and warm to the touch, and the buckles, intricately carved with forgotten symbols, felt surprisingly smooth against her\n",
            "________________________________________________________________________________\n",
            " fingers. The most peculiar thing was the faint hum that emanated from it, a low, almost musical vibration that pulsed with an energy she couldn't explain\n",
            "________________________________________________________________________________\n",
            ".\n",
            "\n",
            "That night, Elara dreamt of a world beyond her understanding. She dreamt of towering waterfalls and sparkling caves, of forests teeming with creatures she'd never seen before, and of a voice whispering, \"Adventure awaits.\" \n",
            "\n",
            "\n",
            "________________________________________________________________________________\n",
            "The next morning, Elara couldn't shake the feeling that something was different. The backpack, which had felt heavy in the attic, seemed lighter than air, almost as if it were suspended in thin air. She slung it on\n",
            "________________________________________________________________________________\n",
            " her back, and to her astonishment, it fit perfectly, as if it had always been meant for her.\n",
            "\n",
            "With a mischievous grin, Elara set off for the local woods. As she walked, she noticed strange things happening. The path ahead seemed to clear itself, as if guided by an invisible hand. Birds\n",
            "________________________________________________________________________________\n",
            " sang in a rhythm that seemed to mimic the hum of the backpack.  And the woods, once familiar, felt alive with a vibrant energy she'd never experienced before.\n",
            "\n",
            "When she reached a clearing, she pulled out a tattered map she'd found in the attic, a map that, strangely enough, mirrored\n",
            "________________________________________________________________________________\n",
            " the woods around her. But as she traced her finger along the lines, a small compartment on the backpack opened, revealing a compass. It wasn't just any compass; it glowed with an internal light, pointing towards a hidden path within the woods. \n",
            "\n",
            "Curiosity sparked within Elara. She followed the path\n",
            "________________________________________________________________________________\n",
            ", the compass guiding her way, and soon, she came upon a hidden waterfall. Its cascading water shimmered with an otherworldly glow, and as she reached out to touch it, she felt a surge of energy course through her, leaving her feeling refreshed and invigorated.\n",
            "\n",
            "The backpack, it seemed, was more\n",
            "________________________________________________________________________________\n",
            " than just a bag. It was a portal, a key to a world of wonder that lay hidden just beyond the ordinary. It opened doors to breathtaking landscapes, whispered secrets to the wind, and guided her towards adventures she'd never imagined. \n",
            "\n",
            "From then on, Elara's life was transformed. She\n",
            "________________________________________________________________________________\n",
            " discovered ancient ruins, met talking animals, and even learned to speak the language of the wind. The backpack, her constant companion, became her confidant, her guide, and her friend. It taught her the importance of courage, the power of curiosity, and the magic that lay dormant within the world.\n",
            "\n",
            "And so\n",
            "________________________________________________________________________________\n",
            ", Elara, the girl who had once been ordinary, became a legend, whispered about in hushed tones by those who dared to dream, a girl who had found the extraordinary, tucked away in the depths of an old, leather backpack. \n",
            "\n",
            "________________________________________________________________________________\n"
          ]
        }
      ]
    },
    {
      "cell_type": "markdown",
      "source": [
        "https://ai.google.dev/gemini-api/docs/quickstart?lang=python\n"
      ],
      "metadata": {
        "id": "bcbvFQ3VVSNf"
      }
    },
    {
      "cell_type": "code",
      "source": [
        "import PIL.Image\n",
        "import google.generativeai as genai\n",
        "\n",
        "model = genai.GenerativeModel(\"gemini-1.5-flash\")\n",
        "\n",
        "# Assuming \"spendingjpg.jpg\" is in the current directory\n",
        "image_path = \"20240903_175402.jpg\"\n",
        "shopping = PIL.Image.open(image_path)\n",
        "\n",
        "# Make sure \"mortgage\" is defined and holds the actual image data\n",
        "response = model.generate_content([\"Give a list of all the items and the cost and display them side by side comma delimited and remove the currency sign\", shopping])\n",
        "print(response.text)"
      ],
      "metadata": {
        "id": "xmElcPa8VVHD",
        "colab": {
          "base_uri": "https://localhost:8080/",
          "height": 538
        },
        "outputId": "8b52c61e-6c45-4823-9fd3-b111fa6af191"
      },
      "execution_count": null,
      "outputs": [
        {
          "output_type": "stream",
          "name": "stdout",
          "text": [
            "CIGARETTES,1.70\n",
            "CREAM,1.00\n",
            "FF DRINK,2.70\n",
            "BUTTER,2.39\n",
            "GRAPES,2.30\n",
            "CHERRIES,3.00\n",
            "LETTUCE,0.38\n",
            "BANANAS,1.00\n",
            "CITRUS,2.70\n",
            "SPINACH,1.00\n",
            "CORIANDER,2.00\n",
            "SLICED CHEESE,1.59\n",
            "SALT,1.60\n",
            "SALAD ONIONS,1.69\n",
            "ALL AD,2.00\n",
            "LETTUCE,1.65\n",
            "FINE BEANS,2.79\n",
            "SALAD ONIONS,2.00\n",
            "CREAD,1.85\n",
            "LIVING SALAD,1.89\n",
            "PREAD,1.95\n",
            "CUCUMBER,2.17\n",
            "PAPAYA,2.73\n",
            "AUBERGINE,2.80\n",
            "CHAYOTE,1.95\n",
            "DUDH 520 KG,1.30\n",
            "TOMATOES,1.31\n",
            "MUSHROOMS,2.90\n",
            "TOMATOES,1.30\n",
            "LIMES,2.30\n"
          ]
        }
      ]
    },
    {
      "cell_type": "code",
      "source": [
        "# prompt: write the output to a csv file\n",
        "\n",
        "with open('output.csv', 'w') as f:\n",
        "  f.write(response.text)\n"
      ],
      "metadata": {
        "id": "eGQFsd9D1_8p"
      },
      "execution_count": null,
      "outputs": []
    }
  ]
}