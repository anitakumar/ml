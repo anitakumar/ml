{
  "cells": [
    {
      "cell_type": "markdown",
      "metadata": {
        "id": "view-in-github",
        "colab_type": "text"
      },
      "source": [
        "<a href=\"https://colab.research.google.com/github/anitakumar/ml/blob/main/asg_terraform_Demo_01_Data_Preparation_Custom_for_fine_tunning.ipynb\" target=\"_parent\"><img src=\"https://colab.research.google.com/assets/colab-badge.svg\" alt=\"Open In Colab\"/></a>"
      ]
    },
    {
      "cell_type": "markdown",
      "id": "0d18b16f-fb05-48ab-a26c-ad1f2b644083",
      "metadata": {
        "id": "0d18b16f-fb05-48ab-a26c-ad1f2b644083"
      },
      "source": [
        "# **Demo: Data preparation**"
      ]
    },
    {
      "cell_type": "markdown",
      "id": "Qv6gIwj_toH8",
      "metadata": {
        "id": "Qv6gIwj_toH8"
      },
      "source": [
        "# **Description**\n",
        "In this tutorial, you will walk through the process of preparing data for fine-tuning a LLM."
      ]
    },
    {
      "cell_type": "markdown",
      "id": "eIXu77jIqDmI",
      "metadata": {
        "id": "eIXu77jIqDmI"
      },
      "source": [
        "# **Steps to perform:**\n",
        "\n",
        "1. Import necessary libraries\n",
        "2. Load and prepare the dataset\n",
        "3. Tokenize a single example\n",
        "4. Handle long sequences\n",
        "5. Tokenize the instruction dataset\n",
        "6. Tokenize the entire dataset\n",
        "7. Add labels\n",
        "8. Prepare test/train splits\n",
        "\n"
      ]
    },
    {
      "cell_type": "markdown",
      "id": "0lEgedNVtubZ",
      "metadata": {
        "id": "0lEgedNVtubZ"
      },
      "source": [
        "# **Step 1: Import necessary libraries**\n"
      ]
    },
    {
      "cell_type": "code",
      "source": [
        "from google.colab import userdata\n",
        "api_key = userdata.get('OPENAI_API_KEY')\n",
        "OPENAI_API_KEY = userdata.get('OPENAI_API_KEY')\n"
      ],
      "metadata": {
        "id": "44YcRtJJwT_3"
      },
      "id": "44YcRtJJwT_3",
      "execution_count": null,
      "outputs": []
    },
    {
      "cell_type": "code",
      "source": [
        "!pip install datasets"
      ],
      "metadata": {
        "colab": {
          "base_uri": "https://localhost:8080/"
        },
        "id": "JIUSUp4_weYp",
        "outputId": "8f6fded0-f7bf-475d-acd9-a32b0a5c3be7"
      },
      "id": "JIUSUp4_weYp",
      "execution_count": null,
      "outputs": [
        {
          "output_type": "stream",
          "name": "stdout",
          "text": [
            "Requirement already satisfied: datasets in /usr/local/lib/python3.11/dist-packages (3.4.1)\n",
            "Requirement already satisfied: filelock in /usr/local/lib/python3.11/dist-packages (from datasets) (3.17.0)\n",
            "Requirement already satisfied: numpy>=1.17 in /usr/local/lib/python3.11/dist-packages (from datasets) (2.0.2)\n",
            "Requirement already satisfied: pyarrow>=15.0.0 in /usr/local/lib/python3.11/dist-packages (from datasets) (18.1.0)\n",
            "Requirement already satisfied: dill<0.3.9,>=0.3.0 in /usr/local/lib/python3.11/dist-packages (from datasets) (0.3.8)\n",
            "Requirement already satisfied: pandas in /usr/local/lib/python3.11/dist-packages (from datasets) (2.2.2)\n",
            "Requirement already satisfied: requests>=2.32.2 in /usr/local/lib/python3.11/dist-packages (from datasets) (2.32.3)\n",
            "Requirement already satisfied: tqdm>=4.66.3 in /usr/local/lib/python3.11/dist-packages (from datasets) (4.67.1)\n",
            "Requirement already satisfied: xxhash in /usr/local/lib/python3.11/dist-packages (from datasets) (3.5.0)\n",
            "Requirement already satisfied: multiprocess<0.70.17 in /usr/local/lib/python3.11/dist-packages (from datasets) (0.70.16)\n",
            "Requirement already satisfied: fsspec<=2024.12.0,>=2023.1.0 in /usr/local/lib/python3.11/dist-packages (from fsspec[http]<=2024.12.0,>=2023.1.0->datasets) (2024.10.0)\n",
            "Requirement already satisfied: aiohttp in /usr/local/lib/python3.11/dist-packages (from datasets) (3.11.13)\n",
            "Requirement already satisfied: huggingface-hub>=0.24.0 in /usr/local/lib/python3.11/dist-packages (from datasets) (0.28.1)\n",
            "Requirement already satisfied: packaging in /usr/local/lib/python3.11/dist-packages (from datasets) (24.2)\n",
            "Requirement already satisfied: pyyaml>=5.1 in /usr/local/lib/python3.11/dist-packages (from datasets) (6.0.2)\n",
            "Requirement already satisfied: aiohappyeyeballs>=2.3.0 in /usr/local/lib/python3.11/dist-packages (from aiohttp->datasets) (2.6.1)\n",
            "Requirement already satisfied: aiosignal>=1.1.2 in /usr/local/lib/python3.11/dist-packages (from aiohttp->datasets) (1.3.2)\n",
            "Requirement already satisfied: attrs>=17.3.0 in /usr/local/lib/python3.11/dist-packages (from aiohttp->datasets) (25.3.0)\n",
            "Requirement already satisfied: frozenlist>=1.1.1 in /usr/local/lib/python3.11/dist-packages (from aiohttp->datasets) (1.5.0)\n",
            "Requirement already satisfied: multidict<7.0,>=4.5 in /usr/local/lib/python3.11/dist-packages (from aiohttp->datasets) (6.1.0)\n",
            "Requirement already satisfied: propcache>=0.2.0 in /usr/local/lib/python3.11/dist-packages (from aiohttp->datasets) (0.3.0)\n",
            "Requirement already satisfied: yarl<2.0,>=1.17.0 in /usr/local/lib/python3.11/dist-packages (from aiohttp->datasets) (1.18.3)\n",
            "Requirement already satisfied: typing-extensions>=3.7.4.3 in /usr/local/lib/python3.11/dist-packages (from huggingface-hub>=0.24.0->datasets) (4.12.2)\n",
            "Requirement already satisfied: charset-normalizer<4,>=2 in /usr/local/lib/python3.11/dist-packages (from requests>=2.32.2->datasets) (3.4.1)\n",
            "Requirement already satisfied: idna<4,>=2.5 in /usr/local/lib/python3.11/dist-packages (from requests>=2.32.2->datasets) (3.10)\n",
            "Requirement already satisfied: urllib3<3,>=1.21.1 in /usr/local/lib/python3.11/dist-packages (from requests>=2.32.2->datasets) (2.3.0)\n",
            "Requirement already satisfied: certifi>=2017.4.17 in /usr/local/lib/python3.11/dist-packages (from requests>=2.32.2->datasets) (2025.1.31)\n",
            "Requirement already satisfied: python-dateutil>=2.8.2 in /usr/local/lib/python3.11/dist-packages (from pandas->datasets) (2.8.2)\n",
            "Requirement already satisfied: pytz>=2020.1 in /usr/local/lib/python3.11/dist-packages (from pandas->datasets) (2025.1)\n",
            "Requirement already satisfied: tzdata>=2022.7 in /usr/local/lib/python3.11/dist-packages (from pandas->datasets) (2025.1)\n",
            "Requirement already satisfied: six>=1.5 in /usr/local/lib/python3.11/dist-packages (from python-dateutil>=2.8.2->pandas->datasets) (1.17.0)\n"
          ]
        }
      ]
    },
    {
      "cell_type": "code",
      "execution_count": null,
      "id": "1fdcedcd-0918-463b-8ad0-631a3ccc56cb",
      "metadata": {
        "id": "1fdcedcd-0918-463b-8ad0-631a3ccc56cb"
      },
      "outputs": [],
      "source": [
        "import pandas as pd\n",
        "import datasets\n",
        "from pprint import pprint # Pretty Print\n",
        "from transformers import AutoTokenizer"
      ]
    },
    {
      "cell_type": "markdown",
      "source": [
        "# using transformer based acrhitecture. use for text summarization, sentence based"
      ],
      "metadata": {
        "id": "cFs266sXwpvs"
      },
      "id": "cFs266sXwpvs"
    },
    {
      "cell_type": "code",
      "execution_count": null,
      "id": "fdd939ab-c653-4cc6-abec-9efe7d2e6ea6",
      "metadata": {
        "id": "fdd939ab-c653-4cc6-abec-9efe7d2e6ea6"
      },
      "outputs": [],
      "source": [
        "tokenizer = AutoTokenizer.from_pretrained(\"EleutherAI/pythia-70m\")"
      ]
    },
    {
      "cell_type": "markdown",
      "id": "b75e2381-205d-4d72-a47f-a0e875fe52aa",
      "metadata": {
        "id": "b75e2381-205d-4d72-a47f-a0e875fe52aa"
      },
      "source": [
        "# **Step 2: Load and prepare the dataset**\n",
        "\n"
      ]
    },
    {
      "cell_type": "code",
      "source": [
        "!pip install langchain_openai -q\n",
        "from langchain_openai import ChatOpenAI\n",
        "llm = ChatOpenAI(openai_api_key=api_key)\n",
        "output = llm.invoke('can you give me terraform troublehsooting tips in a json format, error type, example and then the solution. it should include conguration of terraform code errors. The output should be json string', model='gpt-4o-mini')\n",
        "print(output.content)\n"
      ],
      "metadata": {
        "colab": {
          "base_uri": "https://localhost:8080/"
        },
        "id": "GbkLwxyq_8Gf",
        "outputId": "067886b7-f6c4-446d-fc41-71353f1d10b1"
      },
      "id": "GbkLwxyq_8Gf",
      "execution_count": null,
      "outputs": [
        {
          "output_type": "stream",
          "name": "stdout",
          "text": [
            "Here's a JSON-formatted string containing Terraform troubleshooting tips, including error types, examples, and solutions:\n",
            "\n",
            "```json\n",
            "{\n",
            "  \"troubleshooting_tips\": [\n",
            "    {\n",
            "      \"error_type\": \"Resource Not Found\",\n",
            "      \"example\": \"Error: Error loading state: Resource not found\",\n",
            "      \"solution\": \"Check if the resource has been deleted or if the resource ID is correct. Make sure to refresh the state using `terraform refresh`.\"\n",
            "    },\n",
            "    {\n",
            "      \"error_type\": \"Invalid Argument Error\",\n",
            "      \"example\": \"Error: Invalid value for attribute \\\"xyz\\\": expected to be a string\",\n",
            "      \"solution\": \"Verify the input variables in your `.tfvars` file or in the state. Ensure that the values passed match the expected type. Check the documentation for correct data types for resource attributes.\"\n",
            "    },\n",
            "    {\n",
            "      \"error_type\": \"Provider Configuration Error\",\n",
            "      \"example\": \"Error: No provider \"aws\" exists\",\n",
            "      \"solution\": \"Ensure that the provider block is correctly defined in your configuration. Install the necessary provider with `terraform init`.\"\n",
            "    },\n",
            "    {\n",
            "      \"error_type\": \"Dependency Error\",\n",
            "      \"example\": \"Error: Cycle: aws_instance.example -> aws_security_group.example\",\n",
            "      \"solution\": \"Inspect the dependency graph with `terraform graph` and resolve circular dependencies by restructuring resources or adding explicit `depends_on` attributes.\"\n",
            "    },\n",
            "    {\n",
            "      \"error_type\": \"State File Lock\",\n",
            "      \"example\": \"Error: Error acquiring the state lock\",\n",
            "      \"solution\": \"If another process is running, wait for it to complete. If you're sure no other processes are using the state, use `terraform force-unlock <LOCK_ID>` to unlock the state file.\"\n",
            "    },\n",
            "    {\n",
            "      \"error_type\": \"Variable Type Mismatch\",\n",
            "      \"example\": \"Error: Invalid value for variable \\\"ami_id\\\": string required.\",\n",
            "      \"solution\": \"Check the variable declaration in your `variables.tf` file for type constraints. Ensure the input value matches the expected type.\"\n",
            "    },\n",
            "    {\n",
            "      \"error_type\": \"Provider Version Conflict\",\n",
            "      \"example\": \"Error: Incompatible provider version\",\n",
            "      \"solution\": \"Specify the required provider version in your configuration using the `required_providers` block in provider definition and run `terraform init`.\"\n",
            "    },\n",
            "    {\n",
            "      \"error_type\": \"Output Value Reference Error\",\n",
            "      \"example\": \"Error: Invalid reference: No attribute named \\\"instance_id\\\"\",\n",
            "      \"solution\": \"Make sure the resource you are trying to reference exists and is properly defined. Check the spelling of the output variable.\"\n",
            "    },\n",
            "    {\n",
            "      \"error_type\": \"Authentication Error\",\n",
            "      \"example\": \"Error: AWS credentials are not valid\",\n",
            "      \"solution\": \"Verify your AWS credentials in the environment variables, shared credentials file, or EC2 instance profile. Ensure that they are configured correctly.\"\n",
            "    },\n",
            "    {\n",
            "      \"error_type\": \"Invalid Resource Argument\",\n",
            "      \"example\": \"Error: Missing required argument \\\"vpc_id\\\"\",\n",
            "      \"solution\": \"Double-check your resource configuration for missing required arguments. Refer to the documentation for the specific resource to ensure all required parameters are provided.\"\n",
            "    },\n",
            "    {\n",
            "      \"error_type\": \"Logical Resource Conflict\",\n",
            "      \"example\": \"Error: A resource named \\\"example\\\" already exists\",\n",
            "      \"solution\": \"Check your configuration and state to ensure you are not trying to create a resource that already exists. Consider importing the existing resource into Terraform using `terraform import`.\"\n",
            "    }\n",
            "  ]\n",
            "}\n",
            "```\n",
            "\n",
            "This JSON string contains a list of common Terraform troubleshooting scenarios, which can help in identifying errors and finding solutions. Each entry provides an error type, an example of the error, and a recommended solution.\n"
          ]
        }
      ]
    },
    {
      "cell_type": "code",
      "source": [
        "processed_content = output.content.replace(\"```\", \"\").replace(\"\\n\", \"\")\n",
        "print(processed_content)\n"
      ],
      "metadata": {
        "colab": {
          "base_uri": "https://localhost:8080/"
        },
        "id": "snV6zfWs6jM9",
        "outputId": "21fb695f-a5a8-4559-d176-314264fcd7b6"
      },
      "id": "snV6zfWs6jM9",
      "execution_count": null,
      "outputs": [
        {
          "output_type": "stream",
          "name": "stdout",
          "text": [
            "Here's a JSON-formatted string containing Terraform troubleshooting tips, including error types, examples, and solutions:json{  \"troubleshooting_tips\": [    {      \"error_type\": \"Resource Not Found\",      \"example\": \"Error: Error loading state: Resource not found\",      \"solution\": \"Check if the resource has been deleted or if the resource ID is correct. Make sure to refresh the state using `terraform refresh`.\"    },    {      \"error_type\": \"Invalid Argument Error\",      \"example\": \"Error: Invalid value for attribute \\\"xyz\\\": expected to be a string\",      \"solution\": \"Verify the input variables in your `.tfvars` file or in the state. Ensure that the values passed match the expected type. Check the documentation for correct data types for resource attributes.\"    },    {      \"error_type\": \"Provider Configuration Error\",      \"example\": \"Error: No provider \"aws\" exists\",      \"solution\": \"Ensure that the provider block is correctly defined in your configuration. Install the necessary provider with `terraform init`.\"    },    {      \"error_type\": \"Dependency Error\",      \"example\": \"Error: Cycle: aws_instance.example -> aws_security_group.example\",      \"solution\": \"Inspect the dependency graph with `terraform graph` and resolve circular dependencies by restructuring resources or adding explicit `depends_on` attributes.\"    },    {      \"error_type\": \"State File Lock\",      \"example\": \"Error: Error acquiring the state lock\",      \"solution\": \"If another process is running, wait for it to complete. If you're sure no other processes are using the state, use `terraform force-unlock <LOCK_ID>` to unlock the state file.\"    },    {      \"error_type\": \"Variable Type Mismatch\",      \"example\": \"Error: Invalid value for variable \\\"ami_id\\\": string required.\",      \"solution\": \"Check the variable declaration in your `variables.tf` file for type constraints. Ensure the input value matches the expected type.\"    },    {      \"error_type\": \"Provider Version Conflict\",      \"example\": \"Error: Incompatible provider version\",      \"solution\": \"Specify the required provider version in your configuration using the `required_providers` block in provider definition and run `terraform init`.\"    },    {      \"error_type\": \"Output Value Reference Error\",      \"example\": \"Error: Invalid reference: No attribute named \\\"instance_id\\\"\",      \"solution\": \"Make sure the resource you are trying to reference exists and is properly defined. Check the spelling of the output variable.\"    },    {      \"error_type\": \"Authentication Error\",      \"example\": \"Error: AWS credentials are not valid\",      \"solution\": \"Verify your AWS credentials in the environment variables, shared credentials file, or EC2 instance profile. Ensure that they are configured correctly.\"    },    {      \"error_type\": \"Invalid Resource Argument\",      \"example\": \"Error: Missing required argument \\\"vpc_id\\\"\",      \"solution\": \"Double-check your resource configuration for missing required arguments. Refer to the documentation for the specific resource to ensure all required parameters are provided.\"    },    {      \"error_type\": \"Logical Resource Conflict\",      \"example\": \"Error: A resource named \\\"example\\\" already exists\",      \"solution\": \"Check your configuration and state to ensure you are not trying to create a resource that already exists. Consider importing the existing resource into Terraform using `terraform import`.\"    }  ]}This JSON string contains a list of common Terraform troubleshooting scenarios, which can help in identifying errors and finding solutions. Each entry provides an error type, an example of the error, and a recommended solution.\n"
          ]
        }
      ]
    },
    {
      "cell_type": "code",
      "source": [
        "type(processed_content)"
      ],
      "metadata": {
        "colab": {
          "base_uri": "https://localhost:8080/"
        },
        "id": "7P3gl3LI9VPG",
        "outputId": "c4d1232b-17fa-4899-b6c1-44ff4f302441"
      },
      "id": "7P3gl3LI9VPG",
      "execution_count": null,
      "outputs": [
        {
          "output_type": "execute_result",
          "data": {
            "text/plain": [
              "str"
            ]
          },
          "metadata": {},
          "execution_count": 115
        }
      ]
    },
    {
      "cell_type": "code",
      "source": [
        "processed_content"
      ],
      "metadata": {
        "colab": {
          "base_uri": "https://localhost:8080/",
          "height": 202
        },
        "id": "v8VaL9CgSLoe",
        "outputId": "671d80d1-1881-45d0-fcc9-16ebb4937d61"
      },
      "id": "v8VaL9CgSLoe",
      "execution_count": null,
      "outputs": [
        {
          "output_type": "execute_result",
          "data": {
            "text/plain": [
              "'Here\\'s a JSON-formatted string containing Terraform troubleshooting tips, including error types, examples, and solutions:json{  \"troubleshooting_tips\": [    {      \"error_type\": \"Resource Not Found\",      \"example\": \"Error: Error loading state: Resource not found\",      \"solution\": \"Check if the resource has been deleted or if the resource ID is correct. Make sure to refresh the state using `terraform refresh`.\"    },    {      \"error_type\": \"Invalid Argument Error\",      \"example\": \"Error: Invalid value for attribute \\\\\"xyz\\\\\": expected to be a string\",      \"solution\": \"Verify the input variables in your `.tfvars` file or in the state. Ensure that the values passed match the expected type. Check the documentation for correct data types for resource attributes.\"    },    {      \"error_type\": \"Provider Configuration Error\",      \"example\": \"Error: No provider \"aws\" exists\",      \"solution\": \"Ensure that the provider block is correctly defined in your configuration. Install the necessary provider with `terraform init`.\"    },    {      \"error_type\": \"Dependency Error\",      \"example\": \"Error: Cycle: aws_instance.example -> aws_security_group.example\",      \"solution\": \"Inspect the dependency graph with `terraform graph` and resolve circular dependencies by restructuring resources or adding explicit `depends_on` attributes.\"    },    {      \"error_type\": \"State File Lock\",      \"example\": \"Error: Error acquiring the state lock\",      \"solution\": \"If another process is running, wait for it to complete. If you\\'re sure no other processes are using the state, use `terraform force-unlock <LOCK_ID>` to unlock the state file.\"    },    {      \"error_type\": \"Variable Type Mismatch\",      \"example\": \"Error: Invalid value for variable \\\\\"ami_id\\\\\": string required.\",      \"solution\": \"Check the variable declaration in your `variables.tf` file for type constraints. Ensure the input value matches the expected type.\"    },    {      \"error_type\": \"Provider Version Conflict\",      \"example\": \"Error: Incompatible provider version\",      \"solution\": \"Specify the required provider version in your configuration using the `required_providers` block in provider definition and run `terraform init`.\"    },    {      \"error_type\": \"Output Value Reference Error\",      \"example\": \"Error: Invalid reference: No attribute named \\\\\"instance_id\\\\\"\",      \"solution\": \"Make sure the resource you are trying to reference exists and is properly defined. Check the spelling of the output variable.\"    },    {      \"error_type\": \"Authentication Error\",      \"example\": \"Error: AWS credentials are not valid\",      \"solution\": \"Verify your AWS credentials in the environment variables, shared credentials file, or EC2 instance profile. Ensure that they are configured correctly.\"    },    {      \"error_type\": \"Invalid Resource Argument\",      \"example\": \"Error: Missing required argument \\\\\"vpc_id\\\\\"\",      \"solution\": \"Double-check your resource configuration for missing required arguments. Refer to the documentation for the specific resource to ensure all required parameters are provided.\"    },    {      \"error_type\": \"Logical Resource Conflict\",      \"example\": \"Error: A resource named \\\\\"example\\\\\" already exists\",      \"solution\": \"Check your configuration and state to ensure you are not trying to create a resource that already exists. Consider importing the existing resource into Terraform using `terraform import`.\"    }  ]}This JSON string contains a list of common Terraform troubleshooting scenarios, which can help in identifying errors and finding solutions. Each entry provides an error type, an example of the error, and a recommended solution.'"
            ],
            "application/vnd.google.colaboratory.intrinsic+json": {
              "type": "string"
            }
          },
          "metadata": {},
          "execution_count": 116
        }
      ]
    },
    {
      "source": [
        "import json\n",
        "import re\n",
        "\n",
        "# Search for the first opening curly brace and start from there\n",
        "match = re.search(r'\\{', output.content)\n",
        "if match:\n",
        "    # Extract the JSON string starting from the opening curly brace\n",
        "    json_string = output.content[match.start():]\n",
        "\n",
        "    # Find the position of the last closing curly brace\n",
        "    last_brace_index = json_string.rfind('}')\n",
        "\n",
        "    # Extract the valid JSON content\n",
        "    processed_content = json_string[:last_brace_index + 1]\n",
        "\n",
        "    # Attempt to load the JSON data\n",
        "    try:\n",
        "        json_data = json.loads(processed_content)\n",
        "        print(json_data)\n",
        "    except json.JSONDecodeError as e:\n",
        "        print(f\"Error decoding JSON: {e}\")\n",
        "        print(f\"Processed content: {processed_content}\") # Print processed_content for debugging"
      ],
      "cell_type": "code",
      "metadata": {
        "colab": {
          "base_uri": "https://localhost:8080/"
        },
        "id": "_TnsqiKR-IyR",
        "outputId": "a79c7718-cb47-4d50-d587-c4e58937877d"
      },
      "id": "_TnsqiKR-IyR",
      "execution_count": null,
      "outputs": [
        {
          "output_type": "stream",
          "name": "stdout",
          "text": [
            "Error decoding JSON: Expecting ',' delimiter: line 15 column 39 (char 760)\n",
            "Processed content: {\n",
            "  \"troubleshooting_tips\": [\n",
            "    {\n",
            "      \"error_type\": \"Resource Not Found\",\n",
            "      \"example\": \"Error: Error loading state: Resource not found\",\n",
            "      \"solution\": \"Check if the resource has been deleted or if the resource ID is correct. Make sure to refresh the state using `terraform refresh`.\"\n",
            "    },\n",
            "    {\n",
            "      \"error_type\": \"Invalid Argument Error\",\n",
            "      \"example\": \"Error: Invalid value for attribute \\\"xyz\\\": expected to be a string\",\n",
            "      \"solution\": \"Verify the input variables in your `.tfvars` file or in the state. Ensure that the values passed match the expected type. Check the documentation for correct data types for resource attributes.\"\n",
            "    },\n",
            "    {\n",
            "      \"error_type\": \"Provider Configuration Error\",\n",
            "      \"example\": \"Error: No provider \"aws\" exists\",\n",
            "      \"solution\": \"Ensure that the provider block is correctly defined in your configuration. Install the necessary provider with `terraform init`.\"\n",
            "    },\n",
            "    {\n",
            "      \"error_type\": \"Dependency Error\",\n",
            "      \"example\": \"Error: Cycle: aws_instance.example -> aws_security_group.example\",\n",
            "      \"solution\": \"Inspect the dependency graph with `terraform graph` and resolve circular dependencies by restructuring resources or adding explicit `depends_on` attributes.\"\n",
            "    },\n",
            "    {\n",
            "      \"error_type\": \"State File Lock\",\n",
            "      \"example\": \"Error: Error acquiring the state lock\",\n",
            "      \"solution\": \"If another process is running, wait for it to complete. If you're sure no other processes are using the state, use `terraform force-unlock <LOCK_ID>` to unlock the state file.\"\n",
            "    },\n",
            "    {\n",
            "      \"error_type\": \"Variable Type Mismatch\",\n",
            "      \"example\": \"Error: Invalid value for variable \\\"ami_id\\\": string required.\",\n",
            "      \"solution\": \"Check the variable declaration in your `variables.tf` file for type constraints. Ensure the input value matches the expected type.\"\n",
            "    },\n",
            "    {\n",
            "      \"error_type\": \"Provider Version Conflict\",\n",
            "      \"example\": \"Error: Incompatible provider version\",\n",
            "      \"solution\": \"Specify the required provider version in your configuration using the `required_providers` block in provider definition and run `terraform init`.\"\n",
            "    },\n",
            "    {\n",
            "      \"error_type\": \"Output Value Reference Error\",\n",
            "      \"example\": \"Error: Invalid reference: No attribute named \\\"instance_id\\\"\",\n",
            "      \"solution\": \"Make sure the resource you are trying to reference exists and is properly defined. Check the spelling of the output variable.\"\n",
            "    },\n",
            "    {\n",
            "      \"error_type\": \"Authentication Error\",\n",
            "      \"example\": \"Error: AWS credentials are not valid\",\n",
            "      \"solution\": \"Verify your AWS credentials in the environment variables, shared credentials file, or EC2 instance profile. Ensure that they are configured correctly.\"\n",
            "    },\n",
            "    {\n",
            "      \"error_type\": \"Invalid Resource Argument\",\n",
            "      \"example\": \"Error: Missing required argument \\\"vpc_id\\\"\",\n",
            "      \"solution\": \"Double-check your resource configuration for missing required arguments. Refer to the documentation for the specific resource to ensure all required parameters are provided.\"\n",
            "    },\n",
            "    {\n",
            "      \"error_type\": \"Logical Resource Conflict\",\n",
            "      \"example\": \"Error: A resource named \\\"example\\\" already exists\",\n",
            "      \"solution\": \"Check your configuration and state to ensure you are not trying to create a resource that already exists. Consider importing the existing resource into Terraform using `terraform import`.\"\n",
            "    }\n",
            "  ]\n",
            "}\n"
          ]
        }
      ]
    },
    {
      "cell_type": "code",
      "source": [
        "processed_content"
      ],
      "metadata": {
        "colab": {
          "base_uri": "https://localhost:8080/",
          "height": 202
        },
        "id": "hqDwnDO4BnY_",
        "outputId": "b5f3f76e-f3ee-4c93-cc5c-2e9c99f7625d"
      },
      "id": "hqDwnDO4BnY_",
      "execution_count": null,
      "outputs": [
        {
          "output_type": "execute_result",
          "data": {
            "text/plain": [
              "'{\\n  \"troubleshooting_tips\": [\\n    {\\n      \"error_type\": \"Resource Not Found\",\\n      \"example\": \"Error: Error loading state: Resource not found\",\\n      \"solution\": \"Check if the resource has been deleted or if the resource ID is correct. Make sure to refresh the state using `terraform refresh`.\"\\n    },\\n    {\\n      \"error_type\": \"Invalid Argument Error\",\\n      \"example\": \"Error: Invalid value for attribute \\\\\"xyz\\\\\": expected to be a string\",\\n      \"solution\": \"Verify the input variables in your `.tfvars` file or in the state. Ensure that the values passed match the expected type. Check the documentation for correct data types for resource attributes.\"\\n    },\\n    {\\n      \"error_type\": \"Provider Configuration Error\",\\n      \"example\": \"Error: No provider \"aws\" exists\",\\n      \"solution\": \"Ensure that the provider block is correctly defined in your configuration. Install the necessary provider with `terraform init`.\"\\n    },\\n    {\\n      \"error_type\": \"Dependency Error\",\\n      \"example\": \"Error: Cycle: aws_instance.example -> aws_security_group.example\",\\n      \"solution\": \"Inspect the dependency graph with `terraform graph` and resolve circular dependencies by restructuring resources or adding explicit `depends_on` attributes.\"\\n    },\\n    {\\n      \"error_type\": \"State File Lock\",\\n      \"example\": \"Error: Error acquiring the state lock\",\\n      \"solution\": \"If another process is running, wait for it to complete. If you\\'re sure no other processes are using the state, use `terraform force-unlock <LOCK_ID>` to unlock the state file.\"\\n    },\\n    {\\n      \"error_type\": \"Variable Type Mismatch\",\\n      \"example\": \"Error: Invalid value for variable \\\\\"ami_id\\\\\": string required.\",\\n      \"solution\": \"Check the variable declaration in your `variables.tf` file for type constraints. Ensure the input value matches the expected type.\"\\n    },\\n    {\\n      \"error_type\": \"Provider Version Conflict\",\\n      \"example\": \"Error: Incompatible provider version\",\\n      \"solution\": \"Specify the required provider version in your configuration using the `required_providers` block in provider definition and run `terraform init`.\"\\n    },\\n    {\\n      \"error_type\": \"Output Value Reference Error\",\\n      \"example\": \"Error: Invalid reference: No attribute named \\\\\"instance_id\\\\\"\",\\n      \"solution\": \"Make sure the resource you are trying to reference exists and is properly defined. Check the spelling of the output variable.\"\\n    },\\n    {\\n      \"error_type\": \"Authentication Error\",\\n      \"example\": \"Error: AWS credentials are not valid\",\\n      \"solution\": \"Verify your AWS credentials in the environment variables, shared credentials file, or EC2 instance profile. Ensure that they are configured correctly.\"\\n    },\\n    {\\n      \"error_type\": \"Invalid Resource Argument\",\\n      \"example\": \"Error: Missing required argument \\\\\"vpc_id\\\\\"\",\\n      \"solution\": \"Double-check your resource configuration for missing required arguments. Refer to the documentation for the specific resource to ensure all required parameters are provided.\"\\n    },\\n    {\\n      \"error_type\": \"Logical Resource Conflict\",\\n      \"example\": \"Error: A resource named \\\\\"example\\\\\" already exists\",\\n      \"solution\": \"Check your configuration and state to ensure you are not trying to create a resource that already exists. Consider importing the existing resource into Terraform using `terraform import`.\"\\n    }\\n  ]\\n}'"
            ],
            "application/vnd.google.colaboratory.intrinsic+json": {
              "type": "string"
            }
          },
          "metadata": {},
          "execution_count": 122
        }
      ]
    },
    {
      "cell_type": "code",
      "source": [
        "file=\"data.json\""
      ],
      "metadata": {
        "id": "ibw8jrrBg2my"
      },
      "id": "ibw8jrrBg2my",
      "execution_count": null,
      "outputs": []
    },
    {
      "cell_type": "code",
      "source": [
        "with open(file, \"w\") as file:\n",
        "    file.write(processed_content)"
      ],
      "metadata": {
        "id": "rxydwZmGAvnr"
      },
      "id": "rxydwZmGAvnr",
      "execution_count": null,
      "outputs": []
    },
    {
      "cell_type": "code",
      "source": [
        "processed_content"
      ],
      "metadata": {
        "colab": {
          "base_uri": "https://localhost:8080/",
          "height": 202
        },
        "id": "ilCksfK6g8wK",
        "outputId": "f71925f3-ecd8-4287-a4f2-a3c034a9dec5"
      },
      "id": "ilCksfK6g8wK",
      "execution_count": null,
      "outputs": [
        {
          "output_type": "execute_result",
          "data": {
            "text/plain": [
              "'{\\n  \"troubleshooting_tips\": [\\n    {\\n      \"error_type\": \"Resource Not Found\",\\n      \"example\": \"Error: Error loading state: Resource not found\",\\n      \"solution\": \"Check if the resource has been deleted or if the resource ID is correct. Make sure to refresh the state using `terraform refresh`.\"\\n    },\\n    {\\n      \"error_type\": \"Invalid Argument Error\",\\n      \"example\": \"Error: Invalid value for attribute \\\\\"xyz\\\\\": expected to be a string\",\\n      \"solution\": \"Verify the input variables in your `.tfvars` file or in the state. Ensure that the values passed match the expected type. Check the documentation for correct data types for resource attributes.\"\\n    },\\n    {\\n      \"error_type\": \"Provider Configuration Error\",\\n      \"example\": \"Error: No provider \"aws\" exists\",\\n      \"solution\": \"Ensure that the provider block is correctly defined in your configuration. Install the necessary provider with `terraform init`.\"\\n    },\\n    {\\n      \"error_type\": \"Dependency Error\",\\n      \"example\": \"Error: Cycle: aws_instance.example -> aws_security_group.example\",\\n      \"solution\": \"Inspect the dependency graph with `terraform graph` and resolve circular dependencies by restructuring resources or adding explicit `depends_on` attributes.\"\\n    },\\n    {\\n      \"error_type\": \"State File Lock\",\\n      \"example\": \"Error: Error acquiring the state lock\",\\n      \"solution\": \"If another process is running, wait for it to complete. If you\\'re sure no other processes are using the state, use `terraform force-unlock <LOCK_ID>` to unlock the state file.\"\\n    },\\n    {\\n      \"error_type\": \"Variable Type Mismatch\",\\n      \"example\": \"Error: Invalid value for variable \\\\\"ami_id\\\\\": string required.\",\\n      \"solution\": \"Check the variable declaration in your `variables.tf` file for type constraints. Ensure the input value matches the expected type.\"\\n    },\\n    {\\n      \"error_type\": \"Provider Version Conflict\",\\n      \"example\": \"Error: Incompatible provider version\",\\n      \"solution\": \"Specify the required provider version in your configuration using the `required_providers` block in provider definition and run `terraform init`.\"\\n    },\\n    {\\n      \"error_type\": \"Output Value Reference Error\",\\n      \"example\": \"Error: Invalid reference: No attribute named \\\\\"instance_id\\\\\"\",\\n      \"solution\": \"Make sure the resource you are trying to reference exists and is properly defined. Check the spelling of the output variable.\"\\n    },\\n    {\\n      \"error_type\": \"Authentication Error\",\\n      \"example\": \"Error: AWS credentials are not valid\",\\n      \"solution\": \"Verify your AWS credentials in the environment variables, shared credentials file, or EC2 instance profile. Ensure that they are configured correctly.\"\\n    },\\n    {\\n      \"error_type\": \"Invalid Resource Argument\",\\n      \"example\": \"Error: Missing required argument \\\\\"vpc_id\\\\\"\",\\n      \"solution\": \"Double-check your resource configuration for missing required arguments. Refer to the documentation for the specific resource to ensure all required parameters are provided.\"\\n    },\\n    {\\n      \"error_type\": \"Logical Resource Conflict\",\\n      \"example\": \"Error: A resource named \\\\\"example\\\\\" already exists\",\\n      \"solution\": \"Check your configuration and state to ensure you are not trying to create a resource that already exists. Consider importing the existing resource into Terraform using `terraform import`.\"\\n    }\\n  ]\\n}'"
            ],
            "application/vnd.google.colaboratory.intrinsic+json": {
              "type": "string"
            }
          },
          "metadata": {},
          "execution_count": 132
        }
      ]
    },
    {
      "source": [
        "#read json.load\n",
        "import json\n",
        "\n",
        "# Use a different variable name for the file object inside the 'with' statement\n",
        "with open(\"data.json\", \"r\") as f:\n",
        "    trouble_shooting_data = json.load(f)"
      ],
      "cell_type": "code",
      "metadata": {
        "id": "Zdr0YhguhZS2"
      },
      "id": "Zdr0YhguhZS2",
      "execution_count": null,
      "outputs": []
    },
    {
      "cell_type": "code",
      "source": [
        "trouble_shooting_data= pd.read_json(\"data.json\")\n"
      ],
      "metadata": {
        "id": "iNO15ruCGj42"
      },
      "id": "iNO15ruCGj42",
      "execution_count": null,
      "outputs": []
    },
    {
      "cell_type": "code",
      "source": [],
      "metadata": {
        "id": "szK3Q5piaKyq"
      },
      "id": "szK3Q5piaKyq",
      "execution_count": null,
      "outputs": []
    },
    {
      "cell_type": "code",
      "source": [
        "trouble_shooting_data['troubleshooting_tips']"
      ],
      "metadata": {
        "colab": {
          "base_uri": "https://localhost:8080/",
          "height": 429
        },
        "id": "FImY1QNBGqUF",
        "outputId": "150c1ab4-9d14-403c-c033-afd9d3e711cf"
      },
      "id": "FImY1QNBGqUF",
      "execution_count": null,
      "outputs": [
        {
          "output_type": "execute_result",
          "data": {
            "text/plain": [
              "0     {'error_type': 'Resource Not Found', 'example'...\n",
              "1     {'error_type': 'Invalid Argument Error', 'exam...\n",
              "2     {'error_type': 'Provider Configuration Error',...\n",
              "3     {'error_type': 'Dependency Error', 'example': ...\n",
              "4     {'error_type': 'State File Lock', 'example': '...\n",
              "5     {'error_type': 'Variable Type Mismatch', 'exam...\n",
              "6     {'error_type': 'Provider Version Conflict', 'e...\n",
              "7     {'error_type': 'Output Value Reference Error',...\n",
              "8     {'error_type': 'Authentication Error', 'exampl...\n",
              "9     {'error_type': 'Invalid Resource Argument', 'e...\n",
              "10    {'error_type': 'Logical Resource Conflict', 'e...\n",
              "Name: troubleshooting_tips, dtype: object"
            ],
            "text/html": [
              "<div>\n",
              "<style scoped>\n",
              "    .dataframe tbody tr th:only-of-type {\n",
              "        vertical-align: middle;\n",
              "    }\n",
              "\n",
              "    .dataframe tbody tr th {\n",
              "        vertical-align: top;\n",
              "    }\n",
              "\n",
              "    .dataframe thead th {\n",
              "        text-align: right;\n",
              "    }\n",
              "</style>\n",
              "<table border=\"1\" class=\"dataframe\">\n",
              "  <thead>\n",
              "    <tr style=\"text-align: right;\">\n",
              "      <th></th>\n",
              "      <th>troubleshooting_tips</th>\n",
              "    </tr>\n",
              "  </thead>\n",
              "  <tbody>\n",
              "    <tr>\n",
              "      <th>0</th>\n",
              "      <td>{'error_type': 'Resource Not Found', 'example'...</td>\n",
              "    </tr>\n",
              "    <tr>\n",
              "      <th>1</th>\n",
              "      <td>{'error_type': 'Invalid Argument Error', 'exam...</td>\n",
              "    </tr>\n",
              "    <tr>\n",
              "      <th>2</th>\n",
              "      <td>{'error_type': 'Provider Configuration Error',...</td>\n",
              "    </tr>\n",
              "    <tr>\n",
              "      <th>3</th>\n",
              "      <td>{'error_type': 'Dependency Error', 'example': ...</td>\n",
              "    </tr>\n",
              "    <tr>\n",
              "      <th>4</th>\n",
              "      <td>{'error_type': 'State File Lock', 'example': '...</td>\n",
              "    </tr>\n",
              "    <tr>\n",
              "      <th>5</th>\n",
              "      <td>{'error_type': 'Variable Type Mismatch', 'exam...</td>\n",
              "    </tr>\n",
              "    <tr>\n",
              "      <th>6</th>\n",
              "      <td>{'error_type': 'Provider Version Conflict', 'e...</td>\n",
              "    </tr>\n",
              "    <tr>\n",
              "      <th>7</th>\n",
              "      <td>{'error_type': 'Output Value Reference Error',...</td>\n",
              "    </tr>\n",
              "    <tr>\n",
              "      <th>8</th>\n",
              "      <td>{'error_type': 'Authentication Error', 'exampl...</td>\n",
              "    </tr>\n",
              "    <tr>\n",
              "      <th>9</th>\n",
              "      <td>{'error_type': 'Invalid Resource Argument', 'e...</td>\n",
              "    </tr>\n",
              "    <tr>\n",
              "      <th>10</th>\n",
              "      <td>{'error_type': 'Logical Resource Conflict', 'e...</td>\n",
              "    </tr>\n",
              "  </tbody>\n",
              "</table>\n",
              "</div><br><label><b>dtype:</b> object</label>"
            ]
          },
          "metadata": {},
          "execution_count": 136
        }
      ]
    },
    {
      "cell_type": "code",
      "source": [
        "#extract the text\n",
        "for i in range(len(trouble_shooting_data['troubleshooting_tips'])):\n",
        "  print(trouble_shooting_data['troubleshooting_tips'][i]['error_type']),print(trouble_shooting_data['troubleshooting_tips'][i]['example']),print(trouble_shooting_data['troubleshooting_tips'][i]['solution'])"
      ],
      "metadata": {
        "colab": {
          "base_uri": "https://localhost:8080/"
        },
        "id": "jghvcu4ZI8An",
        "outputId": "afa05247-81fd-489e-8563-c39555875191"
      },
      "id": "jghvcu4ZI8An",
      "execution_count": null,
      "outputs": [
        {
          "output_type": "stream",
          "name": "stdout",
          "text": [
            "Resource Not Found\n",
            "Error: Error loading state: Resource not found\n",
            "Check if the resource has been deleted or if the resource ID is correct. Make sure to refresh the state using `terraform refresh`.\n",
            "Invalid Argument Error\n",
            "Error: Invalid value for attribute \"xyz\": expected to be a string\n",
            "Verify the input variables in your `.tfvars` file or in the state. Ensure that the values passed match the expected type. Check the documentation for correct data types for resource attributes.\n",
            "Provider Configuration Error\n",
            "Error: No provider aws exists\n",
            "Ensure that the provider block is correctly defined in your configuration. Install the necessary provider with `terraform init`.\n",
            "Dependency Error\n",
            "Error: Cycle: aws_instance.example -> aws_security_group.example\n",
            "Inspect the dependency graph with `terraform graph` and resolve circular dependencies by restructuring resources or adding explicit `depends_on` attributes.\n",
            "State File Lock\n",
            "Error: Error acquiring the state lock\n",
            "If another process is running, wait for it to complete. If you're sure no other processes are using the state, use `terraform force-unlock <LOCK_ID>` to unlock the state file.\n",
            "Variable Type Mismatch\n",
            "Error: Invalid value for variable \"ami_id\": string required.\n",
            "Check the variable declaration in your `variables.tf` file for type constraints. Ensure the input value matches the expected type.\n",
            "Provider Version Conflict\n",
            "Error: Incompatible provider version\n",
            "Specify the required provider version in your configuration using the `required_providers` block in provider definition and run `terraform init`.\n",
            "Output Value Reference Error\n",
            "Error: Invalid reference: No attribute named \"instance_id\"\n",
            "Make sure the resource you are trying to reference exists and is properly defined. Check the spelling of the output variable.\n",
            "Authentication Error\n",
            "Error: AWS credentials are not valid\n",
            "Verify your AWS credentials in the environment variables, shared credentials file, or EC2 instance profile. Ensure that they are configured correctly.\n",
            "Invalid Resource Argument\n",
            "Error: Missing required argument \"vpc_id\"\n",
            "Double-check your resource configuration for missing required arguments. Refer to the documentation for the specific resource to ensure all required parameters are provided.\n",
            "Logical Resource Conflict\n",
            "Error: A resource named \"example\" already exists\n",
            "Check your configuration and state to ensure you are not trying to create a resource that already exists. Consider importing the existing resource into Terraform using `terraform import`.\n"
          ]
        }
      ]
    },
    {
      "cell_type": "code",
      "source": [
        "#define a prompt template\n",
        "prompt_template = \"\"\"### Error Type:\n",
        "{error_type}\n",
        "\n",
        "\n",
        "### Answer:\"\"\""
      ],
      "metadata": {
        "id": "GSVGk9z0KW-T"
      },
      "id": "GSVGk9z0KW-T",
      "execution_count": null,
      "outputs": []
    },
    {
      "cell_type": "code",
      "source": [
        "finetuning_data = []"
      ],
      "metadata": {
        "id": "0d5zgr4rLP90"
      },
      "id": "0d5zgr4rLP90",
      "execution_count": null,
      "outputs": []
    },
    {
      "cell_type": "code",
      "source": [
        "l=len(trouble_shooting_data['troubleshooting_tips'])\n",
        "for i in range(l):\n",
        "  error_type = trouble_shooting_data['troubleshooting_tips'][i]['error_type']\n",
        "  example = trouble_shooting_data['troubleshooting_tips'][i]['example']\n",
        "  solution = trouble_shooting_data['troubleshooting_tips'][i]['solution']\n",
        "  text_with_prompt_template = prompt_template.format(error_type=error_type)\n",
        "  finetuning_data.append({\"error_type\": text_with_prompt_template, \"solution\": solution })\n"
      ],
      "metadata": {
        "id": "0dLHmgz-J2QJ"
      },
      "id": "0dLHmgz-J2QJ",
      "execution_count": null,
      "outputs": []
    },
    {
      "cell_type": "code",
      "source": [],
      "metadata": {
        "id": "TC-b8o6ILwqd"
      },
      "id": "TC-b8o6ILwqd",
      "execution_count": null,
      "outputs": []
    },
    {
      "cell_type": "code",
      "source": [
        "finetuning_data"
      ],
      "metadata": {
        "colab": {
          "base_uri": "https://localhost:8080/"
        },
        "id": "mMUP5UKILSd_",
        "outputId": "4316fe8d-10f9-4e96-a0d0-1346e6b042f3"
      },
      "id": "mMUP5UKILSd_",
      "execution_count": null,
      "outputs": [
        {
          "output_type": "execute_result",
          "data": {
            "text/plain": [
              "[{'error_type': '### Error Type:\\nResource Not Found\\n\\n\\n### Answer:',\n",
              "  'solution': 'Check if the resource has been deleted or if the resource ID is correct. Make sure to refresh the state using `terraform refresh`.'},\n",
              " {'error_type': '### Error Type:\\nInvalid Argument Error\\n\\n\\n### Answer:',\n",
              "  'solution': 'Verify the input variables in your `.tfvars` file or in the state. Ensure that the values passed match the expected type. Check the documentation for correct data types for resource attributes.'},\n",
              " {'error_type': '### Error Type:\\nProvider Configuration Error\\n\\n\\n### Answer:',\n",
              "  'solution': 'Ensure that the provider block is correctly defined in your configuration. Install the necessary provider with `terraform init`.'},\n",
              " {'error_type': '### Error Type:\\nDependency Error\\n\\n\\n### Answer:',\n",
              "  'solution': 'Inspect the dependency graph with `terraform graph` and resolve circular dependencies by restructuring resources or adding explicit `depends_on` attributes.'},\n",
              " {'error_type': '### Error Type:\\nState File Lock\\n\\n\\n### Answer:',\n",
              "  'solution': \"If another process is running, wait for it to complete. If you're sure no other processes are using the state, use `terraform force-unlock <LOCK_ID>` to unlock the state file.\"},\n",
              " {'error_type': '### Error Type:\\nVariable Type Mismatch\\n\\n\\n### Answer:',\n",
              "  'solution': 'Check the variable declaration in your `variables.tf` file for type constraints. Ensure the input value matches the expected type.'},\n",
              " {'error_type': '### Error Type:\\nProvider Version Conflict\\n\\n\\n### Answer:',\n",
              "  'solution': 'Specify the required provider version in your configuration using the `required_providers` block in provider definition and run `terraform init`.'},\n",
              " {'error_type': '### Error Type:\\nOutput Value Reference Error\\n\\n\\n### Answer:',\n",
              "  'solution': 'Make sure the resource you are trying to reference exists and is properly defined. Check the spelling of the output variable.'},\n",
              " {'error_type': '### Error Type:\\nAuthentication Error\\n\\n\\n### Answer:',\n",
              "  'solution': 'Verify your AWS credentials in the environment variables, shared credentials file, or EC2 instance profile. Ensure that they are configured correctly.'},\n",
              " {'error_type': '### Error Type:\\nInvalid Resource Argument\\n\\n\\n### Answer:',\n",
              "  'solution': 'Double-check your resource configuration for missing required arguments. Refer to the documentation for the specific resource to ensure all required parameters are provided.'},\n",
              " {'error_type': '### Error Type:\\nLogical Resource Conflict\\n\\n\\n### Answer:',\n",
              "  'solution': 'Check your configuration and state to ensure you are not trying to create a resource that already exists. Consider importing the existing resource into Terraform using `terraform import`.'}]"
            ]
          },
          "metadata": {},
          "execution_count": 292
        }
      ]
    },
    {
      "cell_type": "code",
      "source": [
        "type(finetuning_data)"
      ],
      "metadata": {
        "colab": {
          "base_uri": "https://localhost:8080/",
          "height": 139
        },
        "id": "-PSBpaTu2M0M",
        "outputId": "e36a68d7-e6d1-43c0-c7db-4ee805b6fcda"
      },
      "id": "-PSBpaTu2M0M",
      "execution_count": null,
      "outputs": [
        {
          "output_type": "execute_result",
          "data": {
            "text/plain": [
              "datasets.arrow_dataset.Dataset"
            ],
            "text/html": [
              "<div style=\"max-width:800px; border: 1px solid var(--colab-border-color);\"><style>\n",
              "      pre.function-repr-contents {\n",
              "        overflow-x: auto;\n",
              "        padding: 8px 12px;\n",
              "        max-height: 500px;\n",
              "      }\n",
              "\n",
              "      pre.function-repr-contents.function-repr-contents-collapsed {\n",
              "        cursor: pointer;\n",
              "        max-height: 100px;\n",
              "      }\n",
              "    </style>\n",
              "    <pre style=\"white-space: initial; background:\n",
              "         var(--colab-secondary-surface-color); padding: 8px 12px;\n",
              "         border-bottom: 1px solid var(--colab-border-color);\"><b>datasets.arrow_dataset.Dataset</b><br/>def __init__(arrow_table: Table, info: Optional[DatasetInfo]=None, split: Optional[NamedSplit]=None, indices_table: Optional[Table]=None, fingerprint: Optional[str]=None)</pre><pre class=\"function-repr-contents function-repr-contents-collapsed\" style=\"\"><a class=\"filepath\" style=\"display:none\" href=\"#\">/usr/local/lib/python3.11/dist-packages/datasets/arrow_dataset.py</a>A Dataset backed by an Arrow table.</pre>\n",
              "      <script>\n",
              "      if (google.colab.kernel.accessAllowed && google.colab.files && google.colab.files.view) {\n",
              "        for (const element of document.querySelectorAll('.filepath')) {\n",
              "          element.style.display = 'block'\n",
              "          element.onclick = (event) => {\n",
              "            event.preventDefault();\n",
              "            event.stopPropagation();\n",
              "            google.colab.files.view(element.textContent, 628);\n",
              "          };\n",
              "        }\n",
              "      }\n",
              "      for (const element of document.querySelectorAll('.function-repr-contents')) {\n",
              "        element.onclick = (event) => {\n",
              "          event.preventDefault();\n",
              "          event.stopPropagation();\n",
              "          element.classList.toggle('function-repr-contents-collapsed');\n",
              "        };\n",
              "      }\n",
              "      </script>\n",
              "      </div>"
            ]
          },
          "metadata": {},
          "execution_count": 252
        }
      ]
    },
    {
      "cell_type": "code",
      "source": [
        "\n",
        "from pprint import pprint\n",
        "print(\"One datapoint in the finetuning dataset:\")\n",
        "print(finetuning_data[5])\n",
        "print(finetuning_data[6])\n"
      ],
      "metadata": {
        "colab": {
          "base_uri": "https://localhost:8080/"
        },
        "id": "SOzVpex-L-4y",
        "outputId": "a8e14bd1-16bd-4b86-d0a4-1201b7a1110d"
      },
      "id": "SOzVpex-L-4y",
      "execution_count": null,
      "outputs": [
        {
          "output_type": "stream",
          "name": "stdout",
          "text": [
            "One datapoint in the finetuning dataset:\n",
            "{'error_type': '### Error Type:\\nVariable Type Mismatch\\n\\n\\n### Answer:', 'solution': 'Check the variable declaration in your `variables.tf` file for type constraints. Ensure the input value matches the expected type.'}\n",
            "{'error_type': '### Error Type:\\nProvider Version Conflict\\n\\n\\n### Answer:', 'solution': 'Specify the required provider version in your configuration using the `required_providers` block in provider definition and run `terraform init`.'}\n"
          ]
        }
      ]
    },
    {
      "cell_type": "code",
      "source": [
        "finetuning_data[0][\"error_type\"], finetuning_data[0][\"solution\"]"
      ],
      "metadata": {
        "id": "WauLEKFtIlDR",
        "colab": {
          "base_uri": "https://localhost:8080/"
        },
        "outputId": "6a3cf86f-bfa7-4d29-a180-a8de4a8878f5"
      },
      "id": "WauLEKFtIlDR",
      "execution_count": null,
      "outputs": [
        {
          "output_type": "execute_result",
          "data": {
            "text/plain": [
              "('### Error Type:\\nResource Not Found\\n\\n\\n### Answer:',\n",
              " 'Check if the resource has been deleted or if the resource ID is correct. Make sure to refresh the state using `terraform refresh`.')"
            ]
          },
          "metadata": {},
          "execution_count": 294
        }
      ]
    },
    {
      "cell_type": "code",
      "source": [
        "type(trouble_shooting_data)"
      ],
      "metadata": {
        "colab": {
          "base_uri": "https://localhost:8080/",
          "height": 204
        },
        "id": "4vq1sYqvHjiX",
        "outputId": "192a3936-d4d7-4750-9c32-7123f2382890"
      },
      "id": "4vq1sYqvHjiX",
      "execution_count": null,
      "outputs": [
        {
          "output_type": "execute_result",
          "data": {
            "text/plain": [
              "pandas.core.frame.DataFrame"
            ],
            "text/html": [
              "<div style=\"max-width:800px; border: 1px solid var(--colab-border-color);\"><style>\n",
              "      pre.function-repr-contents {\n",
              "        overflow-x: auto;\n",
              "        padding: 8px 12px;\n",
              "        max-height: 500px;\n",
              "      }\n",
              "\n",
              "      pre.function-repr-contents.function-repr-contents-collapsed {\n",
              "        cursor: pointer;\n",
              "        max-height: 100px;\n",
              "      }\n",
              "    </style>\n",
              "    <pre style=\"white-space: initial; background:\n",
              "         var(--colab-secondary-surface-color); padding: 8px 12px;\n",
              "         border-bottom: 1px solid var(--colab-border-color);\"><b>pandas.core.frame.DataFrame</b><br/>def __init__(data=None, index: Axes | None=None, columns: Axes | None=None, dtype: Dtype | None=None, copy: bool | None=None) -&gt; None</pre><pre class=\"function-repr-contents function-repr-contents-collapsed\" style=\"\"><a class=\"filepath\" style=\"display:none\" href=\"#\">/usr/local/lib/python3.11/dist-packages/pandas/core/frame.py</a>Two-dimensional, size-mutable, potentially heterogeneous tabular data.\n",
              "\n",
              "Data structure also contains labeled axes (rows and columns).\n",
              "Arithmetic operations align on both row and column labels. Can be\n",
              "thought of as a dict-like container for Series objects. The primary\n",
              "pandas data structure.\n",
              "\n",
              "Parameters\n",
              "----------\n",
              "data : ndarray (structured or homogeneous), Iterable, dict, or DataFrame\n",
              "    Dict can contain Series, arrays, constants, dataclass or list-like objects. If\n",
              "    data is a dict, column order follows insertion-order. If a dict contains Series\n",
              "    which have an index defined, it is aligned by its index. This alignment also\n",
              "    occurs if data is a Series or a DataFrame itself. Alignment is done on\n",
              "    Series/DataFrame inputs.\n",
              "\n",
              "    If data is a list of dicts, column order follows insertion-order.\n",
              "\n",
              "index : Index or array-like\n",
              "    Index to use for resulting frame. Will default to RangeIndex if\n",
              "    no indexing information part of input data and no index provided.\n",
              "columns : Index or array-like\n",
              "    Column labels to use for resulting frame when data does not have them,\n",
              "    defaulting to RangeIndex(0, 1, 2, ..., n). If data contains column labels,\n",
              "    will perform column selection instead.\n",
              "dtype : dtype, default None\n",
              "    Data type to force. Only a single dtype is allowed. If None, infer.\n",
              "copy : bool or None, default None\n",
              "    Copy data from inputs.\n",
              "    For dict data, the default of None behaves like ``copy=True``.  For DataFrame\n",
              "    or 2d ndarray input, the default of None behaves like ``copy=False``.\n",
              "    If data is a dict containing one or more Series (possibly of different dtypes),\n",
              "    ``copy=False`` will ensure that these inputs are not copied.\n",
              "\n",
              "    .. versionchanged:: 1.3.0\n",
              "\n",
              "See Also\n",
              "--------\n",
              "DataFrame.from_records : Constructor from tuples, also record arrays.\n",
              "DataFrame.from_dict : From dicts of Series, arrays, or dicts.\n",
              "read_csv : Read a comma-separated values (csv) file into DataFrame.\n",
              "read_table : Read general delimited file into DataFrame.\n",
              "read_clipboard : Read text from clipboard into DataFrame.\n",
              "\n",
              "Notes\n",
              "-----\n",
              "Please reference the :ref:`User Guide &lt;basics.dataframe&gt;` for more information.\n",
              "\n",
              "Examples\n",
              "--------\n",
              "Constructing DataFrame from a dictionary.\n",
              "\n",
              "&gt;&gt;&gt; d = {&#x27;col1&#x27;: [1, 2], &#x27;col2&#x27;: [3, 4]}\n",
              "&gt;&gt;&gt; df = pd.DataFrame(data=d)\n",
              "&gt;&gt;&gt; df\n",
              "   col1  col2\n",
              "0     1     3\n",
              "1     2     4\n",
              "\n",
              "Notice that the inferred dtype is int64.\n",
              "\n",
              "&gt;&gt;&gt; df.dtypes\n",
              "col1    int64\n",
              "col2    int64\n",
              "dtype: object\n",
              "\n",
              "To enforce a single dtype:\n",
              "\n",
              "&gt;&gt;&gt; df = pd.DataFrame(data=d, dtype=np.int8)\n",
              "&gt;&gt;&gt; df.dtypes\n",
              "col1    int8\n",
              "col2    int8\n",
              "dtype: object\n",
              "\n",
              "Constructing DataFrame from a dictionary including Series:\n",
              "\n",
              "&gt;&gt;&gt; d = {&#x27;col1&#x27;: [0, 1, 2, 3], &#x27;col2&#x27;: pd.Series([2, 3], index=[2, 3])}\n",
              "&gt;&gt;&gt; pd.DataFrame(data=d, index=[0, 1, 2, 3])\n",
              "   col1  col2\n",
              "0     0   NaN\n",
              "1     1   NaN\n",
              "2     2   2.0\n",
              "3     3   3.0\n",
              "\n",
              "Constructing DataFrame from numpy ndarray:\n",
              "\n",
              "&gt;&gt;&gt; df2 = pd.DataFrame(np.array([[1, 2, 3], [4, 5, 6], [7, 8, 9]]),\n",
              "...                    columns=[&#x27;a&#x27;, &#x27;b&#x27;, &#x27;c&#x27;])\n",
              "&gt;&gt;&gt; df2\n",
              "   a  b  c\n",
              "0  1  2  3\n",
              "1  4  5  6\n",
              "2  7  8  9\n",
              "\n",
              "Constructing DataFrame from a numpy ndarray that has labeled columns:\n",
              "\n",
              "&gt;&gt;&gt; data = np.array([(1, 2, 3), (4, 5, 6), (7, 8, 9)],\n",
              "...                 dtype=[(&quot;a&quot;, &quot;i4&quot;), (&quot;b&quot;, &quot;i4&quot;), (&quot;c&quot;, &quot;i4&quot;)])\n",
              "&gt;&gt;&gt; df3 = pd.DataFrame(data, columns=[&#x27;c&#x27;, &#x27;a&#x27;])\n",
              "...\n",
              "&gt;&gt;&gt; df3\n",
              "   c  a\n",
              "0  3  1\n",
              "1  6  4\n",
              "2  9  7\n",
              "\n",
              "Constructing DataFrame from dataclass:\n",
              "\n",
              "&gt;&gt;&gt; from dataclasses import make_dataclass\n",
              "&gt;&gt;&gt; Point = make_dataclass(&quot;Point&quot;, [(&quot;x&quot;, int), (&quot;y&quot;, int)])\n",
              "&gt;&gt;&gt; pd.DataFrame([Point(0, 0), Point(0, 3), Point(2, 3)])\n",
              "   x  y\n",
              "0  0  0\n",
              "1  0  3\n",
              "2  2  3\n",
              "\n",
              "Constructing DataFrame from Series/DataFrame:\n",
              "\n",
              "&gt;&gt;&gt; ser = pd.Series([1, 2, 3], index=[&quot;a&quot;, &quot;b&quot;, &quot;c&quot;])\n",
              "&gt;&gt;&gt; df = pd.DataFrame(data=ser, index=[&quot;a&quot;, &quot;c&quot;])\n",
              "&gt;&gt;&gt; df\n",
              "   0\n",
              "a  1\n",
              "c  3\n",
              "\n",
              "&gt;&gt;&gt; df1 = pd.DataFrame([1, 2, 3], index=[&quot;a&quot;, &quot;b&quot;, &quot;c&quot;], columns=[&quot;x&quot;])\n",
              "&gt;&gt;&gt; df2 = pd.DataFrame(data=df1, index=[&quot;a&quot;, &quot;c&quot;])\n",
              "&gt;&gt;&gt; df2\n",
              "   x\n",
              "a  1\n",
              "c  3</pre>\n",
              "      <script>\n",
              "      if (google.colab.kernel.accessAllowed && google.colab.files && google.colab.files.view) {\n",
              "        for (const element of document.querySelectorAll('.filepath')) {\n",
              "          element.style.display = 'block'\n",
              "          element.onclick = (event) => {\n",
              "            event.preventDefault();\n",
              "            event.stopPropagation();\n",
              "            google.colab.files.view(element.textContent, 509);\n",
              "          };\n",
              "        }\n",
              "      }\n",
              "      for (const element of document.querySelectorAll('.function-repr-contents')) {\n",
              "        element.onclick = (event) => {\n",
              "          event.preventDefault();\n",
              "          event.stopPropagation();\n",
              "          element.classList.toggle('function-repr-contents-collapsed');\n",
              "        };\n",
              "      }\n",
              "      </script>\n",
              "      </div>"
            ]
          },
          "metadata": {},
          "execution_count": 144
        }
      ]
    },
    {
      "cell_type": "code",
      "source": [],
      "metadata": {
        "id": "VPgF4Ka2H__5"
      },
      "id": "VPgF4Ka2H__5",
      "execution_count": null,
      "outputs": []
    },
    {
      "cell_type": "code",
      "execution_count": null,
      "id": "snJGcC4-9dmP",
      "metadata": {
        "colab": {
          "base_uri": "https://localhost:8080/",
          "height": 36
        },
        "id": "snJGcC4-9dmP",
        "outputId": "1d020993-5a19-4d02-c5c3-79aaaf9cf139"
      },
      "outputs": [
        {
          "output_type": "execute_result",
          "data": {
            "text/plain": [
              "'### Error Type:\\nVariable Type Mismatch\\n\\n\\n### Answer:'"
            ],
            "application/vnd.google.colaboratory.intrinsic+json": {
              "type": "string"
            }
          },
          "metadata": {},
          "execution_count": 295
        }
      ],
      "source": [
        "finetuning_data[5][\"error_type\"]"
      ]
    },
    {
      "cell_type": "code",
      "source": [],
      "metadata": {
        "id": "Lb0MWZPFiLFA"
      },
      "id": "Lb0MWZPFiLFA",
      "execution_count": null,
      "outputs": []
    },
    {
      "cell_type": "code",
      "source": [],
      "metadata": {
        "id": "qss9tu_2iLdf"
      },
      "id": "qss9tu_2iLdf",
      "execution_count": null,
      "outputs": []
    },
    {
      "cell_type": "code",
      "source": [
        "finetuning_data"
      ],
      "metadata": {
        "colab": {
          "base_uri": "https://localhost:8080/"
        },
        "id": "-Q2IVEnRMfH4",
        "outputId": "26d45087-9718-4037-9af4-c26826157a39"
      },
      "id": "-Q2IVEnRMfH4",
      "execution_count": null,
      "outputs": [
        {
          "output_type": "execute_result",
          "data": {
            "text/plain": [
              "[{'error_type': '### Error Type:\\nResource Not Found\\n\\n\\n### Answer:',\n",
              "  'solution': 'Check if the resource has been deleted or if the resource ID is correct. Make sure to refresh the state using `terraform refresh`.'},\n",
              " {'error_type': '### Error Type:\\nInvalid Argument Error\\n\\n\\n### Answer:',\n",
              "  'solution': 'Verify the input variables in your `.tfvars` file or in the state. Ensure that the values passed match the expected type. Check the documentation for correct data types for resource attributes.'},\n",
              " {'error_type': '### Error Type:\\nProvider Configuration Error\\n\\n\\n### Answer:',\n",
              "  'solution': 'Ensure that the provider block is correctly defined in your configuration. Install the necessary provider with `terraform init`.'},\n",
              " {'error_type': '### Error Type:\\nDependency Error\\n\\n\\n### Answer:',\n",
              "  'solution': 'Inspect the dependency graph with `terraform graph` and resolve circular dependencies by restructuring resources or adding explicit `depends_on` attributes.'},\n",
              " {'error_type': '### Error Type:\\nState File Lock\\n\\n\\n### Answer:',\n",
              "  'solution': \"If another process is running, wait for it to complete. If you're sure no other processes are using the state, use `terraform force-unlock <LOCK_ID>` to unlock the state file.\"},\n",
              " {'error_type': '### Error Type:\\nVariable Type Mismatch\\n\\n\\n### Answer:',\n",
              "  'solution': 'Check the variable declaration in your `variables.tf` file for type constraints. Ensure the input value matches the expected type.'},\n",
              " {'error_type': '### Error Type:\\nProvider Version Conflict\\n\\n\\n### Answer:',\n",
              "  'solution': 'Specify the required provider version in your configuration using the `required_providers` block in provider definition and run `terraform init`.'},\n",
              " {'error_type': '### Error Type:\\nOutput Value Reference Error\\n\\n\\n### Answer:',\n",
              "  'solution': 'Make sure the resource you are trying to reference exists and is properly defined. Check the spelling of the output variable.'},\n",
              " {'error_type': '### Error Type:\\nAuthentication Error\\n\\n\\n### Answer:',\n",
              "  'solution': 'Verify your AWS credentials in the environment variables, shared credentials file, or EC2 instance profile. Ensure that they are configured correctly.'},\n",
              " {'error_type': '### Error Type:\\nInvalid Resource Argument\\n\\n\\n### Answer:',\n",
              "  'solution': 'Double-check your resource configuration for missing required arguments. Refer to the documentation for the specific resource to ensure all required parameters are provided.'},\n",
              " {'error_type': '### Error Type:\\nLogical Resource Conflict\\n\\n\\n### Answer:',\n",
              "  'solution': 'Check your configuration and state to ensure you are not trying to create a resource that already exists. Consider importing the existing resource into Terraform using `terraform import`.'}]"
            ]
          },
          "metadata": {},
          "execution_count": 296
        }
      ]
    },
    {
      "cell_type": "markdown",
      "id": "57d68dd2-e193-4ba3-b443-d49e5cb7792f",
      "metadata": {
        "id": "57d68dd2-e193-4ba3-b443-d49e5cb7792f"
      },
      "source": [
        "# **Step 3: Tokenize a single example**\n",
        "\n",
        "\n",
        "*   Before tokenizing the entire dataset, first tokenize a single example to understand the process. Use the Pythia-70m tokenizer for this.\n"
      ]
    },
    {
      "cell_type": "code",
      "execution_count": null,
      "id": "180bbea0-0bbb-48bf-a824-004e5903e711",
      "metadata": {
        "colab": {
          "base_uri": "https://localhost:8080/"
        },
        "id": "180bbea0-0bbb-48bf-a824-004e5903e711",
        "outputId": "ac58fa32-c03b-48fd-dd9d-0eae65957a79"
      },
      "outputs": [
        {
          "output_type": "stream",
          "name": "stdout",
          "text": [
            "[[ 4118 11759  8078    27   187 11133  3105  5952   535   187  4118 37741\n",
            "     27  9063   604   253  7741   556   644 16737   390   604   253  7741\n",
            "   5417   310  3451    15 10338  2119   281 22906   253  1375   970  2634\n",
            "    350   376   630 22906 16433]]\n"
          ]
        }
      ],
      "source": [
        "tokenizer.pad_token = tokenizer.eos_token # This is to ensure that padding of short sentences during tokenization do not create any unnecesary effect on training.\n",
        "\n",
        "text = finetuning_data[0][\"error_type\"]  + finetuning_data[0][\"solution\"]\n",
        "\n",
        "tokenized_inputs = tokenizer(\n",
        "    text,\n",
        "    return_tensors=\"np\",\n",
        "    padding=True\n",
        ")\n",
        "print(tokenized_inputs[\"input_ids\"])"
      ]
    },
    {
      "cell_type": "code",
      "source": [
        "tokenized_inputs"
      ],
      "metadata": {
        "colab": {
          "base_uri": "https://localhost:8080/"
        },
        "id": "G9eTxrmO2XQq",
        "outputId": "0595bad0-cd2a-450c-f6a1-23bc4db50ead"
      },
      "id": "G9eTxrmO2XQq",
      "execution_count": null,
      "outputs": [
        {
          "output_type": "execute_result",
          "data": {
            "text/plain": [
              "{'input_ids': array([[ 4118, 11759,  8078,    27,   187, 11133,  3105,  5952,   535,\n",
              "          187,  4118, 37741,    27,  9063,   604,   253,  7741,   556,\n",
              "          644, 16737,   390,   604,   253,  7741,  5417,   310,  3451,\n",
              "           15, 10338,  2119,   281, 22906,   253,  1375,   970,  2634,\n",
              "          350,   376,   630, 22906, 16433]]), 'attention_mask': array([[1, 1, 1, 1, 1, 1, 1, 1, 1, 1, 1, 1, 1, 1, 1, 1, 1, 1, 1, 1, 1, 1,\n",
              "        1, 1, 1, 1, 1, 1, 1, 1, 1, 1, 1, 1, 1, 1, 1, 1, 1, 1, 1]])}"
            ]
          },
          "metadata": {},
          "execution_count": 298
        }
      ]
    },
    {
      "cell_type": "code",
      "source": [
        "# prompt: get dimensions for tokenized_inputs\n",
        "\n",
        "print(tokenized_inputs[\"input_ids\"].shape)\n"
      ],
      "metadata": {
        "colab": {
          "base_uri": "https://localhost:8080/"
        },
        "id": "VoNA5Iae3LX4",
        "outputId": "c3a8301b-d063-47ef-9e3c-7444d3693212"
      },
      "id": "VoNA5Iae3LX4",
      "execution_count": null,
      "outputs": [
        {
          "output_type": "stream",
          "name": "stdout",
          "text": [
            "(1, 41)\n"
          ]
        }
      ]
    },
    {
      "cell_type": "markdown",
      "id": "QpHz8gDG2x_9",
      "metadata": {
        "id": "QpHz8gDG2x_9"
      },
      "source": [
        "# **Step 4: Handle long sequences**\n",
        "\n",
        "\n",
        "*   If the tokenized input is longer than the model’s maximum sequence length, you need to truncate it.\n",
        "\n"
      ]
    },
    {
      "cell_type": "code",
      "execution_count": null,
      "id": "be030ad2-933f-4abd-9fec-d45df984890b",
      "metadata": {
        "id": "be030ad2-933f-4abd-9fec-d45df984890b"
      },
      "outputs": [],
      "source": [
        "max_length = 2048 # if it small it will get truncated\n",
        "max_length = min(\n",
        "    tokenized_inputs[\"input_ids\"].shape[1],\n",
        "    max_length,\n",
        ")\n"
      ]
    },
    {
      "cell_type": "code",
      "source": [
        "max_length"
      ],
      "metadata": {
        "colab": {
          "base_uri": "https://localhost:8080/"
        },
        "id": "wtsQpJAb2i-L",
        "outputId": "669a3996-54a2-4e0a-dfa7-ce7fcface001"
      },
      "id": "wtsQpJAb2i-L",
      "execution_count": null,
      "outputs": [
        {
          "output_type": "execute_result",
          "data": {
            "text/plain": [
              "41"
            ]
          },
          "metadata": {},
          "execution_count": 301
        }
      ]
    },
    {
      "cell_type": "code",
      "execution_count": null,
      "id": "e6b92295-9f1b-4358-a5e6-d3522fb61fbc",
      "metadata": {
        "id": "e6b92295-9f1b-4358-a5e6-d3522fb61fbc"
      },
      "outputs": [],
      "source": [
        "tokenized_inputs = tokenizer(\n",
        "    text,\n",
        "    return_tensors=\"np\",\n",
        "    truncation=True,\n",
        "    max_length=max_length\n",
        ")"
      ]
    },
    {
      "cell_type": "code",
      "execution_count": null,
      "id": "7f103d80-de85-4c56-82a9-55bee16c5a56",
      "metadata": {
        "id": "7f103d80-de85-4c56-82a9-55bee16c5a56",
        "outputId": "bdd375aa-f3aa-4d2a-88b2-e0d1cf24def8",
        "colab": {
          "base_uri": "https://localhost:8080/"
        }
      },
      "outputs": [
        {
          "output_type": "execute_result",
          "data": {
            "text/plain": [
              "array([[ 4118, 11759,  8078,    27,   187, 11133,  3105,  5952,   535,\n",
              "          187,  4118, 37741,    27,  9063,   604,   253,  7741,   556,\n",
              "          644, 16737,   390,   604,   253,  7741,  5417,   310,  3451,\n",
              "           15, 10338,  2119,   281, 22906,   253,  1375,   970,  2634,\n",
              "          350,   376,   630, 22906, 16433]])"
            ]
          },
          "metadata": {},
          "execution_count": 303
        }
      ],
      "source": [
        "tokenized_inputs[\"input_ids\"]"
      ]
    },
    {
      "cell_type": "markdown",
      "id": "84847e29-0870-4086-9074-17f376e87b4e",
      "metadata": {
        "id": "84847e29-0870-4086-9074-17f376e87b4e"
      },
      "source": [
        "# **Step 5: Tokenize the entire dataset**\n",
        "\n",
        "\n",
        "\n"
      ]
    },
    {
      "cell_type": "code",
      "source": [
        "trouble_shooting_tips = trouble_shooting_data[\"troubleshooting_tips\"]"
      ],
      "metadata": {
        "id": "FvbatJq0jTuC"
      },
      "id": "FvbatJq0jTuC",
      "execution_count": null,
      "outputs": []
    },
    {
      "cell_type": "code",
      "source": [
        "trouble_shooting_tips[0:5]"
      ],
      "metadata": {
        "colab": {
          "base_uri": "https://localhost:8080/",
          "height": 241
        },
        "id": "-jYZBADojwEA",
        "outputId": "36e1f4c2-d8e4-4c5d-ce86-0016ab0c1fe2"
      },
      "id": "-jYZBADojwEA",
      "execution_count": null,
      "outputs": [
        {
          "output_type": "execute_result",
          "data": {
            "text/plain": [
              "0    {'error_type': 'Resource Not Found', 'example'...\n",
              "1    {'error_type': 'Invalid Argument Error', 'exam...\n",
              "2    {'error_type': 'Provider Configuration Error',...\n",
              "3    {'error_type': 'Dependency Error', 'example': ...\n",
              "4    {'error_type': 'State File Lock', 'example': '...\n",
              "Name: troubleshooting_tips, dtype: object"
            ],
            "text/html": [
              "<div>\n",
              "<style scoped>\n",
              "    .dataframe tbody tr th:only-of-type {\n",
              "        vertical-align: middle;\n",
              "    }\n",
              "\n",
              "    .dataframe tbody tr th {\n",
              "        vertical-align: top;\n",
              "    }\n",
              "\n",
              "    .dataframe thead th {\n",
              "        text-align: right;\n",
              "    }\n",
              "</style>\n",
              "<table border=\"1\" class=\"dataframe\">\n",
              "  <thead>\n",
              "    <tr style=\"text-align: right;\">\n",
              "      <th></th>\n",
              "      <th>troubleshooting_tips</th>\n",
              "    </tr>\n",
              "  </thead>\n",
              "  <tbody>\n",
              "    <tr>\n",
              "      <th>0</th>\n",
              "      <td>{'error_type': 'Resource Not Found', 'example'...</td>\n",
              "    </tr>\n",
              "    <tr>\n",
              "      <th>1</th>\n",
              "      <td>{'error_type': 'Invalid Argument Error', 'exam...</td>\n",
              "    </tr>\n",
              "    <tr>\n",
              "      <th>2</th>\n",
              "      <td>{'error_type': 'Provider Configuration Error',...</td>\n",
              "    </tr>\n",
              "    <tr>\n",
              "      <th>3</th>\n",
              "      <td>{'error_type': 'Dependency Error', 'example': ...</td>\n",
              "    </tr>\n",
              "    <tr>\n",
              "      <th>4</th>\n",
              "      <td>{'error_type': 'State File Lock', 'example': '...</td>\n",
              "    </tr>\n",
              "  </tbody>\n",
              "</table>\n",
              "</div><br><label><b>dtype:</b> object</label>"
            ]
          },
          "metadata": {},
          "execution_count": 334
        }
      ]
    },
    {
      "cell_type": "code",
      "source": [
        "import json\n",
        "\n",
        "# Assuming trouble_shooting_data is defined and contains \"troubleshooting_tips\"\n",
        "with open(\"troubleshooting_tips.json\", \"w\") as f:\n",
        "  # Convert the Pandas Series to a list of dictionaries before dumping\n",
        "   json.dump([dict(row) for index, row in trouble_shooting_data[\"troubleshooting_tips\"].items()], f)\n"
      ],
      "metadata": {
        "id": "8IwUYz_WOiZW"
      },
      "id": "8IwUYz_WOiZW",
      "execution_count": null,
      "outputs": []
    },
    {
      "cell_type": "code",
      "execution_count": null,
      "id": "6a4f1144-88f2-4cf7-9120-676db70748a4",
      "metadata": {
        "id": "6a4f1144-88f2-4cf7-9120-676db70748a4"
      },
      "outputs": [],
      "source": [
        "def tokenize_function(trouble_shooting_tips):\n",
        "    print(trouble_shooting_tips)\n",
        "\n",
        "    text =trouble_shooting_tips[\"error_type\"] #+ \" \" + trouble_shooting_tips[\"example\"] + \" \" + trouble_shooting_tips[\"solution\"]\n",
        "    print(text)\n",
        "    tokenizer.pad_token = tokenizer.eos_token\n",
        "    tokenized_inputs = tokenizer(\n",
        "        text,\n",
        "        return_tensors=\"np\",\n",
        "        padding=True,\n",
        "    )\n",
        "\n",
        "    max_length = min(\n",
        "        tokenized_inputs[\"input_ids\"].shape[1],\n",
        "        2048\n",
        "    )\n",
        "    tokenizer.truncation_side = \"left\"\n",
        "    tokenized_inputs = tokenizer(\n",
        "        text,\n",
        "        return_tensors=\"np\",\n",
        "        truncation=True,\n",
        "        max_length=max_length\n",
        "    )\n",
        "\n",
        "    return tokenized_inputs"
      ]
    },
    {
      "cell_type": "markdown",
      "source": [],
      "metadata": {
        "id": "_Kx33PIRAptg"
      },
      "id": "_Kx33PIRAptg"
    },
    {
      "cell_type": "markdown",
      "id": "LEozM9XU3Ee8",
      "metadata": {
        "id": "LEozM9XU3Ee8"
      },
      "source": [
        "# **Step 6: Tokenize the entire dataset**\n",
        "\n"
      ]
    },
    {
      "cell_type": "code",
      "source": [
        "finetuning_data"
      ],
      "metadata": {
        "colab": {
          "base_uri": "https://localhost:8080/"
        },
        "id": "NGa1QFXHXv3x",
        "outputId": "a128ec82-860f-4c4e-ee02-81963311145c"
      },
      "id": "NGa1QFXHXv3x",
      "execution_count": null,
      "outputs": [
        {
          "output_type": "execute_result",
          "data": {
            "text/plain": [
              "Dataset({\n",
              "    features: ['error_type', 'example', 'solution'],\n",
              "    num_rows: 11\n",
              "})"
            ]
          },
          "metadata": {},
          "execution_count": 351
        }
      ]
    },
    {
      "cell_type": "code",
      "source": [],
      "metadata": {
        "id": "GB_gffCv5mUv"
      },
      "id": "GB_gffCv5mUv",
      "execution_count": null,
      "outputs": []
    },
    {
      "cell_type": "code",
      "execution_count": null,
      "id": "91374faf-4e08-4223-a3a9-d8ccafc77679",
      "metadata": {
        "id": "91374faf-4e08-4223-a3a9-d8ccafc77679"
      },
      "outputs": [],
      "source": [
        "from datasets import load_dataset\n",
        "data= \"troubleshooting_tips.json\"\n",
        "finetuning_data = load_dataset(\"json\", data_files= data, split=\"train\")\n",
        "\n"
      ]
    },
    {
      "cell_type": "code",
      "source": [
        "finetuning_data"
      ],
      "metadata": {
        "colab": {
          "base_uri": "https://localhost:8080/"
        },
        "id": "ddHemFbfQs6i",
        "outputId": "339561f4-8738-408c-f5d2-00d78a011335"
      },
      "id": "ddHemFbfQs6i",
      "execution_count": null,
      "outputs": [
        {
          "output_type": "execute_result",
          "data": {
            "text/plain": [
              "Dataset({\n",
              "    features: ['error_type', 'example', 'solution'],\n",
              "    num_rows: 11\n",
              "})"
            ]
          },
          "metadata": {},
          "execution_count": 340
        }
      ]
    },
    {
      "cell_type": "code",
      "source": [
        "tokenized_dataset = finetuning_data.map(\n",
        "    tokenize_function,\n",
        "    batched=True,\n",
        "    batch_size=1,\n",
        "    drop_last_batch=True\n",
        ")\n",
        "\n",
        "print(tokenized_dataset)"
      ],
      "metadata": {
        "colab": {
          "base_uri": "https://localhost:8080/",
          "height": 549,
          "referenced_widgets": [
            "6cf0a9bbe06b4933b05f0b8d19ec554e",
            "ac7ea4be92f9485f945e2efbf735d9e7",
            "902fee69bbc4448482e87a7adf7c9261",
            "85c4cf7e55204e47a59c5fb424ecfd63",
            "898a393ceaf74945896b8dc1d14caf8f",
            "e159dbaab7a64952a326b6d054facc5d",
            "f39a6d1f61204df6adb7d0fcf9221848",
            "b002f0edb5ee4e248470abd03457d660",
            "45a73082cb844517a456e6be2ad2422f",
            "ca42f47e13ac4d87946efe9b8d00c4c2",
            "8297c58cdbda4dc187984558d46e64a8"
          ]
        },
        "id": "NebaBJ5ZQo0L",
        "outputId": "5d4e2cc6-8e39-4162-a037-ad7ea9a2f14f"
      },
      "id": "NebaBJ5ZQo0L",
      "execution_count": null,
      "outputs": [
        {
          "output_type": "display_data",
          "data": {
            "text/plain": [
              "Map:   0%|          | 0/11 [00:00<?, ? examples/s]"
            ],
            "application/vnd.jupyter.widget-view+json": {
              "version_major": 2,
              "version_minor": 0,
              "model_id": "6cf0a9bbe06b4933b05f0b8d19ec554e"
            }
          },
          "metadata": {}
        },
        {
          "output_type": "stream",
          "name": "stdout",
          "text": [
            "{'error_type': ['Resource Not Found'], 'example': ['Error: Error loading state: Resource not found'], 'solution': ['Check if the resource has been deleted or if the resource ID is correct. Make sure to refresh the state using `terraform refresh`.']}\n",
            "['Resource Not Found']\n",
            "{'error_type': ['Invalid Argument Error'], 'example': ['Error: Invalid value for attribute \"xyz\": expected to be a string'], 'solution': ['Verify the input variables in your `.tfvars` file or in the state. Ensure that the values passed match the expected type. Check the documentation for correct data types for resource attributes.']}\n",
            "['Invalid Argument Error']\n",
            "{'error_type': ['Provider Configuration Error'], 'example': ['Error: No provider aws exists'], 'solution': ['Ensure that the provider block is correctly defined in your configuration. Install the necessary provider with `terraform init`.']}\n",
            "['Provider Configuration Error']\n",
            "{'error_type': ['Dependency Error'], 'example': ['Error: Cycle: aws_instance.example -> aws_security_group.example'], 'solution': ['Inspect the dependency graph with `terraform graph` and resolve circular dependencies by restructuring resources or adding explicit `depends_on` attributes.']}\n",
            "['Dependency Error']\n",
            "{'error_type': ['State File Lock'], 'example': ['Error: Error acquiring the state lock'], 'solution': [\"If another process is running, wait for it to complete. If you're sure no other processes are using the state, use `terraform force-unlock <LOCK_ID>` to unlock the state file.\"]}\n",
            "['State File Lock']\n",
            "{'error_type': ['Variable Type Mismatch'], 'example': ['Error: Invalid value for variable \"ami_id\": string required.'], 'solution': ['Check the variable declaration in your `variables.tf` file for type constraints. Ensure the input value matches the expected type.']}\n",
            "['Variable Type Mismatch']\n",
            "{'error_type': ['Provider Version Conflict'], 'example': ['Error: Incompatible provider version'], 'solution': ['Specify the required provider version in your configuration using the `required_providers` block in provider definition and run `terraform init`.']}\n",
            "['Provider Version Conflict']\n",
            "{'error_type': ['Output Value Reference Error'], 'example': ['Error: Invalid reference: No attribute named \"instance_id\"'], 'solution': ['Make sure the resource you are trying to reference exists and is properly defined. Check the spelling of the output variable.']}\n",
            "['Output Value Reference Error']\n",
            "{'error_type': ['Authentication Error'], 'example': ['Error: AWS credentials are not valid'], 'solution': ['Verify your AWS credentials in the environment variables, shared credentials file, or EC2 instance profile. Ensure that they are configured correctly.']}\n",
            "['Authentication Error']\n",
            "{'error_type': ['Invalid Resource Argument'], 'example': ['Error: Missing required argument \"vpc_id\"'], 'solution': ['Double-check your resource configuration for missing required arguments. Refer to the documentation for the specific resource to ensure all required parameters are provided.']}\n",
            "['Invalid Resource Argument']\n",
            "{'error_type': ['Logical Resource Conflict'], 'example': ['Error: A resource named \"example\" already exists'], 'solution': ['Check your configuration and state to ensure you are not trying to create a resource that already exists. Consider importing the existing resource into Terraform using `terraform import`.']}\n",
            "['Logical Resource Conflict']\n",
            "Dataset({\n",
            "    features: ['error_type', 'example', 'solution', 'input_ids', 'attention_mask'],\n",
            "    num_rows: 11\n",
            "})\n"
          ]
        }
      ]
    },
    {
      "cell_type": "markdown",
      "source": [
        "map for single , apply for dtaaframe"
      ],
      "metadata": {
        "id": "UAxMPHUi3h-M"
      },
      "id": "UAxMPHUi3h-M"
    },
    {
      "cell_type": "markdown",
      "id": "S7lIOSGi3OxQ",
      "metadata": {
        "id": "S7lIOSGi3OxQ"
      },
      "source": [
        "# **Step 8: Add labels**\n",
        "\n"
      ]
    },
    {
      "cell_type": "markdown",
      "source": [
        "text classification so you are labeling"
      ],
      "metadata": {
        "id": "V0_MOOwa5Zy3"
      },
      "id": "V0_MOOwa5Zy3"
    },
    {
      "cell_type": "code",
      "execution_count": null,
      "id": "1d505bc8-dbdf-40f1-81a7-af7cf0352511",
      "metadata": {
        "id": "1d505bc8-dbdf-40f1-81a7-af7cf0352511"
      },
      "outputs": [],
      "source": [
        "tokenized_dataset = tokenized_dataset.add_column(\"labels\", tokenized_dataset[\"input_ids\"])"
      ]
    },
    {
      "cell_type": "code",
      "execution_count": null,
      "id": "zCp2jwPJ_ijq",
      "metadata": {
        "colab": {
          "base_uri": "https://localhost:8080/"
        },
        "id": "zCp2jwPJ_ijq",
        "outputId": "751cf156-8424-482f-b45c-7089f32c408e"
      },
      "outputs": [
        {
          "output_type": "execute_result",
          "data": {
            "text/plain": [
              "Dataset({\n",
              "    features: ['error_type', 'example', 'solution', 'input_ids', 'attention_mask', 'labels'],\n",
              "    num_rows: 11\n",
              "})"
            ]
          },
          "metadata": {},
          "execution_count": 359
        }
      ],
      "source": [
        "tokenized_dataset"
      ]
    },
    {
      "cell_type": "code",
      "source": [
        "pd.DataFrame(tokenized_dataset).head()"
      ],
      "metadata": {
        "colab": {
          "base_uri": "https://localhost:8080/",
          "height": 380
        },
        "id": "9lim6kDc5lvK",
        "outputId": "821545ed-9b0c-42cf-8d70-f3153c080ed6"
      },
      "id": "9lim6kDc5lvK",
      "execution_count": null,
      "outputs": [
        {
          "output_type": "execute_result",
          "data": {
            "text/plain": [
              "                     error_type  \\\n",
              "0            Resource Not Found   \n",
              "1        Invalid Argument Error   \n",
              "2  Provider Configuration Error   \n",
              "3              Dependency Error   \n",
              "4               State File Lock   \n",
              "\n",
              "                                             example  \\\n",
              "0     Error: Error loading state: Resource not found   \n",
              "1  Error: Invalid value for attribute \"xyz\": expe...   \n",
              "2                      Error: No provider aws exists   \n",
              "3  Error: Cycle: aws_instance.example -> aws_secu...   \n",
              "4              Error: Error acquiring the state lock   \n",
              "\n",
              "                                            solution              input_ids  \\\n",
              "0  Check if the resource has been deleted or if t...    [11133, 3105, 5952]   \n",
              "1  Verify the input variables in your `.tfvars` f...  [19504, 37026, 11759]   \n",
              "2  Ensure that the provider block is correctly de...  [14725, 31843, 11759]   \n",
              "3  Inspect the dependency graph with `terraform g...         [45864, 11759]   \n",
              "4  If another process is running, wait for it to ...    [5443, 8490, 19989]   \n",
              "\n",
              "  attention_mask                 labels  \n",
              "0      [1, 1, 1]    [11133, 3105, 5952]  \n",
              "1      [1, 1, 1]  [19504, 37026, 11759]  \n",
              "2      [1, 1, 1]  [14725, 31843, 11759]  \n",
              "3         [1, 1]         [45864, 11759]  \n",
              "4      [1, 1, 1]    [5443, 8490, 19989]  "
            ],
            "text/html": [
              "\n",
              "  <div id=\"df-86858296-a156-4bf3-9243-56d9ff3070d7\" class=\"colab-df-container\">\n",
              "    <div>\n",
              "<style scoped>\n",
              "    .dataframe tbody tr th:only-of-type {\n",
              "        vertical-align: middle;\n",
              "    }\n",
              "\n",
              "    .dataframe tbody tr th {\n",
              "        vertical-align: top;\n",
              "    }\n",
              "\n",
              "    .dataframe thead th {\n",
              "        text-align: right;\n",
              "    }\n",
              "</style>\n",
              "<table border=\"1\" class=\"dataframe\">\n",
              "  <thead>\n",
              "    <tr style=\"text-align: right;\">\n",
              "      <th></th>\n",
              "      <th>error_type</th>\n",
              "      <th>example</th>\n",
              "      <th>solution</th>\n",
              "      <th>input_ids</th>\n",
              "      <th>attention_mask</th>\n",
              "      <th>labels</th>\n",
              "    </tr>\n",
              "  </thead>\n",
              "  <tbody>\n",
              "    <tr>\n",
              "      <th>0</th>\n",
              "      <td>Resource Not Found</td>\n",
              "      <td>Error: Error loading state: Resource not found</td>\n",
              "      <td>Check if the resource has been deleted or if t...</td>\n",
              "      <td>[11133, 3105, 5952]</td>\n",
              "      <td>[1, 1, 1]</td>\n",
              "      <td>[11133, 3105, 5952]</td>\n",
              "    </tr>\n",
              "    <tr>\n",
              "      <th>1</th>\n",
              "      <td>Invalid Argument Error</td>\n",
              "      <td>Error: Invalid value for attribute \"xyz\": expe...</td>\n",
              "      <td>Verify the input variables in your `.tfvars` f...</td>\n",
              "      <td>[19504, 37026, 11759]</td>\n",
              "      <td>[1, 1, 1]</td>\n",
              "      <td>[19504, 37026, 11759]</td>\n",
              "    </tr>\n",
              "    <tr>\n",
              "      <th>2</th>\n",
              "      <td>Provider Configuration Error</td>\n",
              "      <td>Error: No provider aws exists</td>\n",
              "      <td>Ensure that the provider block is correctly de...</td>\n",
              "      <td>[14725, 31843, 11759]</td>\n",
              "      <td>[1, 1, 1]</td>\n",
              "      <td>[14725, 31843, 11759]</td>\n",
              "    </tr>\n",
              "    <tr>\n",
              "      <th>3</th>\n",
              "      <td>Dependency Error</td>\n",
              "      <td>Error: Cycle: aws_instance.example -&gt; aws_secu...</td>\n",
              "      <td>Inspect the dependency graph with `terraform g...</td>\n",
              "      <td>[45864, 11759]</td>\n",
              "      <td>[1, 1]</td>\n",
              "      <td>[45864, 11759]</td>\n",
              "    </tr>\n",
              "    <tr>\n",
              "      <th>4</th>\n",
              "      <td>State File Lock</td>\n",
              "      <td>Error: Error acquiring the state lock</td>\n",
              "      <td>If another process is running, wait for it to ...</td>\n",
              "      <td>[5443, 8490, 19989]</td>\n",
              "      <td>[1, 1, 1]</td>\n",
              "      <td>[5443, 8490, 19989]</td>\n",
              "    </tr>\n",
              "  </tbody>\n",
              "</table>\n",
              "</div>\n",
              "    <div class=\"colab-df-buttons\">\n",
              "\n",
              "  <div class=\"colab-df-container\">\n",
              "    <button class=\"colab-df-convert\" onclick=\"convertToInteractive('df-86858296-a156-4bf3-9243-56d9ff3070d7')\"\n",
              "            title=\"Convert this dataframe to an interactive table.\"\n",
              "            style=\"display:none;\">\n",
              "\n",
              "  <svg xmlns=\"http://www.w3.org/2000/svg\" height=\"24px\" viewBox=\"0 -960 960 960\">\n",
              "    <path d=\"M120-120v-720h720v720H120Zm60-500h600v-160H180v160Zm220 220h160v-160H400v160Zm0 220h160v-160H400v160ZM180-400h160v-160H180v160Zm440 0h160v-160H620v160ZM180-180h160v-160H180v160Zm440 0h160v-160H620v160Z\"/>\n",
              "  </svg>\n",
              "    </button>\n",
              "\n",
              "  <style>\n",
              "    .colab-df-container {\n",
              "      display:flex;\n",
              "      gap: 12px;\n",
              "    }\n",
              "\n",
              "    .colab-df-convert {\n",
              "      background-color: #E8F0FE;\n",
              "      border: none;\n",
              "      border-radius: 50%;\n",
              "      cursor: pointer;\n",
              "      display: none;\n",
              "      fill: #1967D2;\n",
              "      height: 32px;\n",
              "      padding: 0 0 0 0;\n",
              "      width: 32px;\n",
              "    }\n",
              "\n",
              "    .colab-df-convert:hover {\n",
              "      background-color: #E2EBFA;\n",
              "      box-shadow: 0px 1px 2px rgba(60, 64, 67, 0.3), 0px 1px 3px 1px rgba(60, 64, 67, 0.15);\n",
              "      fill: #174EA6;\n",
              "    }\n",
              "\n",
              "    .colab-df-buttons div {\n",
              "      margin-bottom: 4px;\n",
              "    }\n",
              "\n",
              "    [theme=dark] .colab-df-convert {\n",
              "      background-color: #3B4455;\n",
              "      fill: #D2E3FC;\n",
              "    }\n",
              "\n",
              "    [theme=dark] .colab-df-convert:hover {\n",
              "      background-color: #434B5C;\n",
              "      box-shadow: 0px 1px 3px 1px rgba(0, 0, 0, 0.15);\n",
              "      filter: drop-shadow(0px 1px 2px rgba(0, 0, 0, 0.3));\n",
              "      fill: #FFFFFF;\n",
              "    }\n",
              "  </style>\n",
              "\n",
              "    <script>\n",
              "      const buttonEl =\n",
              "        document.querySelector('#df-86858296-a156-4bf3-9243-56d9ff3070d7 button.colab-df-convert');\n",
              "      buttonEl.style.display =\n",
              "        google.colab.kernel.accessAllowed ? 'block' : 'none';\n",
              "\n",
              "      async function convertToInteractive(key) {\n",
              "        const element = document.querySelector('#df-86858296-a156-4bf3-9243-56d9ff3070d7');\n",
              "        const dataTable =\n",
              "          await google.colab.kernel.invokeFunction('convertToInteractive',\n",
              "                                                    [key], {});\n",
              "        if (!dataTable) return;\n",
              "\n",
              "        const docLinkHtml = 'Like what you see? Visit the ' +\n",
              "          '<a target=\"_blank\" href=https://colab.research.google.com/notebooks/data_table.ipynb>data table notebook</a>'\n",
              "          + ' to learn more about interactive tables.';\n",
              "        element.innerHTML = '';\n",
              "        dataTable['output_type'] = 'display_data';\n",
              "        await google.colab.output.renderOutput(dataTable, element);\n",
              "        const docLink = document.createElement('div');\n",
              "        docLink.innerHTML = docLinkHtml;\n",
              "        element.appendChild(docLink);\n",
              "      }\n",
              "    </script>\n",
              "  </div>\n",
              "\n",
              "\n",
              "<div id=\"df-73cac303-90cf-45ce-9a79-f9954ec96246\">\n",
              "  <button class=\"colab-df-quickchart\" onclick=\"quickchart('df-73cac303-90cf-45ce-9a79-f9954ec96246')\"\n",
              "            title=\"Suggest charts\"\n",
              "            style=\"display:none;\">\n",
              "\n",
              "<svg xmlns=\"http://www.w3.org/2000/svg\" height=\"24px\"viewBox=\"0 0 24 24\"\n",
              "     width=\"24px\">\n",
              "    <g>\n",
              "        <path d=\"M19 3H5c-1.1 0-2 .9-2 2v14c0 1.1.9 2 2 2h14c1.1 0 2-.9 2-2V5c0-1.1-.9-2-2-2zM9 17H7v-7h2v7zm4 0h-2V7h2v10zm4 0h-2v-4h2v4z\"/>\n",
              "    </g>\n",
              "</svg>\n",
              "  </button>\n",
              "\n",
              "<style>\n",
              "  .colab-df-quickchart {\n",
              "      --bg-color: #E8F0FE;\n",
              "      --fill-color: #1967D2;\n",
              "      --hover-bg-color: #E2EBFA;\n",
              "      --hover-fill-color: #174EA6;\n",
              "      --disabled-fill-color: #AAA;\n",
              "      --disabled-bg-color: #DDD;\n",
              "  }\n",
              "\n",
              "  [theme=dark] .colab-df-quickchart {\n",
              "      --bg-color: #3B4455;\n",
              "      --fill-color: #D2E3FC;\n",
              "      --hover-bg-color: #434B5C;\n",
              "      --hover-fill-color: #FFFFFF;\n",
              "      --disabled-bg-color: #3B4455;\n",
              "      --disabled-fill-color: #666;\n",
              "  }\n",
              "\n",
              "  .colab-df-quickchart {\n",
              "    background-color: var(--bg-color);\n",
              "    border: none;\n",
              "    border-radius: 50%;\n",
              "    cursor: pointer;\n",
              "    display: none;\n",
              "    fill: var(--fill-color);\n",
              "    height: 32px;\n",
              "    padding: 0;\n",
              "    width: 32px;\n",
              "  }\n",
              "\n",
              "  .colab-df-quickchart:hover {\n",
              "    background-color: var(--hover-bg-color);\n",
              "    box-shadow: 0 1px 2px rgba(60, 64, 67, 0.3), 0 1px 3px 1px rgba(60, 64, 67, 0.15);\n",
              "    fill: var(--button-hover-fill-color);\n",
              "  }\n",
              "\n",
              "  .colab-df-quickchart-complete:disabled,\n",
              "  .colab-df-quickchart-complete:disabled:hover {\n",
              "    background-color: var(--disabled-bg-color);\n",
              "    fill: var(--disabled-fill-color);\n",
              "    box-shadow: none;\n",
              "  }\n",
              "\n",
              "  .colab-df-spinner {\n",
              "    border: 2px solid var(--fill-color);\n",
              "    border-color: transparent;\n",
              "    border-bottom-color: var(--fill-color);\n",
              "    animation:\n",
              "      spin 1s steps(1) infinite;\n",
              "  }\n",
              "\n",
              "  @keyframes spin {\n",
              "    0% {\n",
              "      border-color: transparent;\n",
              "      border-bottom-color: var(--fill-color);\n",
              "      border-left-color: var(--fill-color);\n",
              "    }\n",
              "    20% {\n",
              "      border-color: transparent;\n",
              "      border-left-color: var(--fill-color);\n",
              "      border-top-color: var(--fill-color);\n",
              "    }\n",
              "    30% {\n",
              "      border-color: transparent;\n",
              "      border-left-color: var(--fill-color);\n",
              "      border-top-color: var(--fill-color);\n",
              "      border-right-color: var(--fill-color);\n",
              "    }\n",
              "    40% {\n",
              "      border-color: transparent;\n",
              "      border-right-color: var(--fill-color);\n",
              "      border-top-color: var(--fill-color);\n",
              "    }\n",
              "    60% {\n",
              "      border-color: transparent;\n",
              "      border-right-color: var(--fill-color);\n",
              "    }\n",
              "    80% {\n",
              "      border-color: transparent;\n",
              "      border-right-color: var(--fill-color);\n",
              "      border-bottom-color: var(--fill-color);\n",
              "    }\n",
              "    90% {\n",
              "      border-color: transparent;\n",
              "      border-bottom-color: var(--fill-color);\n",
              "    }\n",
              "  }\n",
              "</style>\n",
              "\n",
              "  <script>\n",
              "    async function quickchart(key) {\n",
              "      const quickchartButtonEl =\n",
              "        document.querySelector('#' + key + ' button');\n",
              "      quickchartButtonEl.disabled = true;  // To prevent multiple clicks.\n",
              "      quickchartButtonEl.classList.add('colab-df-spinner');\n",
              "      try {\n",
              "        const charts = await google.colab.kernel.invokeFunction(\n",
              "            'suggestCharts', [key], {});\n",
              "      } catch (error) {\n",
              "        console.error('Error during call to suggestCharts:', error);\n",
              "      }\n",
              "      quickchartButtonEl.classList.remove('colab-df-spinner');\n",
              "      quickchartButtonEl.classList.add('colab-df-quickchart-complete');\n",
              "    }\n",
              "    (() => {\n",
              "      let quickchartButtonEl =\n",
              "        document.querySelector('#df-73cac303-90cf-45ce-9a79-f9954ec96246 button');\n",
              "      quickchartButtonEl.style.display =\n",
              "        google.colab.kernel.accessAllowed ? 'block' : 'none';\n",
              "    })();\n",
              "  </script>\n",
              "</div>\n",
              "\n",
              "    </div>\n",
              "  </div>\n"
            ],
            "application/vnd.google.colaboratory.intrinsic+json": {
              "type": "dataframe",
              "summary": "{\n  \"name\": \"pd\",\n  \"rows\": 5,\n  \"fields\": [\n    {\n      \"column\": \"error_type\",\n      \"properties\": {\n        \"dtype\": \"string\",\n        \"num_unique_values\": 5,\n        \"samples\": [\n          \"Invalid Argument Error\",\n          \"State File Lock\",\n          \"Provider Configuration Error\"\n        ],\n        \"semantic_type\": \"\",\n        \"description\": \"\"\n      }\n    },\n    {\n      \"column\": \"example\",\n      \"properties\": {\n        \"dtype\": \"string\",\n        \"num_unique_values\": 5,\n        \"samples\": [\n          \"Error: Invalid value for attribute \\\"xyz\\\": expected to be a string\",\n          \"Error: Error acquiring the state lock\",\n          \"Error: No provider aws exists\"\n        ],\n        \"semantic_type\": \"\",\n        \"description\": \"\"\n      }\n    },\n    {\n      \"column\": \"solution\",\n      \"properties\": {\n        \"dtype\": \"string\",\n        \"num_unique_values\": 5,\n        \"samples\": [\n          \"Verify the input variables in your `.tfvars` file or in the state. Ensure that the values passed match the expected type. Check the documentation for correct data types for resource attributes.\",\n          \"If another process is running, wait for it to complete. If you're sure no other processes are using the state, use `terraform force-unlock <LOCK_ID>` to unlock the state file.\",\n          \"Ensure that the provider block is correctly defined in your configuration. Install the necessary provider with `terraform init`.\"\n        ],\n        \"semantic_type\": \"\",\n        \"description\": \"\"\n      }\n    },\n    {\n      \"column\": \"input_ids\",\n      \"properties\": {\n        \"dtype\": \"object\",\n        \"semantic_type\": \"\",\n        \"description\": \"\"\n      }\n    },\n    {\n      \"column\": \"attention_mask\",\n      \"properties\": {\n        \"dtype\": \"object\",\n        \"semantic_type\": \"\",\n        \"description\": \"\"\n      }\n    },\n    {\n      \"column\": \"labels\",\n      \"properties\": {\n        \"dtype\": \"object\",\n        \"semantic_type\": \"\",\n        \"description\": \"\"\n      }\n    }\n  ]\n}"
            }
          },
          "metadata": {},
          "execution_count": 360
        }
      ]
    },
    {
      "cell_type": "code",
      "source": [
        "tokenized_dataset[4]"
      ],
      "metadata": {
        "colab": {
          "base_uri": "https://localhost:8080/"
        },
        "id": "0N4yJGlz4KYO",
        "outputId": "6724815a-cbff-44a5-c244-128d58d47a63"
      },
      "id": "0N4yJGlz4KYO",
      "execution_count": null,
      "outputs": [
        {
          "output_type": "execute_result",
          "data": {
            "text/plain": [
              "{'error_type': 'State File Lock',\n",
              " 'example': 'Error: Error acquiring the state lock',\n",
              " 'solution': \"If another process is running, wait for it to complete. If you're sure no other processes are using the state, use `terraform force-unlock <LOCK_ID>` to unlock the state file.\",\n",
              " 'input_ids': [5443, 8490, 19989],\n",
              " 'attention_mask': [1, 1, 1],\n",
              " 'labels': [5443, 8490, 19989]}"
            ]
          },
          "metadata": {},
          "execution_count": 361
        }
      ]
    },
    {
      "cell_type": "markdown",
      "id": "3c32c16a-8a5d-470d-a114-c7e3a32e9aa1",
      "metadata": {
        "id": "3c32c16a-8a5d-470d-a114-c7e3a32e9aa1"
      },
      "source": [
        "# **Step 9: Prepare test/train splits**\n",
        "\n"
      ]
    },
    {
      "cell_type": "code",
      "execution_count": null,
      "id": "11623660-5adc-48c7-be13-fadad0eb2ab3",
      "metadata": {
        "colab": {
          "base_uri": "https://localhost:8080/"
        },
        "id": "11623660-5adc-48c7-be13-fadad0eb2ab3",
        "outputId": "ff989294-1761-4471-ead2-5d37c28ecd77"
      },
      "outputs": [
        {
          "output_type": "stream",
          "name": "stdout",
          "text": [
            "DatasetDict({\n",
            "    train: Dataset({\n",
            "        features: ['error_type', 'example', 'solution', 'input_ids', 'attention_mask', 'labels'],\n",
            "        num_rows: 9\n",
            "    })\n",
            "    test: Dataset({\n",
            "        features: ['error_type', 'example', 'solution', 'input_ids', 'attention_mask', 'labels'],\n",
            "        num_rows: 2\n",
            "    })\n",
            "})\n"
          ]
        }
      ],
      "source": [
        "split_dataset = tokenized_dataset.train_test_split(test_size=0.1, shuffle=True, seed=123)\n",
        "print(split_dataset)"
      ]
    },
    {
      "cell_type": "markdown",
      "source": [],
      "metadata": {
        "id": "oW30tG0x53k6"
      },
      "id": "oW30tG0x53k6"
    },
    {
      "cell_type": "code",
      "execution_count": null,
      "id": "HAbSHyq6AHeQ",
      "metadata": {
        "colab": {
          "base_uri": "https://localhost:8080/"
        },
        "id": "HAbSHyq6AHeQ",
        "outputId": "ebb34ad4-5e46-4516-e586-c228e90d3a00"
      },
      "outputs": [
        {
          "output_type": "stream",
          "name": "stdout",
          "text": [
            "{'error_type': ['Resource Not Found', 'Output Value Reference Error', 'State File Lock', 'Invalid Argument Error', 'Variable Type Mismatch'], 'example': ['Error: Error loading state: Resource not found', 'Error: Invalid reference: No attribute named \"instance_id\"', 'Error: Error acquiring the state lock', 'Error: Invalid value for attribute \"xyz\": expected to be a string', 'Error: Invalid value for variable \"ami_id\": string required.'], 'solution': ['Check if the resource has been deleted or if the resource ID is correct. Make sure to refresh the state using `terraform refresh`.', 'Make sure the resource you are trying to reference exists and is properly defined. Check the spelling of the output variable.', \"If another process is running, wait for it to complete. If you're sure no other processes are using the state, use `terraform force-unlock <LOCK_ID>` to unlock the state file.\", 'Verify the input variables in your `.tfvars` file or in the state. Ensure that the values passed match the expected type. Check the documentation for correct data types for resource attributes.', 'Check the variable declaration in your `variables.tf` file for type constraints. Ensure the input value matches the expected type.'], 'input_ids': [[11133, 3105, 5952], [11021, 11740, 19039, 11759], [5443, 8490, 19989], [19504, 37026, 11759], [23807, 8078, 353, 1204, 1506]], 'attention_mask': [[1, 1, 1], [1, 1, 1, 1], [1, 1, 1], [1, 1, 1], [1, 1, 1, 1, 1]], 'labels': [[11133, 3105, 5952], [11021, 11740, 19039, 11759], [5443, 8490, 19989], [19504, 37026, 11759], [23807, 8078, 353, 1204, 1506]]}\n"
          ]
        }
      ],
      "source": [
        "print(split_dataset[\"train\"][0:5])"
      ]
    },
    {
      "cell_type": "code",
      "execution_count": null,
      "id": "T2l3uL5xAWn0",
      "metadata": {
        "id": "T2l3uL5xAWn0"
      },
      "outputs": [],
      "source": [
        "train_df = pd.DataFrame(split_dataset[\"train\"])\n",
        "test_df = pd.DataFrame(split_dataset[\"test\"])"
      ]
    },
    {
      "cell_type": "code",
      "execution_count": null,
      "id": "YU3lHDzdAaD4",
      "metadata": {
        "colab": {
          "base_uri": "https://localhost:8080/",
          "height": 661
        },
        "id": "YU3lHDzdAaD4",
        "outputId": "8ecc50ae-6827-4dae-f642-2c9d87e23e19"
      },
      "outputs": [
        {
          "output_type": "execute_result",
          "data": {
            "text/plain": [
              "                     error_type  \\\n",
              "0            Resource Not Found   \n",
              "1  Output Value Reference Error   \n",
              "2               State File Lock   \n",
              "3        Invalid Argument Error   \n",
              "4        Variable Type Mismatch   \n",
              "5          Authentication Error   \n",
              "6     Provider Version Conflict   \n",
              "7              Dependency Error   \n",
              "8     Invalid Resource Argument   \n",
              "\n",
              "                                             example  \\\n",
              "0     Error: Error loading state: Resource not found   \n",
              "1  Error: Invalid reference: No attribute named \"...   \n",
              "2              Error: Error acquiring the state lock   \n",
              "3  Error: Invalid value for attribute \"xyz\": expe...   \n",
              "4  Error: Invalid value for variable \"ami_id\": st...   \n",
              "5               Error: AWS credentials are not valid   \n",
              "6               Error: Incompatible provider version   \n",
              "7  Error: Cycle: aws_instance.example -> aws_secu...   \n",
              "8          Error: Missing required argument \"vpc_id\"   \n",
              "\n",
              "                                            solution  \\\n",
              "0  Check if the resource has been deleted or if t...   \n",
              "1  Make sure the resource you are trying to refer...   \n",
              "2  If another process is running, wait for it to ...   \n",
              "3  Verify the input variables in your `.tfvars` f...   \n",
              "4  Check the variable declaration in your `variab...   \n",
              "5  Verify your AWS credentials in the environment...   \n",
              "6  Specify the required provider version in your ...   \n",
              "7  Inspect the dependency graph with `terraform g...   \n",
              "8  Double-check your resource configuration for m...   \n",
              "\n",
              "                        input_ids   attention_mask  \\\n",
              "0             [11133, 3105, 5952]        [1, 1, 1]   \n",
              "1    [11021, 11740, 19039, 11759]     [1, 1, 1, 1]   \n",
              "2             [5443, 8490, 19989]        [1, 1, 1]   \n",
              "3           [19504, 37026, 11759]        [1, 1, 1]   \n",
              "4  [23807, 8078, 353, 1204, 1506]  [1, 1, 1, 1, 1]   \n",
              "5                  [38305, 11759]           [1, 1]   \n",
              "6           [14725, 11099, 50072]        [1, 1, 1]   \n",
              "7                  [45864, 11759]           [1, 1]   \n",
              "8           [19504, 22106, 37026]        [1, 1, 1]   \n",
              "\n",
              "                           labels  \n",
              "0             [11133, 3105, 5952]  \n",
              "1    [11021, 11740, 19039, 11759]  \n",
              "2             [5443, 8490, 19989]  \n",
              "3           [19504, 37026, 11759]  \n",
              "4  [23807, 8078, 353, 1204, 1506]  \n",
              "5                  [38305, 11759]  \n",
              "6           [14725, 11099, 50072]  \n",
              "7                  [45864, 11759]  \n",
              "8           [19504, 22106, 37026]  "
            ],
            "text/html": [
              "\n",
              "  <div id=\"df-4432e7c0-b6e8-4096-86e1-1c99606986fc\" class=\"colab-df-container\">\n",
              "    <div>\n",
              "<style scoped>\n",
              "    .dataframe tbody tr th:only-of-type {\n",
              "        vertical-align: middle;\n",
              "    }\n",
              "\n",
              "    .dataframe tbody tr th {\n",
              "        vertical-align: top;\n",
              "    }\n",
              "\n",
              "    .dataframe thead th {\n",
              "        text-align: right;\n",
              "    }\n",
              "</style>\n",
              "<table border=\"1\" class=\"dataframe\">\n",
              "  <thead>\n",
              "    <tr style=\"text-align: right;\">\n",
              "      <th></th>\n",
              "      <th>error_type</th>\n",
              "      <th>example</th>\n",
              "      <th>solution</th>\n",
              "      <th>input_ids</th>\n",
              "      <th>attention_mask</th>\n",
              "      <th>labels</th>\n",
              "    </tr>\n",
              "  </thead>\n",
              "  <tbody>\n",
              "    <tr>\n",
              "      <th>0</th>\n",
              "      <td>Resource Not Found</td>\n",
              "      <td>Error: Error loading state: Resource not found</td>\n",
              "      <td>Check if the resource has been deleted or if t...</td>\n",
              "      <td>[11133, 3105, 5952]</td>\n",
              "      <td>[1, 1, 1]</td>\n",
              "      <td>[11133, 3105, 5952]</td>\n",
              "    </tr>\n",
              "    <tr>\n",
              "      <th>1</th>\n",
              "      <td>Output Value Reference Error</td>\n",
              "      <td>Error: Invalid reference: No attribute named \"...</td>\n",
              "      <td>Make sure the resource you are trying to refer...</td>\n",
              "      <td>[11021, 11740, 19039, 11759]</td>\n",
              "      <td>[1, 1, 1, 1]</td>\n",
              "      <td>[11021, 11740, 19039, 11759]</td>\n",
              "    </tr>\n",
              "    <tr>\n",
              "      <th>2</th>\n",
              "      <td>State File Lock</td>\n",
              "      <td>Error: Error acquiring the state lock</td>\n",
              "      <td>If another process is running, wait for it to ...</td>\n",
              "      <td>[5443, 8490, 19989]</td>\n",
              "      <td>[1, 1, 1]</td>\n",
              "      <td>[5443, 8490, 19989]</td>\n",
              "    </tr>\n",
              "    <tr>\n",
              "      <th>3</th>\n",
              "      <td>Invalid Argument Error</td>\n",
              "      <td>Error: Invalid value for attribute \"xyz\": expe...</td>\n",
              "      <td>Verify the input variables in your `.tfvars` f...</td>\n",
              "      <td>[19504, 37026, 11759]</td>\n",
              "      <td>[1, 1, 1]</td>\n",
              "      <td>[19504, 37026, 11759]</td>\n",
              "    </tr>\n",
              "    <tr>\n",
              "      <th>4</th>\n",
              "      <td>Variable Type Mismatch</td>\n",
              "      <td>Error: Invalid value for variable \"ami_id\": st...</td>\n",
              "      <td>Check the variable declaration in your `variab...</td>\n",
              "      <td>[23807, 8078, 353, 1204, 1506]</td>\n",
              "      <td>[1, 1, 1, 1, 1]</td>\n",
              "      <td>[23807, 8078, 353, 1204, 1506]</td>\n",
              "    </tr>\n",
              "    <tr>\n",
              "      <th>5</th>\n",
              "      <td>Authentication Error</td>\n",
              "      <td>Error: AWS credentials are not valid</td>\n",
              "      <td>Verify your AWS credentials in the environment...</td>\n",
              "      <td>[38305, 11759]</td>\n",
              "      <td>[1, 1]</td>\n",
              "      <td>[38305, 11759]</td>\n",
              "    </tr>\n",
              "    <tr>\n",
              "      <th>6</th>\n",
              "      <td>Provider Version Conflict</td>\n",
              "      <td>Error: Incompatible provider version</td>\n",
              "      <td>Specify the required provider version in your ...</td>\n",
              "      <td>[14725, 11099, 50072]</td>\n",
              "      <td>[1, 1, 1]</td>\n",
              "      <td>[14725, 11099, 50072]</td>\n",
              "    </tr>\n",
              "    <tr>\n",
              "      <th>7</th>\n",
              "      <td>Dependency Error</td>\n",
              "      <td>Error: Cycle: aws_instance.example -&gt; aws_secu...</td>\n",
              "      <td>Inspect the dependency graph with `terraform g...</td>\n",
              "      <td>[45864, 11759]</td>\n",
              "      <td>[1, 1]</td>\n",
              "      <td>[45864, 11759]</td>\n",
              "    </tr>\n",
              "    <tr>\n",
              "      <th>8</th>\n",
              "      <td>Invalid Resource Argument</td>\n",
              "      <td>Error: Missing required argument \"vpc_id\"</td>\n",
              "      <td>Double-check your resource configuration for m...</td>\n",
              "      <td>[19504, 22106, 37026]</td>\n",
              "      <td>[1, 1, 1]</td>\n",
              "      <td>[19504, 22106, 37026]</td>\n",
              "    </tr>\n",
              "  </tbody>\n",
              "</table>\n",
              "</div>\n",
              "    <div class=\"colab-df-buttons\">\n",
              "\n",
              "  <div class=\"colab-df-container\">\n",
              "    <button class=\"colab-df-convert\" onclick=\"convertToInteractive('df-4432e7c0-b6e8-4096-86e1-1c99606986fc')\"\n",
              "            title=\"Convert this dataframe to an interactive table.\"\n",
              "            style=\"display:none;\">\n",
              "\n",
              "  <svg xmlns=\"http://www.w3.org/2000/svg\" height=\"24px\" viewBox=\"0 -960 960 960\">\n",
              "    <path d=\"M120-120v-720h720v720H120Zm60-500h600v-160H180v160Zm220 220h160v-160H400v160Zm0 220h160v-160H400v160ZM180-400h160v-160H180v160Zm440 0h160v-160H620v160ZM180-180h160v-160H180v160Zm440 0h160v-160H620v160Z\"/>\n",
              "  </svg>\n",
              "    </button>\n",
              "\n",
              "  <style>\n",
              "    .colab-df-container {\n",
              "      display:flex;\n",
              "      gap: 12px;\n",
              "    }\n",
              "\n",
              "    .colab-df-convert {\n",
              "      background-color: #E8F0FE;\n",
              "      border: none;\n",
              "      border-radius: 50%;\n",
              "      cursor: pointer;\n",
              "      display: none;\n",
              "      fill: #1967D2;\n",
              "      height: 32px;\n",
              "      padding: 0 0 0 0;\n",
              "      width: 32px;\n",
              "    }\n",
              "\n",
              "    .colab-df-convert:hover {\n",
              "      background-color: #E2EBFA;\n",
              "      box-shadow: 0px 1px 2px rgba(60, 64, 67, 0.3), 0px 1px 3px 1px rgba(60, 64, 67, 0.15);\n",
              "      fill: #174EA6;\n",
              "    }\n",
              "\n",
              "    .colab-df-buttons div {\n",
              "      margin-bottom: 4px;\n",
              "    }\n",
              "\n",
              "    [theme=dark] .colab-df-convert {\n",
              "      background-color: #3B4455;\n",
              "      fill: #D2E3FC;\n",
              "    }\n",
              "\n",
              "    [theme=dark] .colab-df-convert:hover {\n",
              "      background-color: #434B5C;\n",
              "      box-shadow: 0px 1px 3px 1px rgba(0, 0, 0, 0.15);\n",
              "      filter: drop-shadow(0px 1px 2px rgba(0, 0, 0, 0.3));\n",
              "      fill: #FFFFFF;\n",
              "    }\n",
              "  </style>\n",
              "\n",
              "    <script>\n",
              "      const buttonEl =\n",
              "        document.querySelector('#df-4432e7c0-b6e8-4096-86e1-1c99606986fc button.colab-df-convert');\n",
              "      buttonEl.style.display =\n",
              "        google.colab.kernel.accessAllowed ? 'block' : 'none';\n",
              "\n",
              "      async function convertToInteractive(key) {\n",
              "        const element = document.querySelector('#df-4432e7c0-b6e8-4096-86e1-1c99606986fc');\n",
              "        const dataTable =\n",
              "          await google.colab.kernel.invokeFunction('convertToInteractive',\n",
              "                                                    [key], {});\n",
              "        if (!dataTable) return;\n",
              "\n",
              "        const docLinkHtml = 'Like what you see? Visit the ' +\n",
              "          '<a target=\"_blank\" href=https://colab.research.google.com/notebooks/data_table.ipynb>data table notebook</a>'\n",
              "          + ' to learn more about interactive tables.';\n",
              "        element.innerHTML = '';\n",
              "        dataTable['output_type'] = 'display_data';\n",
              "        await google.colab.output.renderOutput(dataTable, element);\n",
              "        const docLink = document.createElement('div');\n",
              "        docLink.innerHTML = docLinkHtml;\n",
              "        element.appendChild(docLink);\n",
              "      }\n",
              "    </script>\n",
              "  </div>\n",
              "\n",
              "\n",
              "<div id=\"df-3c9c3670-e06f-4de6-a34c-b06193d75b18\">\n",
              "  <button class=\"colab-df-quickchart\" onclick=\"quickchart('df-3c9c3670-e06f-4de6-a34c-b06193d75b18')\"\n",
              "            title=\"Suggest charts\"\n",
              "            style=\"display:none;\">\n",
              "\n",
              "<svg xmlns=\"http://www.w3.org/2000/svg\" height=\"24px\"viewBox=\"0 0 24 24\"\n",
              "     width=\"24px\">\n",
              "    <g>\n",
              "        <path d=\"M19 3H5c-1.1 0-2 .9-2 2v14c0 1.1.9 2 2 2h14c1.1 0 2-.9 2-2V5c0-1.1-.9-2-2-2zM9 17H7v-7h2v7zm4 0h-2V7h2v10zm4 0h-2v-4h2v4z\"/>\n",
              "    </g>\n",
              "</svg>\n",
              "  </button>\n",
              "\n",
              "<style>\n",
              "  .colab-df-quickchart {\n",
              "      --bg-color: #E8F0FE;\n",
              "      --fill-color: #1967D2;\n",
              "      --hover-bg-color: #E2EBFA;\n",
              "      --hover-fill-color: #174EA6;\n",
              "      --disabled-fill-color: #AAA;\n",
              "      --disabled-bg-color: #DDD;\n",
              "  }\n",
              "\n",
              "  [theme=dark] .colab-df-quickchart {\n",
              "      --bg-color: #3B4455;\n",
              "      --fill-color: #D2E3FC;\n",
              "      --hover-bg-color: #434B5C;\n",
              "      --hover-fill-color: #FFFFFF;\n",
              "      --disabled-bg-color: #3B4455;\n",
              "      --disabled-fill-color: #666;\n",
              "  }\n",
              "\n",
              "  .colab-df-quickchart {\n",
              "    background-color: var(--bg-color);\n",
              "    border: none;\n",
              "    border-radius: 50%;\n",
              "    cursor: pointer;\n",
              "    display: none;\n",
              "    fill: var(--fill-color);\n",
              "    height: 32px;\n",
              "    padding: 0;\n",
              "    width: 32px;\n",
              "  }\n",
              "\n",
              "  .colab-df-quickchart:hover {\n",
              "    background-color: var(--hover-bg-color);\n",
              "    box-shadow: 0 1px 2px rgba(60, 64, 67, 0.3), 0 1px 3px 1px rgba(60, 64, 67, 0.15);\n",
              "    fill: var(--button-hover-fill-color);\n",
              "  }\n",
              "\n",
              "  .colab-df-quickchart-complete:disabled,\n",
              "  .colab-df-quickchart-complete:disabled:hover {\n",
              "    background-color: var(--disabled-bg-color);\n",
              "    fill: var(--disabled-fill-color);\n",
              "    box-shadow: none;\n",
              "  }\n",
              "\n",
              "  .colab-df-spinner {\n",
              "    border: 2px solid var(--fill-color);\n",
              "    border-color: transparent;\n",
              "    border-bottom-color: var(--fill-color);\n",
              "    animation:\n",
              "      spin 1s steps(1) infinite;\n",
              "  }\n",
              "\n",
              "  @keyframes spin {\n",
              "    0% {\n",
              "      border-color: transparent;\n",
              "      border-bottom-color: var(--fill-color);\n",
              "      border-left-color: var(--fill-color);\n",
              "    }\n",
              "    20% {\n",
              "      border-color: transparent;\n",
              "      border-left-color: var(--fill-color);\n",
              "      border-top-color: var(--fill-color);\n",
              "    }\n",
              "    30% {\n",
              "      border-color: transparent;\n",
              "      border-left-color: var(--fill-color);\n",
              "      border-top-color: var(--fill-color);\n",
              "      border-right-color: var(--fill-color);\n",
              "    }\n",
              "    40% {\n",
              "      border-color: transparent;\n",
              "      border-right-color: var(--fill-color);\n",
              "      border-top-color: var(--fill-color);\n",
              "    }\n",
              "    60% {\n",
              "      border-color: transparent;\n",
              "      border-right-color: var(--fill-color);\n",
              "    }\n",
              "    80% {\n",
              "      border-color: transparent;\n",
              "      border-right-color: var(--fill-color);\n",
              "      border-bottom-color: var(--fill-color);\n",
              "    }\n",
              "    90% {\n",
              "      border-color: transparent;\n",
              "      border-bottom-color: var(--fill-color);\n",
              "    }\n",
              "  }\n",
              "</style>\n",
              "\n",
              "  <script>\n",
              "    async function quickchart(key) {\n",
              "      const quickchartButtonEl =\n",
              "        document.querySelector('#' + key + ' button');\n",
              "      quickchartButtonEl.disabled = true;  // To prevent multiple clicks.\n",
              "      quickchartButtonEl.classList.add('colab-df-spinner');\n",
              "      try {\n",
              "        const charts = await google.colab.kernel.invokeFunction(\n",
              "            'suggestCharts', [key], {});\n",
              "      } catch (error) {\n",
              "        console.error('Error during call to suggestCharts:', error);\n",
              "      }\n",
              "      quickchartButtonEl.classList.remove('colab-df-spinner');\n",
              "      quickchartButtonEl.classList.add('colab-df-quickchart-complete');\n",
              "    }\n",
              "    (() => {\n",
              "      let quickchartButtonEl =\n",
              "        document.querySelector('#df-3c9c3670-e06f-4de6-a34c-b06193d75b18 button');\n",
              "      quickchartButtonEl.style.display =\n",
              "        google.colab.kernel.accessAllowed ? 'block' : 'none';\n",
              "    })();\n",
              "  </script>\n",
              "</div>\n",
              "\n",
              "  <div id=\"id_a2f92afe-2d8f-44fc-b264-d64dedc166f1\">\n",
              "    <style>\n",
              "      .colab-df-generate {\n",
              "        background-color: #E8F0FE;\n",
              "        border: none;\n",
              "        border-radius: 50%;\n",
              "        cursor: pointer;\n",
              "        display: none;\n",
              "        fill: #1967D2;\n",
              "        height: 32px;\n",
              "        padding: 0 0 0 0;\n",
              "        width: 32px;\n",
              "      }\n",
              "\n",
              "      .colab-df-generate:hover {\n",
              "        background-color: #E2EBFA;\n",
              "        box-shadow: 0px 1px 2px rgba(60, 64, 67, 0.3), 0px 1px 3px 1px rgba(60, 64, 67, 0.15);\n",
              "        fill: #174EA6;\n",
              "      }\n",
              "\n",
              "      [theme=dark] .colab-df-generate {\n",
              "        background-color: #3B4455;\n",
              "        fill: #D2E3FC;\n",
              "      }\n",
              "\n",
              "      [theme=dark] .colab-df-generate:hover {\n",
              "        background-color: #434B5C;\n",
              "        box-shadow: 0px 1px 3px 1px rgba(0, 0, 0, 0.15);\n",
              "        filter: drop-shadow(0px 1px 2px rgba(0, 0, 0, 0.3));\n",
              "        fill: #FFFFFF;\n",
              "      }\n",
              "    </style>\n",
              "    <button class=\"colab-df-generate\" onclick=\"generateWithVariable('train_df')\"\n",
              "            title=\"Generate code using this dataframe.\"\n",
              "            style=\"display:none;\">\n",
              "\n",
              "  <svg xmlns=\"http://www.w3.org/2000/svg\" height=\"24px\"viewBox=\"0 0 24 24\"\n",
              "       width=\"24px\">\n",
              "    <path d=\"M7,19H8.4L18.45,9,17,7.55,7,17.6ZM5,21V16.75L18.45,3.32a2,2,0,0,1,2.83,0l1.4,1.43a1.91,1.91,0,0,1,.58,1.4,1.91,1.91,0,0,1-.58,1.4L9.25,21ZM18.45,9,17,7.55Zm-12,3A5.31,5.31,0,0,0,4.9,8.1,5.31,5.31,0,0,0,1,6.5,5.31,5.31,0,0,0,4.9,4.9,5.31,5.31,0,0,0,6.5,1,5.31,5.31,0,0,0,8.1,4.9,5.31,5.31,0,0,0,12,6.5,5.46,5.46,0,0,0,6.5,12Z\"/>\n",
              "  </svg>\n",
              "    </button>\n",
              "    <script>\n",
              "      (() => {\n",
              "      const buttonEl =\n",
              "        document.querySelector('#id_a2f92afe-2d8f-44fc-b264-d64dedc166f1 button.colab-df-generate');\n",
              "      buttonEl.style.display =\n",
              "        google.colab.kernel.accessAllowed ? 'block' : 'none';\n",
              "\n",
              "      buttonEl.onclick = () => {\n",
              "        google.colab.notebook.generateWithVariable('train_df');\n",
              "      }\n",
              "      })();\n",
              "    </script>\n",
              "  </div>\n",
              "\n",
              "    </div>\n",
              "  </div>\n"
            ],
            "application/vnd.google.colaboratory.intrinsic+json": {
              "type": "dataframe",
              "variable_name": "train_df",
              "summary": "{\n  \"name\": \"train_df\",\n  \"rows\": 9,\n  \"fields\": [\n    {\n      \"column\": \"error_type\",\n      \"properties\": {\n        \"dtype\": \"string\",\n        \"num_unique_values\": 9,\n        \"samples\": [\n          \"Dependency Error\",\n          \"Output Value Reference Error\",\n          \"Authentication Error\"\n        ],\n        \"semantic_type\": \"\",\n        \"description\": \"\"\n      }\n    },\n    {\n      \"column\": \"example\",\n      \"properties\": {\n        \"dtype\": \"string\",\n        \"num_unique_values\": 9,\n        \"samples\": [\n          \"Error: Cycle: aws_instance.example -> aws_security_group.example\",\n          \"Error: Invalid reference: No attribute named \\\"instance_id\\\"\",\n          \"Error: AWS credentials are not valid\"\n        ],\n        \"semantic_type\": \"\",\n        \"description\": \"\"\n      }\n    },\n    {\n      \"column\": \"solution\",\n      \"properties\": {\n        \"dtype\": \"string\",\n        \"num_unique_values\": 9,\n        \"samples\": [\n          \"Inspect the dependency graph with `terraform graph` and resolve circular dependencies by restructuring resources or adding explicit `depends_on` attributes.\",\n          \"Make sure the resource you are trying to reference exists and is properly defined. Check the spelling of the output variable.\",\n          \"Verify your AWS credentials in the environment variables, shared credentials file, or EC2 instance profile. Ensure that they are configured correctly.\"\n        ],\n        \"semantic_type\": \"\",\n        \"description\": \"\"\n      }\n    },\n    {\n      \"column\": \"input_ids\",\n      \"properties\": {\n        \"dtype\": \"object\",\n        \"semantic_type\": \"\",\n        \"description\": \"\"\n      }\n    },\n    {\n      \"column\": \"attention_mask\",\n      \"properties\": {\n        \"dtype\": \"object\",\n        \"semantic_type\": \"\",\n        \"description\": \"\"\n      }\n    },\n    {\n      \"column\": \"labels\",\n      \"properties\": {\n        \"dtype\": \"object\",\n        \"semantic_type\": \"\",\n        \"description\": \"\"\n      }\n    }\n  ]\n}"
            }
          },
          "metadata": {},
          "execution_count": 366
        }
      ],
      "source": [
        "train_df"
      ]
    },
    {
      "cell_type": "code",
      "source": [
        "test_df"
      ],
      "metadata": {
        "id": "c0W6M_QPlu1o",
        "outputId": "da9433b9-a00e-4040-c006-e2a8bb40eaba",
        "colab": {
          "base_uri": "https://localhost:8080/",
          "height": 125
        }
      },
      "id": "c0W6M_QPlu1o",
      "execution_count": null,
      "outputs": [
        {
          "output_type": "execute_result",
          "data": {
            "text/plain": [
              "                     error_type  \\\n",
              "0  Provider Configuration Error   \n",
              "1     Logical Resource Conflict   \n",
              "\n",
              "                                            example  \\\n",
              "0                     Error: No provider aws exists   \n",
              "1  Error: A resource named \"example\" already exists   \n",
              "\n",
              "                                            solution  \\\n",
              "0  Ensure that the provider block is correctly de...   \n",
              "1  Check your configuration and state to ensure y...   \n",
              "\n",
              "                   input_ids attention_mask                     labels  \n",
              "0      [14725, 31843, 11759]      [1, 1, 1]      [14725, 31843, 11759]  \n",
              "1  [6800, 474, 22106, 50072]   [1, 1, 1, 1]  [6800, 474, 22106, 50072]  "
            ],
            "text/html": [
              "\n",
              "  <div id=\"df-bb9b226e-33fa-41e7-bd90-1bcc22982515\" class=\"colab-df-container\">\n",
              "    <div>\n",
              "<style scoped>\n",
              "    .dataframe tbody tr th:only-of-type {\n",
              "        vertical-align: middle;\n",
              "    }\n",
              "\n",
              "    .dataframe tbody tr th {\n",
              "        vertical-align: top;\n",
              "    }\n",
              "\n",
              "    .dataframe thead th {\n",
              "        text-align: right;\n",
              "    }\n",
              "</style>\n",
              "<table border=\"1\" class=\"dataframe\">\n",
              "  <thead>\n",
              "    <tr style=\"text-align: right;\">\n",
              "      <th></th>\n",
              "      <th>error_type</th>\n",
              "      <th>example</th>\n",
              "      <th>solution</th>\n",
              "      <th>input_ids</th>\n",
              "      <th>attention_mask</th>\n",
              "      <th>labels</th>\n",
              "    </tr>\n",
              "  </thead>\n",
              "  <tbody>\n",
              "    <tr>\n",
              "      <th>0</th>\n",
              "      <td>Provider Configuration Error</td>\n",
              "      <td>Error: No provider aws exists</td>\n",
              "      <td>Ensure that the provider block is correctly de...</td>\n",
              "      <td>[14725, 31843, 11759]</td>\n",
              "      <td>[1, 1, 1]</td>\n",
              "      <td>[14725, 31843, 11759]</td>\n",
              "    </tr>\n",
              "    <tr>\n",
              "      <th>1</th>\n",
              "      <td>Logical Resource Conflict</td>\n",
              "      <td>Error: A resource named \"example\" already exists</td>\n",
              "      <td>Check your configuration and state to ensure y...</td>\n",
              "      <td>[6800, 474, 22106, 50072]</td>\n",
              "      <td>[1, 1, 1, 1]</td>\n",
              "      <td>[6800, 474, 22106, 50072]</td>\n",
              "    </tr>\n",
              "  </tbody>\n",
              "</table>\n",
              "</div>\n",
              "    <div class=\"colab-df-buttons\">\n",
              "\n",
              "  <div class=\"colab-df-container\">\n",
              "    <button class=\"colab-df-convert\" onclick=\"convertToInteractive('df-bb9b226e-33fa-41e7-bd90-1bcc22982515')\"\n",
              "            title=\"Convert this dataframe to an interactive table.\"\n",
              "            style=\"display:none;\">\n",
              "\n",
              "  <svg xmlns=\"http://www.w3.org/2000/svg\" height=\"24px\" viewBox=\"0 -960 960 960\">\n",
              "    <path d=\"M120-120v-720h720v720H120Zm60-500h600v-160H180v160Zm220 220h160v-160H400v160Zm0 220h160v-160H400v160ZM180-400h160v-160H180v160Zm440 0h160v-160H620v160ZM180-180h160v-160H180v160Zm440 0h160v-160H620v160Z\"/>\n",
              "  </svg>\n",
              "    </button>\n",
              "\n",
              "  <style>\n",
              "    .colab-df-container {\n",
              "      display:flex;\n",
              "      gap: 12px;\n",
              "    }\n",
              "\n",
              "    .colab-df-convert {\n",
              "      background-color: #E8F0FE;\n",
              "      border: none;\n",
              "      border-radius: 50%;\n",
              "      cursor: pointer;\n",
              "      display: none;\n",
              "      fill: #1967D2;\n",
              "      height: 32px;\n",
              "      padding: 0 0 0 0;\n",
              "      width: 32px;\n",
              "    }\n",
              "\n",
              "    .colab-df-convert:hover {\n",
              "      background-color: #E2EBFA;\n",
              "      box-shadow: 0px 1px 2px rgba(60, 64, 67, 0.3), 0px 1px 3px 1px rgba(60, 64, 67, 0.15);\n",
              "      fill: #174EA6;\n",
              "    }\n",
              "\n",
              "    .colab-df-buttons div {\n",
              "      margin-bottom: 4px;\n",
              "    }\n",
              "\n",
              "    [theme=dark] .colab-df-convert {\n",
              "      background-color: #3B4455;\n",
              "      fill: #D2E3FC;\n",
              "    }\n",
              "\n",
              "    [theme=dark] .colab-df-convert:hover {\n",
              "      background-color: #434B5C;\n",
              "      box-shadow: 0px 1px 3px 1px rgba(0, 0, 0, 0.15);\n",
              "      filter: drop-shadow(0px 1px 2px rgba(0, 0, 0, 0.3));\n",
              "      fill: #FFFFFF;\n",
              "    }\n",
              "  </style>\n",
              "\n",
              "    <script>\n",
              "      const buttonEl =\n",
              "        document.querySelector('#df-bb9b226e-33fa-41e7-bd90-1bcc22982515 button.colab-df-convert');\n",
              "      buttonEl.style.display =\n",
              "        google.colab.kernel.accessAllowed ? 'block' : 'none';\n",
              "\n",
              "      async function convertToInteractive(key) {\n",
              "        const element = document.querySelector('#df-bb9b226e-33fa-41e7-bd90-1bcc22982515');\n",
              "        const dataTable =\n",
              "          await google.colab.kernel.invokeFunction('convertToInteractive',\n",
              "                                                    [key], {});\n",
              "        if (!dataTable) return;\n",
              "\n",
              "        const docLinkHtml = 'Like what you see? Visit the ' +\n",
              "          '<a target=\"_blank\" href=https://colab.research.google.com/notebooks/data_table.ipynb>data table notebook</a>'\n",
              "          + ' to learn more about interactive tables.';\n",
              "        element.innerHTML = '';\n",
              "        dataTable['output_type'] = 'display_data';\n",
              "        await google.colab.output.renderOutput(dataTable, element);\n",
              "        const docLink = document.createElement('div');\n",
              "        docLink.innerHTML = docLinkHtml;\n",
              "        element.appendChild(docLink);\n",
              "      }\n",
              "    </script>\n",
              "  </div>\n",
              "\n",
              "\n",
              "<div id=\"df-0279ad2d-9f3d-4afb-8514-a624534b51fc\">\n",
              "  <button class=\"colab-df-quickchart\" onclick=\"quickchart('df-0279ad2d-9f3d-4afb-8514-a624534b51fc')\"\n",
              "            title=\"Suggest charts\"\n",
              "            style=\"display:none;\">\n",
              "\n",
              "<svg xmlns=\"http://www.w3.org/2000/svg\" height=\"24px\"viewBox=\"0 0 24 24\"\n",
              "     width=\"24px\">\n",
              "    <g>\n",
              "        <path d=\"M19 3H5c-1.1 0-2 .9-2 2v14c0 1.1.9 2 2 2h14c1.1 0 2-.9 2-2V5c0-1.1-.9-2-2-2zM9 17H7v-7h2v7zm4 0h-2V7h2v10zm4 0h-2v-4h2v4z\"/>\n",
              "    </g>\n",
              "</svg>\n",
              "  </button>\n",
              "\n",
              "<style>\n",
              "  .colab-df-quickchart {\n",
              "      --bg-color: #E8F0FE;\n",
              "      --fill-color: #1967D2;\n",
              "      --hover-bg-color: #E2EBFA;\n",
              "      --hover-fill-color: #174EA6;\n",
              "      --disabled-fill-color: #AAA;\n",
              "      --disabled-bg-color: #DDD;\n",
              "  }\n",
              "\n",
              "  [theme=dark] .colab-df-quickchart {\n",
              "      --bg-color: #3B4455;\n",
              "      --fill-color: #D2E3FC;\n",
              "      --hover-bg-color: #434B5C;\n",
              "      --hover-fill-color: #FFFFFF;\n",
              "      --disabled-bg-color: #3B4455;\n",
              "      --disabled-fill-color: #666;\n",
              "  }\n",
              "\n",
              "  .colab-df-quickchart {\n",
              "    background-color: var(--bg-color);\n",
              "    border: none;\n",
              "    border-radius: 50%;\n",
              "    cursor: pointer;\n",
              "    display: none;\n",
              "    fill: var(--fill-color);\n",
              "    height: 32px;\n",
              "    padding: 0;\n",
              "    width: 32px;\n",
              "  }\n",
              "\n",
              "  .colab-df-quickchart:hover {\n",
              "    background-color: var(--hover-bg-color);\n",
              "    box-shadow: 0 1px 2px rgba(60, 64, 67, 0.3), 0 1px 3px 1px rgba(60, 64, 67, 0.15);\n",
              "    fill: var(--button-hover-fill-color);\n",
              "  }\n",
              "\n",
              "  .colab-df-quickchart-complete:disabled,\n",
              "  .colab-df-quickchart-complete:disabled:hover {\n",
              "    background-color: var(--disabled-bg-color);\n",
              "    fill: var(--disabled-fill-color);\n",
              "    box-shadow: none;\n",
              "  }\n",
              "\n",
              "  .colab-df-spinner {\n",
              "    border: 2px solid var(--fill-color);\n",
              "    border-color: transparent;\n",
              "    border-bottom-color: var(--fill-color);\n",
              "    animation:\n",
              "      spin 1s steps(1) infinite;\n",
              "  }\n",
              "\n",
              "  @keyframes spin {\n",
              "    0% {\n",
              "      border-color: transparent;\n",
              "      border-bottom-color: var(--fill-color);\n",
              "      border-left-color: var(--fill-color);\n",
              "    }\n",
              "    20% {\n",
              "      border-color: transparent;\n",
              "      border-left-color: var(--fill-color);\n",
              "      border-top-color: var(--fill-color);\n",
              "    }\n",
              "    30% {\n",
              "      border-color: transparent;\n",
              "      border-left-color: var(--fill-color);\n",
              "      border-top-color: var(--fill-color);\n",
              "      border-right-color: var(--fill-color);\n",
              "    }\n",
              "    40% {\n",
              "      border-color: transparent;\n",
              "      border-right-color: var(--fill-color);\n",
              "      border-top-color: var(--fill-color);\n",
              "    }\n",
              "    60% {\n",
              "      border-color: transparent;\n",
              "      border-right-color: var(--fill-color);\n",
              "    }\n",
              "    80% {\n",
              "      border-color: transparent;\n",
              "      border-right-color: var(--fill-color);\n",
              "      border-bottom-color: var(--fill-color);\n",
              "    }\n",
              "    90% {\n",
              "      border-color: transparent;\n",
              "      border-bottom-color: var(--fill-color);\n",
              "    }\n",
              "  }\n",
              "</style>\n",
              "\n",
              "  <script>\n",
              "    async function quickchart(key) {\n",
              "      const quickchartButtonEl =\n",
              "        document.querySelector('#' + key + ' button');\n",
              "      quickchartButtonEl.disabled = true;  // To prevent multiple clicks.\n",
              "      quickchartButtonEl.classList.add('colab-df-spinner');\n",
              "      try {\n",
              "        const charts = await google.colab.kernel.invokeFunction(\n",
              "            'suggestCharts', [key], {});\n",
              "      } catch (error) {\n",
              "        console.error('Error during call to suggestCharts:', error);\n",
              "      }\n",
              "      quickchartButtonEl.classList.remove('colab-df-spinner');\n",
              "      quickchartButtonEl.classList.add('colab-df-quickchart-complete');\n",
              "    }\n",
              "    (() => {\n",
              "      let quickchartButtonEl =\n",
              "        document.querySelector('#df-0279ad2d-9f3d-4afb-8514-a624534b51fc button');\n",
              "      quickchartButtonEl.style.display =\n",
              "        google.colab.kernel.accessAllowed ? 'block' : 'none';\n",
              "    })();\n",
              "  </script>\n",
              "</div>\n",
              "\n",
              "  <div id=\"id_6a79a94e-96de-410d-8d0d-7ed6fdf06ccc\">\n",
              "    <style>\n",
              "      .colab-df-generate {\n",
              "        background-color: #E8F0FE;\n",
              "        border: none;\n",
              "        border-radius: 50%;\n",
              "        cursor: pointer;\n",
              "        display: none;\n",
              "        fill: #1967D2;\n",
              "        height: 32px;\n",
              "        padding: 0 0 0 0;\n",
              "        width: 32px;\n",
              "      }\n",
              "\n",
              "      .colab-df-generate:hover {\n",
              "        background-color: #E2EBFA;\n",
              "        box-shadow: 0px 1px 2px rgba(60, 64, 67, 0.3), 0px 1px 3px 1px rgba(60, 64, 67, 0.15);\n",
              "        fill: #174EA6;\n",
              "      }\n",
              "\n",
              "      [theme=dark] .colab-df-generate {\n",
              "        background-color: #3B4455;\n",
              "        fill: #D2E3FC;\n",
              "      }\n",
              "\n",
              "      [theme=dark] .colab-df-generate:hover {\n",
              "        background-color: #434B5C;\n",
              "        box-shadow: 0px 1px 3px 1px rgba(0, 0, 0, 0.15);\n",
              "        filter: drop-shadow(0px 1px 2px rgba(0, 0, 0, 0.3));\n",
              "        fill: #FFFFFF;\n",
              "      }\n",
              "    </style>\n",
              "    <button class=\"colab-df-generate\" onclick=\"generateWithVariable('test_df')\"\n",
              "            title=\"Generate code using this dataframe.\"\n",
              "            style=\"display:none;\">\n",
              "\n",
              "  <svg xmlns=\"http://www.w3.org/2000/svg\" height=\"24px\"viewBox=\"0 0 24 24\"\n",
              "       width=\"24px\">\n",
              "    <path d=\"M7,19H8.4L18.45,9,17,7.55,7,17.6ZM5,21V16.75L18.45,3.32a2,2,0,0,1,2.83,0l1.4,1.43a1.91,1.91,0,0,1,.58,1.4,1.91,1.91,0,0,1-.58,1.4L9.25,21ZM18.45,9,17,7.55Zm-12,3A5.31,5.31,0,0,0,4.9,8.1,5.31,5.31,0,0,0,1,6.5,5.31,5.31,0,0,0,4.9,4.9,5.31,5.31,0,0,0,6.5,1,5.31,5.31,0,0,0,8.1,4.9,5.31,5.31,0,0,0,12,6.5,5.46,5.46,0,0,0,6.5,12Z\"/>\n",
              "  </svg>\n",
              "    </button>\n",
              "    <script>\n",
              "      (() => {\n",
              "      const buttonEl =\n",
              "        document.querySelector('#id_6a79a94e-96de-410d-8d0d-7ed6fdf06ccc button.colab-df-generate');\n",
              "      buttonEl.style.display =\n",
              "        google.colab.kernel.accessAllowed ? 'block' : 'none';\n",
              "\n",
              "      buttonEl.onclick = () => {\n",
              "        google.colab.notebook.generateWithVariable('test_df');\n",
              "      }\n",
              "      })();\n",
              "    </script>\n",
              "  </div>\n",
              "\n",
              "    </div>\n",
              "  </div>\n"
            ],
            "application/vnd.google.colaboratory.intrinsic+json": {
              "type": "dataframe",
              "variable_name": "test_df",
              "summary": "{\n  \"name\": \"test_df\",\n  \"rows\": 2,\n  \"fields\": [\n    {\n      \"column\": \"error_type\",\n      \"properties\": {\n        \"dtype\": \"string\",\n        \"num_unique_values\": 2,\n        \"samples\": [\n          \"Logical Resource Conflict\",\n          \"Provider Configuration Error\"\n        ],\n        \"semantic_type\": \"\",\n        \"description\": \"\"\n      }\n    },\n    {\n      \"column\": \"example\",\n      \"properties\": {\n        \"dtype\": \"string\",\n        \"num_unique_values\": 2,\n        \"samples\": [\n          \"Error: A resource named \\\"example\\\" already exists\",\n          \"Error: No provider aws exists\"\n        ],\n        \"semantic_type\": \"\",\n        \"description\": \"\"\n      }\n    },\n    {\n      \"column\": \"solution\",\n      \"properties\": {\n        \"dtype\": \"string\",\n        \"num_unique_values\": 2,\n        \"samples\": [\n          \"Check your configuration and state to ensure you are not trying to create a resource that already exists. Consider importing the existing resource into Terraform using `terraform import`.\",\n          \"Ensure that the provider block is correctly defined in your configuration. Install the necessary provider with `terraform init`.\"\n        ],\n        \"semantic_type\": \"\",\n        \"description\": \"\"\n      }\n    },\n    {\n      \"column\": \"input_ids\",\n      \"properties\": {\n        \"dtype\": \"object\",\n        \"semantic_type\": \"\",\n        \"description\": \"\"\n      }\n    },\n    {\n      \"column\": \"attention_mask\",\n      \"properties\": {\n        \"dtype\": \"object\",\n        \"semantic_type\": \"\",\n        \"description\": \"\"\n      }\n    },\n    {\n      \"column\": \"labels\",\n      \"properties\": {\n        \"dtype\": \"object\",\n        \"semantic_type\": \"\",\n        \"description\": \"\"\n      }\n    }\n  ]\n}"
            }
          },
          "metadata": {},
          "execution_count": 367
        }
      ]
    },
    {
      "cell_type": "markdown",
      "id": "f7Z1DqTC3fD5",
      "metadata": {
        "id": "f7Z1DqTC3fD5"
      },
      "source": [
        "\n",
        "\n",
        "# **Conclusion:**\n",
        "This concludes the data preparation process for fine-tuning a Language Learning Model. The next steps would involve setting up the model, fine-tuning it on the training data, and evaluating its performance on the test data.\n"
      ]
    }
  ],
  "metadata": {
    "colab": {
      "provenance": [],
      "include_colab_link": true
    },
    "kernelspec": {
      "display_name": "Python 3 [3.10]",
      "language": "python",
      "name": "python3"
    },
    "language_info": {
      "codemirror_mode": {
        "name": "ipython",
        "version": 3
      },
      "file_extension": ".py",
      "mimetype": "text/x-python",
      "name": "python",
      "nbconvert_exporter": "python",
      "pygments_lexer": "ipython3",
      "version": "3.10.2"
    },
    "widgets": {
      "application/vnd.jupyter.widget-state+json": {
        "6cf0a9bbe06b4933b05f0b8d19ec554e": {
          "model_module": "@jupyter-widgets/controls",
          "model_name": "HBoxModel",
          "model_module_version": "1.5.0",
          "state": {
            "_dom_classes": [],
            "_model_module": "@jupyter-widgets/controls",
            "_model_module_version": "1.5.0",
            "_model_name": "HBoxModel",
            "_view_count": null,
            "_view_module": "@jupyter-widgets/controls",
            "_view_module_version": "1.5.0",
            "_view_name": "HBoxView",
            "box_style": "",
            "children": [
              "IPY_MODEL_ac7ea4be92f9485f945e2efbf735d9e7",
              "IPY_MODEL_902fee69bbc4448482e87a7adf7c9261",
              "IPY_MODEL_85c4cf7e55204e47a59c5fb424ecfd63"
            ],
            "layout": "IPY_MODEL_898a393ceaf74945896b8dc1d14caf8f"
          }
        },
        "ac7ea4be92f9485f945e2efbf735d9e7": {
          "model_module": "@jupyter-widgets/controls",
          "model_name": "HTMLModel",
          "model_module_version": "1.5.0",
          "state": {
            "_dom_classes": [],
            "_model_module": "@jupyter-widgets/controls",
            "_model_module_version": "1.5.0",
            "_model_name": "HTMLModel",
            "_view_count": null,
            "_view_module": "@jupyter-widgets/controls",
            "_view_module_version": "1.5.0",
            "_view_name": "HTMLView",
            "description": "",
            "description_tooltip": null,
            "layout": "IPY_MODEL_e159dbaab7a64952a326b6d054facc5d",
            "placeholder": "​",
            "style": "IPY_MODEL_f39a6d1f61204df6adb7d0fcf9221848",
            "value": "Map: 100%"
          }
        },
        "902fee69bbc4448482e87a7adf7c9261": {
          "model_module": "@jupyter-widgets/controls",
          "model_name": "FloatProgressModel",
          "model_module_version": "1.5.0",
          "state": {
            "_dom_classes": [],
            "_model_module": "@jupyter-widgets/controls",
            "_model_module_version": "1.5.0",
            "_model_name": "FloatProgressModel",
            "_view_count": null,
            "_view_module": "@jupyter-widgets/controls",
            "_view_module_version": "1.5.0",
            "_view_name": "ProgressView",
            "bar_style": "success",
            "description": "",
            "description_tooltip": null,
            "layout": "IPY_MODEL_b002f0edb5ee4e248470abd03457d660",
            "max": 11,
            "min": 0,
            "orientation": "horizontal",
            "style": "IPY_MODEL_45a73082cb844517a456e6be2ad2422f",
            "value": 11
          }
        },
        "85c4cf7e55204e47a59c5fb424ecfd63": {
          "model_module": "@jupyter-widgets/controls",
          "model_name": "HTMLModel",
          "model_module_version": "1.5.0",
          "state": {
            "_dom_classes": [],
            "_model_module": "@jupyter-widgets/controls",
            "_model_module_version": "1.5.0",
            "_model_name": "HTMLModel",
            "_view_count": null,
            "_view_module": "@jupyter-widgets/controls",
            "_view_module_version": "1.5.0",
            "_view_name": "HTMLView",
            "description": "",
            "description_tooltip": null,
            "layout": "IPY_MODEL_ca42f47e13ac4d87946efe9b8d00c4c2",
            "placeholder": "​",
            "style": "IPY_MODEL_8297c58cdbda4dc187984558d46e64a8",
            "value": " 11/11 [00:00&lt;00:00, 206.88 examples/s]"
          }
        },
        "898a393ceaf74945896b8dc1d14caf8f": {
          "model_module": "@jupyter-widgets/base",
          "model_name": "LayoutModel",
          "model_module_version": "1.2.0",
          "state": {
            "_model_module": "@jupyter-widgets/base",
            "_model_module_version": "1.2.0",
            "_model_name": "LayoutModel",
            "_view_count": null,
            "_view_module": "@jupyter-widgets/base",
            "_view_module_version": "1.2.0",
            "_view_name": "LayoutView",
            "align_content": null,
            "align_items": null,
            "align_self": null,
            "border": null,
            "bottom": null,
            "display": null,
            "flex": null,
            "flex_flow": null,
            "grid_area": null,
            "grid_auto_columns": null,
            "grid_auto_flow": null,
            "grid_auto_rows": null,
            "grid_column": null,
            "grid_gap": null,
            "grid_row": null,
            "grid_template_areas": null,
            "grid_template_columns": null,
            "grid_template_rows": null,
            "height": null,
            "justify_content": null,
            "justify_items": null,
            "left": null,
            "margin": null,
            "max_height": null,
            "max_width": null,
            "min_height": null,
            "min_width": null,
            "object_fit": null,
            "object_position": null,
            "order": null,
            "overflow": null,
            "overflow_x": null,
            "overflow_y": null,
            "padding": null,
            "right": null,
            "top": null,
            "visibility": null,
            "width": null
          }
        },
        "e159dbaab7a64952a326b6d054facc5d": {
          "model_module": "@jupyter-widgets/base",
          "model_name": "LayoutModel",
          "model_module_version": "1.2.0",
          "state": {
            "_model_module": "@jupyter-widgets/base",
            "_model_module_version": "1.2.0",
            "_model_name": "LayoutModel",
            "_view_count": null,
            "_view_module": "@jupyter-widgets/base",
            "_view_module_version": "1.2.0",
            "_view_name": "LayoutView",
            "align_content": null,
            "align_items": null,
            "align_self": null,
            "border": null,
            "bottom": null,
            "display": null,
            "flex": null,
            "flex_flow": null,
            "grid_area": null,
            "grid_auto_columns": null,
            "grid_auto_flow": null,
            "grid_auto_rows": null,
            "grid_column": null,
            "grid_gap": null,
            "grid_row": null,
            "grid_template_areas": null,
            "grid_template_columns": null,
            "grid_template_rows": null,
            "height": null,
            "justify_content": null,
            "justify_items": null,
            "left": null,
            "margin": null,
            "max_height": null,
            "max_width": null,
            "min_height": null,
            "min_width": null,
            "object_fit": null,
            "object_position": null,
            "order": null,
            "overflow": null,
            "overflow_x": null,
            "overflow_y": null,
            "padding": null,
            "right": null,
            "top": null,
            "visibility": null,
            "width": null
          }
        },
        "f39a6d1f61204df6adb7d0fcf9221848": {
          "model_module": "@jupyter-widgets/controls",
          "model_name": "DescriptionStyleModel",
          "model_module_version": "1.5.0",
          "state": {
            "_model_module": "@jupyter-widgets/controls",
            "_model_module_version": "1.5.0",
            "_model_name": "DescriptionStyleModel",
            "_view_count": null,
            "_view_module": "@jupyter-widgets/base",
            "_view_module_version": "1.2.0",
            "_view_name": "StyleView",
            "description_width": ""
          }
        },
        "b002f0edb5ee4e248470abd03457d660": {
          "model_module": "@jupyter-widgets/base",
          "model_name": "LayoutModel",
          "model_module_version": "1.2.0",
          "state": {
            "_model_module": "@jupyter-widgets/base",
            "_model_module_version": "1.2.0",
            "_model_name": "LayoutModel",
            "_view_count": null,
            "_view_module": "@jupyter-widgets/base",
            "_view_module_version": "1.2.0",
            "_view_name": "LayoutView",
            "align_content": null,
            "align_items": null,
            "align_self": null,
            "border": null,
            "bottom": null,
            "display": null,
            "flex": null,
            "flex_flow": null,
            "grid_area": null,
            "grid_auto_columns": null,
            "grid_auto_flow": null,
            "grid_auto_rows": null,
            "grid_column": null,
            "grid_gap": null,
            "grid_row": null,
            "grid_template_areas": null,
            "grid_template_columns": null,
            "grid_template_rows": null,
            "height": null,
            "justify_content": null,
            "justify_items": null,
            "left": null,
            "margin": null,
            "max_height": null,
            "max_width": null,
            "min_height": null,
            "min_width": null,
            "object_fit": null,
            "object_position": null,
            "order": null,
            "overflow": null,
            "overflow_x": null,
            "overflow_y": null,
            "padding": null,
            "right": null,
            "top": null,
            "visibility": null,
            "width": null
          }
        },
        "45a73082cb844517a456e6be2ad2422f": {
          "model_module": "@jupyter-widgets/controls",
          "model_name": "ProgressStyleModel",
          "model_module_version": "1.5.0",
          "state": {
            "_model_module": "@jupyter-widgets/controls",
            "_model_module_version": "1.5.0",
            "_model_name": "ProgressStyleModel",
            "_view_count": null,
            "_view_module": "@jupyter-widgets/base",
            "_view_module_version": "1.2.0",
            "_view_name": "StyleView",
            "bar_color": null,
            "description_width": ""
          }
        },
        "ca42f47e13ac4d87946efe9b8d00c4c2": {
          "model_module": "@jupyter-widgets/base",
          "model_name": "LayoutModel",
          "model_module_version": "1.2.0",
          "state": {
            "_model_module": "@jupyter-widgets/base",
            "_model_module_version": "1.2.0",
            "_model_name": "LayoutModel",
            "_view_count": null,
            "_view_module": "@jupyter-widgets/base",
            "_view_module_version": "1.2.0",
            "_view_name": "LayoutView",
            "align_content": null,
            "align_items": null,
            "align_self": null,
            "border": null,
            "bottom": null,
            "display": null,
            "flex": null,
            "flex_flow": null,
            "grid_area": null,
            "grid_auto_columns": null,
            "grid_auto_flow": null,
            "grid_auto_rows": null,
            "grid_column": null,
            "grid_gap": null,
            "grid_row": null,
            "grid_template_areas": null,
            "grid_template_columns": null,
            "grid_template_rows": null,
            "height": null,
            "justify_content": null,
            "justify_items": null,
            "left": null,
            "margin": null,
            "max_height": null,
            "max_width": null,
            "min_height": null,
            "min_width": null,
            "object_fit": null,
            "object_position": null,
            "order": null,
            "overflow": null,
            "overflow_x": null,
            "overflow_y": null,
            "padding": null,
            "right": null,
            "top": null,
            "visibility": null,
            "width": null
          }
        },
        "8297c58cdbda4dc187984558d46e64a8": {
          "model_module": "@jupyter-widgets/controls",
          "model_name": "DescriptionStyleModel",
          "model_module_version": "1.5.0",
          "state": {
            "_model_module": "@jupyter-widgets/controls",
            "_model_module_version": "1.5.0",
            "_model_name": "DescriptionStyleModel",
            "_view_count": null,
            "_view_module": "@jupyter-widgets/base",
            "_view_module_version": "1.2.0",
            "_view_name": "StyleView",
            "description_width": ""
          }
        }
      }
    }
  },
  "nbformat": 4,
  "nbformat_minor": 5
}