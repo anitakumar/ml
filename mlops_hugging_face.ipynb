{
  "nbformat": 4,
  "nbformat_minor": 0,
  "metadata": {
    "colab": {
      "provenance": [],
      "authorship_tag": "ABX9TyNEV4hiMAyv1aodTFgUp5MU",
      "include_colab_link": true
    },
    "kernelspec": {
      "name": "python3",
      "display_name": "Python 3"
    },
    "language_info": {
      "name": "python"
    }
  },
  "cells": [
    {
      "cell_type": "markdown",
      "metadata": {
        "id": "view-in-github",
        "colab_type": "text"
      },
      "source": [
        "<a href=\"https://colab.research.google.com/github/anitakumar/ml/blob/main/mlops_hugging_face.ipynb\" target=\"_parent\"><img src=\"https://colab.research.google.com/assets/colab-badge.svg\" alt=\"Open In Colab\"/></a>"
      ]
    },
    {
      "cell_type": "markdown",
      "source": [
        "##Download the ranformer model form Hugging face and use generators to generate test, sentiment and langiage translations"
      ],
      "metadata": {
        "id": "volSmw8ce9p7"
      }
    },
    {
      "cell_type": "code",
      "source": [
        "!pip install transformers"
      ],
      "metadata": {
        "colab": {
          "base_uri": "https://localhost:8080/"
        },
        "id": "ilcD_dQSIKc5",
        "outputId": "cb363afc-e0bd-49f3-a4ec-4fe0d0dc5280"
      },
      "execution_count": 1,
      "outputs": [
        {
          "output_type": "stream",
          "name": "stdout",
          "text": [
            "Requirement already satisfied: transformers in /usr/local/lib/python3.10/dist-packages (4.47.1)\n",
            "Requirement already satisfied: filelock in /usr/local/lib/python3.10/dist-packages (from transformers) (3.16.1)\n",
            "Requirement already satisfied: huggingface-hub<1.0,>=0.24.0 in /usr/local/lib/python3.10/dist-packages (from transformers) (0.27.0)\n",
            "Requirement already satisfied: numpy>=1.17 in /usr/local/lib/python3.10/dist-packages (from transformers) (1.26.4)\n",
            "Requirement already satisfied: packaging>=20.0 in /usr/local/lib/python3.10/dist-packages (from transformers) (24.2)\n",
            "Requirement already satisfied: pyyaml>=5.1 in /usr/local/lib/python3.10/dist-packages (from transformers) (6.0.2)\n",
            "Requirement already satisfied: regex!=2019.12.17 in /usr/local/lib/python3.10/dist-packages (from transformers) (2024.11.6)\n",
            "Requirement already satisfied: requests in /usr/local/lib/python3.10/dist-packages (from transformers) (2.32.3)\n",
            "Requirement already satisfied: tokenizers<0.22,>=0.21 in /usr/local/lib/python3.10/dist-packages (from transformers) (0.21.0)\n",
            "Requirement already satisfied: safetensors>=0.4.1 in /usr/local/lib/python3.10/dist-packages (from transformers) (0.4.5)\n",
            "Requirement already satisfied: tqdm>=4.27 in /usr/local/lib/python3.10/dist-packages (from transformers) (4.67.1)\n",
            "Requirement already satisfied: fsspec>=2023.5.0 in /usr/local/lib/python3.10/dist-packages (from huggingface-hub<1.0,>=0.24.0->transformers) (2024.10.0)\n",
            "Requirement already satisfied: typing-extensions>=3.7.4.3 in /usr/local/lib/python3.10/dist-packages (from huggingface-hub<1.0,>=0.24.0->transformers) (4.12.2)\n",
            "Requirement already satisfied: charset-normalizer<4,>=2 in /usr/local/lib/python3.10/dist-packages (from requests->transformers) (3.4.0)\n",
            "Requirement already satisfied: idna<4,>=2.5 in /usr/local/lib/python3.10/dist-packages (from requests->transformers) (3.10)\n",
            "Requirement already satisfied: urllib3<3,>=1.21.1 in /usr/local/lib/python3.10/dist-packages (from requests->transformers) (2.2.3)\n",
            "Requirement already satisfied: certifi>=2017.4.17 in /usr/local/lib/python3.10/dist-packages (from requests->transformers) (2024.12.14)\n"
          ]
        }
      ]
    },
    {
      "cell_type": "code",
      "execution_count": 2,
      "metadata": {
        "id": "lxhZgsagICf1"
      },
      "outputs": [],
      "source": [
        "from transformers import pipeline"
      ]
    },
    {
      "cell_type": "code",
      "source": [
        "generator= pipeline('text-generation',model='gpt2',max_new_tokens=251)"
      ],
      "metadata": {
        "colab": {
          "base_uri": "https://localhost:8080/"
        },
        "id": "JpdODMK1b5-D",
        "outputId": "edfef727-68c8-4fe3-ac53-f4c4acf84137"
      },
      "execution_count": 7,
      "outputs": [
        {
          "output_type": "stream",
          "name": "stderr",
          "text": [
            "Device set to use cpu\n"
          ]
        }
      ]
    },
    {
      "cell_type": "code",
      "source": [
        "#Sumarize\n",
        "generator(\"\"\"summarize :Since deep learning and machine learning tend to be used interchangeably, it’s worth noting the nuances between the two. Machine learning, deep learning, and neural networks are all sub-fields of artificial intelligence. However, neural networks is actually a sub-field of machine learning, and deep learning is a sub-field of neural networks. The way in which deep learning and machine learning differ is in how each algorithm learns. \"Deep\" machine learning can use labeled datasets, also known as supervised learning, to inform its algorithm, but it doesn’t necessarily require a labeled dataset. The deep learning process can ingest unstructured data in its raw form (e.g., text or images), and it can automatically determine the set of features which distinguish different categories of data from one another. This eliminates some of the human intervention required and enables the use of large amounts of data. You can think of deep learning as \"scalable machine learning\" as Lex Fridman notes in this MIT lecture1. Classical, or \"non-deep,\" machine learning is more dependent on human intervention to learn. Human experts determine the set of features to understand the differences between data inputs, usually requiring more structured data to learn.\"\"\")"
      ],
      "metadata": {
        "colab": {
          "base_uri": "https://localhost:8080/"
        },
        "id": "CIbz2Zi3cKdW",
        "outputId": "a2c65c7b-8418-4f3b-9861-127168cfc685"
      },
      "execution_count": 8,
      "outputs": [
        {
          "output_type": "stream",
          "name": "stderr",
          "text": [
            "Setting `pad_token_id` to `eos_token_id`:50256 for open-end generation.\n"
          ]
        },
        {
          "output_type": "execute_result",
          "data": {
            "text/plain": [
              "[{'generated_text': 'summarize :Since deep learning and machine learning tend to be used interchangeably, it’s worth noting the nuances between the two. Machine learning, deep learning, and neural networks are all sub-fields of artificial intelligence. However, neural networks is actually a sub-field of machine learning, and deep learning is a sub-field of neural networks. The way in which deep learning and machine learning differ is in how each algorithm learns. \"Deep\" machine learning can use labeled datasets, also known as supervised learning, to inform its algorithm, but it doesn’t necessarily require a labeled dataset. The deep learning process can ingest unstructured data in its raw form (e.g., text or images), and it can automatically determine the set of features which distinguish different categories of data from one another. This eliminates some of the human intervention required and enables the use of large amounts of data. You can think of deep learning as \"scalable machine learning\" as Lex Fridman notes in this MIT lecture1. Classical, or \"non-deep,\" machine learning is more dependent on human intervention to learn. Human experts determine the set of features to understand the differences between data inputs, usually requiring more structured data to learn. The human eye has many advantages over machine learning, however, and it can\\'t directly infer features from real datasets. But it can easily infer the type of data (or the type of inputs in question) from artificial intelligence — which is why deep learning can be used to infer features. A common comparison among computer (and computer-generated) neural networks and natural-intelligence models of deep learning is that of the Wolfram Language and the artificial neural network. A neural network can distinguish between two kinds of data: data it picks up from its user\\'s mouth (e.g., the words on its screen) and data it picks up from an external web site. Wolfram, for example, can recognize text, images, speech patterns from an external web site by looking at the data on it. Wolfram is \"highly adaptive toward learning new and more complex data.\" Natural-intelligence models of natural-intelligence and neural networks, for example, rely on human and artificial information. Wolfram, in effect, can deduce which of the underlying properties make up each computer model of a data-driven neural network different than the model it computes from the information it picks up from external sources. The problem is that Wolfram models have very similar features to'}]"
            ]
          },
          "metadata": {},
          "execution_count": 8
        }
      ]
    },
    {
      "cell_type": "code",
      "source": [
        "generator(\"\"\"sst2 senetence: Deep learning and neural networks are credited with accelerating progress in areas such as computer vision, natural language processing, and speech recognition.\"\"\")"
      ],
      "metadata": {
        "colab": {
          "base_uri": "https://localhost:8080/"
        },
        "id": "sBcDdbXddqoz",
        "outputId": "ec5ab49c-1ab4-4e0d-f0c4-f438f3ca2df7"
      },
      "execution_count": 9,
      "outputs": [
        {
          "output_type": "stream",
          "name": "stderr",
          "text": [
            "Setting `pad_token_id` to `eos_token_id`:50256 for open-end generation.\n"
          ]
        },
        {
          "output_type": "execute_result",
          "data": {
            "text/plain": [
              "[{'generated_text': 'sst2 senetence: Deep learning and neural networks are credited with accelerating progress in areas such as computer vision, natural language processing, and speech recognition. However, while deep learning is arguably the primary technology used to build human models, we need to explore several relevant, and often overlooked, questions.\\n\\nFirst, how much deep learning training a neural network really takes, particularly on its own terms, and how rapidly the data become better? After a few hundred neurons, the network uses an algorithm and then uses the result to build the model. Then, the model runs on the brain using various kinds of processing, such as speech recognition and language translation, and returns that data back to the network. It then uses those results as a reference to calculate the new level of learning in the neural network. As a rule of thumb, this process takes up over half the CPU in a computer with a core CPU, usually a 4GHz CPU.\\n\\nSecond, how long will the neural network have to wait (about 500 ms)? This is an important question, since each neuron has to process the last 1-8 ms in order to understand the underlying message. For example, in the early stages, it has one output after another (each one being 50 milliseconds). As the machine progresses and the data grows into a better representation of the message, it keeps advancing on a constant pace, usually up to a'}]"
            ]
          },
          "metadata": {},
          "execution_count": 9
        }
      ]
    },
    {
      "cell_type": "code",
      "source": [
        "#Questions\n",
        "generator(\"\"\"question: What is the difference between deep learning and machine learning\"\"\")"
      ],
      "metadata": {
        "colab": {
          "base_uri": "https://localhost:8080/"
        },
        "id": "uGSR4lMQd9o7",
        "outputId": "c2c0518b-5d27-4020-98a5-a1a272fe85c4"
      },
      "execution_count": 11,
      "outputs": [
        {
          "output_type": "stream",
          "name": "stderr",
          "text": [
            "Setting `pad_token_id` to `eos_token_id`:50256 for open-end generation.\n"
          ]
        },
        {
          "output_type": "execute_result",
          "data": {
            "text/plain": [
              "[{'generated_text': 'question: What is the difference between deep learning and machine learning? I\\'ve seen so many good examples for machine learning on neural networks, so I really don\\'t know if there is any difference. What is the difference between Deep-Learning and deep learning methods? In particular I\\'ve seen that machine-learning approaches tend to be less powerful than deep learning methods. As an example of such an approach using the term \"deep learning\", one might say that deep learning is about creating a process that is very simple, and it is so flexible that it never demands you perform any kind of training. One might say, \"I will write you my favorite words in six months, this morning I will look at your most common grammar mistakes and find out the correct answer,\" and so on. It\\'s really quite an incredible way to understand what you are trying to do, which is very often to understand which questions you are being asked, and which tasks you may be working on. But I\\'ve never used it as a training tool. So I guess it may have something to do with the fact that I believe machine learning has a lot more depth and sophistication than we do now in the last couple years.\\n\\nYou suggest, in this sense, deep learning is a very different approach from traditional neural networks.\\n\\nAbsolutely'}]"
            ]
          },
          "metadata": {},
          "execution_count": 11
        }
      ]
    },
    {
      "cell_type": "code",
      "source": [
        "#Translation\n",
        "generator(\"\"\"translate English to French: Deep learning and neural networks are credited with accelerating progress in areas such as computer vision, natural language processing, and speech recognition.\"\"\",max_new_tokens=400)"
      ],
      "metadata": {
        "colab": {
          "base_uri": "https://localhost:8080/"
        },
        "id": "_3PESy95eb6J",
        "outputId": "2937d88e-6194-483d-b14c-ba763ba325b2"
      },
      "execution_count": 14,
      "outputs": [
        {
          "output_type": "stream",
          "name": "stderr",
          "text": [
            "Setting `pad_token_id` to `eos_token_id`:50256 for open-end generation.\n"
          ]
        },
        {
          "output_type": "execute_result",
          "data": {
            "text/plain": [
              "[{'generated_text': 'translate English to French: Deep learning and neural networks are credited with accelerating progress in areas such as computer vision, natural language processing, and speech recognition. But more important, a key area of potential progress is developing novel protocols that can be exploited to create novel neural networks capable of taking steps to transform our everyday lives.\\n\\nDeep learning continues to evolve with each new generation of advances. Much research now points to the potential for powerful methods of learning to shape language. This opens the door to using Deep Learning in a variety of new ways.\\n\\nToday, a wide range of techniques are using Deep Learning to create novel, personalized, and novel applications of data collection and analysis. This will require a broad range of techniques and techniques of deep learning, from deep learning to machine learning and artificial intelligence.\\n\\nResearchers and companies are developing advanced architectures and algorithms that combine data to create machine vision-based networks. This gives us a chance to advance the design of artificial neural networks capable of helping in the exploration of new problems and opportunities, especially from data extraction. We hope that this research will help to advance algorithms to better understand human cognition and use our computers to more effectively interact with humans.\\n\\nFor more information, visit www.neural-network.org.'}]"
            ]
          },
          "metadata": {},
          "execution_count": 14
        }
      ]
    },
    {
      "cell_type": "markdown",
      "source": [],
      "metadata": {
        "id": "2xtcvkDYe8bv"
      }
    }
  ]
}